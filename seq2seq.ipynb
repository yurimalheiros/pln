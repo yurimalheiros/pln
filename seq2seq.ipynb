{
  "nbformat": 4,
  "nbformat_minor": 0,
  "metadata": {
    "colab": {
      "provenance": [],
      "gpuType": "T4"
    },
    "kernelspec": {
      "name": "python3",
      "display_name": "Python 3"
    },
    "language_info": {
      "name": "python"
    },
    "accelerator": "GPU",
    "widgets": {
      "application/vnd.jupyter.widget-state+json": {
        "c8648cfa8908416fa9c03c42ae59ad76": {
          "model_module": "@jupyter-widgets/controls",
          "model_name": "HBoxModel",
          "model_module_version": "1.5.0",
          "state": {
            "_dom_classes": [],
            "_model_module": "@jupyter-widgets/controls",
            "_model_module_version": "1.5.0",
            "_model_name": "HBoxModel",
            "_view_count": null,
            "_view_module": "@jupyter-widgets/controls",
            "_view_module_version": "1.5.0",
            "_view_name": "HBoxView",
            "box_style": "",
            "children": [
              "IPY_MODEL_4a6f4e108aa8425fb8df0799da95f509",
              "IPY_MODEL_d4f5bf375d4c4a66800b01d3e87aa79c",
              "IPY_MODEL_6c3823d1da9144818e36fa72531c7013"
            ],
            "layout": "IPY_MODEL_79743e7165d947f891914e661df14aa1"
          }
        },
        "4a6f4e108aa8425fb8df0799da95f509": {
          "model_module": "@jupyter-widgets/controls",
          "model_name": "HTMLModel",
          "model_module_version": "1.5.0",
          "state": {
            "_dom_classes": [],
            "_model_module": "@jupyter-widgets/controls",
            "_model_module_version": "1.5.0",
            "_model_name": "HTMLModel",
            "_view_count": null,
            "_view_module": "@jupyter-widgets/controls",
            "_view_module_version": "1.5.0",
            "_view_name": "HTMLView",
            "description": "",
            "description_tooltip": null,
            "layout": "IPY_MODEL_06d6943097324f72aa0e68dac846deff",
            "placeholder": "​",
            "style": "IPY_MODEL_06790ff5c37146b6bc54a62eed41c1cf",
            "value": "100%"
          }
        },
        "d4f5bf375d4c4a66800b01d3e87aa79c": {
          "model_module": "@jupyter-widgets/controls",
          "model_name": "FloatProgressModel",
          "model_module_version": "1.5.0",
          "state": {
            "_dom_classes": [],
            "_model_module": "@jupyter-widgets/controls",
            "_model_module_version": "1.5.0",
            "_model_name": "FloatProgressModel",
            "_view_count": null,
            "_view_module": "@jupyter-widgets/controls",
            "_view_module_version": "1.5.0",
            "_view_name": "ProgressView",
            "bar_style": "success",
            "description": "",
            "description_tooltip": null,
            "layout": "IPY_MODEL_2006ac85563b4c59aa5f5ff03f739a7a",
            "max": 50000,
            "min": 0,
            "orientation": "horizontal",
            "style": "IPY_MODEL_05d725e4d2774e3b8623442045b3f5f4",
            "value": 50000
          }
        },
        "6c3823d1da9144818e36fa72531c7013": {
          "model_module": "@jupyter-widgets/controls",
          "model_name": "HTMLModel",
          "model_module_version": "1.5.0",
          "state": {
            "_dom_classes": [],
            "_model_module": "@jupyter-widgets/controls",
            "_model_module_version": "1.5.0",
            "_model_name": "HTMLModel",
            "_view_count": null,
            "_view_module": "@jupyter-widgets/controls",
            "_view_module_version": "1.5.0",
            "_view_name": "HTMLView",
            "description": "",
            "description_tooltip": null,
            "layout": "IPY_MODEL_fb55a5d0f9a34127834492cd09e907d5",
            "placeholder": "​",
            "style": "IPY_MODEL_0e77022012e54d8e938b167fb12fcba4",
            "value": " 50000/50000 [08:48&lt;00:00, 99.04it/s]"
          }
        },
        "79743e7165d947f891914e661df14aa1": {
          "model_module": "@jupyter-widgets/base",
          "model_name": "LayoutModel",
          "model_module_version": "1.2.0",
          "state": {
            "_model_module": "@jupyter-widgets/base",
            "_model_module_version": "1.2.0",
            "_model_name": "LayoutModel",
            "_view_count": null,
            "_view_module": "@jupyter-widgets/base",
            "_view_module_version": "1.2.0",
            "_view_name": "LayoutView",
            "align_content": null,
            "align_items": null,
            "align_self": null,
            "border": null,
            "bottom": null,
            "display": null,
            "flex": null,
            "flex_flow": null,
            "grid_area": null,
            "grid_auto_columns": null,
            "grid_auto_flow": null,
            "grid_auto_rows": null,
            "grid_column": null,
            "grid_gap": null,
            "grid_row": null,
            "grid_template_areas": null,
            "grid_template_columns": null,
            "grid_template_rows": null,
            "height": null,
            "justify_content": null,
            "justify_items": null,
            "left": null,
            "margin": null,
            "max_height": null,
            "max_width": null,
            "min_height": null,
            "min_width": null,
            "object_fit": null,
            "object_position": null,
            "order": null,
            "overflow": null,
            "overflow_x": null,
            "overflow_y": null,
            "padding": null,
            "right": null,
            "top": null,
            "visibility": null,
            "width": null
          }
        },
        "06d6943097324f72aa0e68dac846deff": {
          "model_module": "@jupyter-widgets/base",
          "model_name": "LayoutModel",
          "model_module_version": "1.2.0",
          "state": {
            "_model_module": "@jupyter-widgets/base",
            "_model_module_version": "1.2.0",
            "_model_name": "LayoutModel",
            "_view_count": null,
            "_view_module": "@jupyter-widgets/base",
            "_view_module_version": "1.2.0",
            "_view_name": "LayoutView",
            "align_content": null,
            "align_items": null,
            "align_self": null,
            "border": null,
            "bottom": null,
            "display": null,
            "flex": null,
            "flex_flow": null,
            "grid_area": null,
            "grid_auto_columns": null,
            "grid_auto_flow": null,
            "grid_auto_rows": null,
            "grid_column": null,
            "grid_gap": null,
            "grid_row": null,
            "grid_template_areas": null,
            "grid_template_columns": null,
            "grid_template_rows": null,
            "height": null,
            "justify_content": null,
            "justify_items": null,
            "left": null,
            "margin": null,
            "max_height": null,
            "max_width": null,
            "min_height": null,
            "min_width": null,
            "object_fit": null,
            "object_position": null,
            "order": null,
            "overflow": null,
            "overflow_x": null,
            "overflow_y": null,
            "padding": null,
            "right": null,
            "top": null,
            "visibility": null,
            "width": null
          }
        },
        "06790ff5c37146b6bc54a62eed41c1cf": {
          "model_module": "@jupyter-widgets/controls",
          "model_name": "DescriptionStyleModel",
          "model_module_version": "1.5.0",
          "state": {
            "_model_module": "@jupyter-widgets/controls",
            "_model_module_version": "1.5.0",
            "_model_name": "DescriptionStyleModel",
            "_view_count": null,
            "_view_module": "@jupyter-widgets/base",
            "_view_module_version": "1.2.0",
            "_view_name": "StyleView",
            "description_width": ""
          }
        },
        "2006ac85563b4c59aa5f5ff03f739a7a": {
          "model_module": "@jupyter-widgets/base",
          "model_name": "LayoutModel",
          "model_module_version": "1.2.0",
          "state": {
            "_model_module": "@jupyter-widgets/base",
            "_model_module_version": "1.2.0",
            "_model_name": "LayoutModel",
            "_view_count": null,
            "_view_module": "@jupyter-widgets/base",
            "_view_module_version": "1.2.0",
            "_view_name": "LayoutView",
            "align_content": null,
            "align_items": null,
            "align_self": null,
            "border": null,
            "bottom": null,
            "display": null,
            "flex": null,
            "flex_flow": null,
            "grid_area": null,
            "grid_auto_columns": null,
            "grid_auto_flow": null,
            "grid_auto_rows": null,
            "grid_column": null,
            "grid_gap": null,
            "grid_row": null,
            "grid_template_areas": null,
            "grid_template_columns": null,
            "grid_template_rows": null,
            "height": null,
            "justify_content": null,
            "justify_items": null,
            "left": null,
            "margin": null,
            "max_height": null,
            "max_width": null,
            "min_height": null,
            "min_width": null,
            "object_fit": null,
            "object_position": null,
            "order": null,
            "overflow": null,
            "overflow_x": null,
            "overflow_y": null,
            "padding": null,
            "right": null,
            "top": null,
            "visibility": null,
            "width": null
          }
        },
        "05d725e4d2774e3b8623442045b3f5f4": {
          "model_module": "@jupyter-widgets/controls",
          "model_name": "ProgressStyleModel",
          "model_module_version": "1.5.0",
          "state": {
            "_model_module": "@jupyter-widgets/controls",
            "_model_module_version": "1.5.0",
            "_model_name": "ProgressStyleModel",
            "_view_count": null,
            "_view_module": "@jupyter-widgets/base",
            "_view_module_version": "1.2.0",
            "_view_name": "StyleView",
            "bar_color": null,
            "description_width": ""
          }
        },
        "fb55a5d0f9a34127834492cd09e907d5": {
          "model_module": "@jupyter-widgets/base",
          "model_name": "LayoutModel",
          "model_module_version": "1.2.0",
          "state": {
            "_model_module": "@jupyter-widgets/base",
            "_model_module_version": "1.2.0",
            "_model_name": "LayoutModel",
            "_view_count": null,
            "_view_module": "@jupyter-widgets/base",
            "_view_module_version": "1.2.0",
            "_view_name": "LayoutView",
            "align_content": null,
            "align_items": null,
            "align_self": null,
            "border": null,
            "bottom": null,
            "display": null,
            "flex": null,
            "flex_flow": null,
            "grid_area": null,
            "grid_auto_columns": null,
            "grid_auto_flow": null,
            "grid_auto_rows": null,
            "grid_column": null,
            "grid_gap": null,
            "grid_row": null,
            "grid_template_areas": null,
            "grid_template_columns": null,
            "grid_template_rows": null,
            "height": null,
            "justify_content": null,
            "justify_items": null,
            "left": null,
            "margin": null,
            "max_height": null,
            "max_width": null,
            "min_height": null,
            "min_width": null,
            "object_fit": null,
            "object_position": null,
            "order": null,
            "overflow": null,
            "overflow_x": null,
            "overflow_y": null,
            "padding": null,
            "right": null,
            "top": null,
            "visibility": null,
            "width": null
          }
        },
        "0e77022012e54d8e938b167fb12fcba4": {
          "model_module": "@jupyter-widgets/controls",
          "model_name": "DescriptionStyleModel",
          "model_module_version": "1.5.0",
          "state": {
            "_model_module": "@jupyter-widgets/controls",
            "_model_module_version": "1.5.0",
            "_model_name": "DescriptionStyleModel",
            "_view_count": null,
            "_view_module": "@jupyter-widgets/base",
            "_view_module_version": "1.2.0",
            "_view_name": "StyleView",
            "description_width": ""
          }
        },
        "2c79242c0df747d8ae98da5470351c98": {
          "model_module": "@jupyter-widgets/controls",
          "model_name": "HBoxModel",
          "model_module_version": "1.5.0",
          "state": {
            "_dom_classes": [],
            "_model_module": "@jupyter-widgets/controls",
            "_model_module_version": "1.5.0",
            "_model_name": "HBoxModel",
            "_view_count": null,
            "_view_module": "@jupyter-widgets/controls",
            "_view_module_version": "1.5.0",
            "_view_name": "HBoxView",
            "box_style": "",
            "children": [
              "IPY_MODEL_b63cca63d80c47e6aed5666cfd5c2e10",
              "IPY_MODEL_575e8cb607d146218098cd3fac67a168",
              "IPY_MODEL_ea14b0a445e04e36ada937b28bd2e44a"
            ],
            "layout": "IPY_MODEL_ddb7049da6a14c089e8d34af80c61306"
          }
        },
        "b63cca63d80c47e6aed5666cfd5c2e10": {
          "model_module": "@jupyter-widgets/controls",
          "model_name": "HTMLModel",
          "model_module_version": "1.5.0",
          "state": {
            "_dom_classes": [],
            "_model_module": "@jupyter-widgets/controls",
            "_model_module_version": "1.5.0",
            "_model_name": "HTMLModel",
            "_view_count": null,
            "_view_module": "@jupyter-widgets/controls",
            "_view_module_version": "1.5.0",
            "_view_name": "HTMLView",
            "description": "",
            "description_tooltip": null,
            "layout": "IPY_MODEL_61ff437b86174f59bee43f4fcd0f8ab7",
            "placeholder": "​",
            "style": "IPY_MODEL_23fed626b40641e2a3f8ff6c57b7de40",
            "value": "100%"
          }
        },
        "575e8cb607d146218098cd3fac67a168": {
          "model_module": "@jupyter-widgets/controls",
          "model_name": "FloatProgressModel",
          "model_module_version": "1.5.0",
          "state": {
            "_dom_classes": [],
            "_model_module": "@jupyter-widgets/controls",
            "_model_module_version": "1.5.0",
            "_model_name": "FloatProgressModel",
            "_view_count": null,
            "_view_module": "@jupyter-widgets/controls",
            "_view_module_version": "1.5.0",
            "_view_name": "ProgressView",
            "bar_style": "success",
            "description": "",
            "description_tooltip": null,
            "layout": "IPY_MODEL_c457c925b1fc404ba3e855a20ead1c9e",
            "max": 10000,
            "min": 0,
            "orientation": "horizontal",
            "style": "IPY_MODEL_f11651537cf84572bd0116b392d22da7",
            "value": 10000
          }
        },
        "ea14b0a445e04e36ada937b28bd2e44a": {
          "model_module": "@jupyter-widgets/controls",
          "model_name": "HTMLModel",
          "model_module_version": "1.5.0",
          "state": {
            "_dom_classes": [],
            "_model_module": "@jupyter-widgets/controls",
            "_model_module_version": "1.5.0",
            "_model_name": "HTMLModel",
            "_view_count": null,
            "_view_module": "@jupyter-widgets/controls",
            "_view_module_version": "1.5.0",
            "_view_name": "HTMLView",
            "description": "",
            "description_tooltip": null,
            "layout": "IPY_MODEL_7dcb51fb3a244780b0c49b02aa0fc4ab",
            "placeholder": "​",
            "style": "IPY_MODEL_47de74c8d7384f2cba99513e677de03b",
            "value": " 10000/10000 [00:35&lt;00:00, 219.95it/s]"
          }
        },
        "ddb7049da6a14c089e8d34af80c61306": {
          "model_module": "@jupyter-widgets/base",
          "model_name": "LayoutModel",
          "model_module_version": "1.2.0",
          "state": {
            "_model_module": "@jupyter-widgets/base",
            "_model_module_version": "1.2.0",
            "_model_name": "LayoutModel",
            "_view_count": null,
            "_view_module": "@jupyter-widgets/base",
            "_view_module_version": "1.2.0",
            "_view_name": "LayoutView",
            "align_content": null,
            "align_items": null,
            "align_self": null,
            "border": null,
            "bottom": null,
            "display": null,
            "flex": null,
            "flex_flow": null,
            "grid_area": null,
            "grid_auto_columns": null,
            "grid_auto_flow": null,
            "grid_auto_rows": null,
            "grid_column": null,
            "grid_gap": null,
            "grid_row": null,
            "grid_template_areas": null,
            "grid_template_columns": null,
            "grid_template_rows": null,
            "height": null,
            "justify_content": null,
            "justify_items": null,
            "left": null,
            "margin": null,
            "max_height": null,
            "max_width": null,
            "min_height": null,
            "min_width": null,
            "object_fit": null,
            "object_position": null,
            "order": null,
            "overflow": null,
            "overflow_x": null,
            "overflow_y": null,
            "padding": null,
            "right": null,
            "top": null,
            "visibility": null,
            "width": null
          }
        },
        "61ff437b86174f59bee43f4fcd0f8ab7": {
          "model_module": "@jupyter-widgets/base",
          "model_name": "LayoutModel",
          "model_module_version": "1.2.0",
          "state": {
            "_model_module": "@jupyter-widgets/base",
            "_model_module_version": "1.2.0",
            "_model_name": "LayoutModel",
            "_view_count": null,
            "_view_module": "@jupyter-widgets/base",
            "_view_module_version": "1.2.0",
            "_view_name": "LayoutView",
            "align_content": null,
            "align_items": null,
            "align_self": null,
            "border": null,
            "bottom": null,
            "display": null,
            "flex": null,
            "flex_flow": null,
            "grid_area": null,
            "grid_auto_columns": null,
            "grid_auto_flow": null,
            "grid_auto_rows": null,
            "grid_column": null,
            "grid_gap": null,
            "grid_row": null,
            "grid_template_areas": null,
            "grid_template_columns": null,
            "grid_template_rows": null,
            "height": null,
            "justify_content": null,
            "justify_items": null,
            "left": null,
            "margin": null,
            "max_height": null,
            "max_width": null,
            "min_height": null,
            "min_width": null,
            "object_fit": null,
            "object_position": null,
            "order": null,
            "overflow": null,
            "overflow_x": null,
            "overflow_y": null,
            "padding": null,
            "right": null,
            "top": null,
            "visibility": null,
            "width": null
          }
        },
        "23fed626b40641e2a3f8ff6c57b7de40": {
          "model_module": "@jupyter-widgets/controls",
          "model_name": "DescriptionStyleModel",
          "model_module_version": "1.5.0",
          "state": {
            "_model_module": "@jupyter-widgets/controls",
            "_model_module_version": "1.5.0",
            "_model_name": "DescriptionStyleModel",
            "_view_count": null,
            "_view_module": "@jupyter-widgets/base",
            "_view_module_version": "1.2.0",
            "_view_name": "StyleView",
            "description_width": ""
          }
        },
        "c457c925b1fc404ba3e855a20ead1c9e": {
          "model_module": "@jupyter-widgets/base",
          "model_name": "LayoutModel",
          "model_module_version": "1.2.0",
          "state": {
            "_model_module": "@jupyter-widgets/base",
            "_model_module_version": "1.2.0",
            "_model_name": "LayoutModel",
            "_view_count": null,
            "_view_module": "@jupyter-widgets/base",
            "_view_module_version": "1.2.0",
            "_view_name": "LayoutView",
            "align_content": null,
            "align_items": null,
            "align_self": null,
            "border": null,
            "bottom": null,
            "display": null,
            "flex": null,
            "flex_flow": null,
            "grid_area": null,
            "grid_auto_columns": null,
            "grid_auto_flow": null,
            "grid_auto_rows": null,
            "grid_column": null,
            "grid_gap": null,
            "grid_row": null,
            "grid_template_areas": null,
            "grid_template_columns": null,
            "grid_template_rows": null,
            "height": null,
            "justify_content": null,
            "justify_items": null,
            "left": null,
            "margin": null,
            "max_height": null,
            "max_width": null,
            "min_height": null,
            "min_width": null,
            "object_fit": null,
            "object_position": null,
            "order": null,
            "overflow": null,
            "overflow_x": null,
            "overflow_y": null,
            "padding": null,
            "right": null,
            "top": null,
            "visibility": null,
            "width": null
          }
        },
        "f11651537cf84572bd0116b392d22da7": {
          "model_module": "@jupyter-widgets/controls",
          "model_name": "ProgressStyleModel",
          "model_module_version": "1.5.0",
          "state": {
            "_model_module": "@jupyter-widgets/controls",
            "_model_module_version": "1.5.0",
            "_model_name": "ProgressStyleModel",
            "_view_count": null,
            "_view_module": "@jupyter-widgets/base",
            "_view_module_version": "1.2.0",
            "_view_name": "StyleView",
            "bar_color": null,
            "description_width": ""
          }
        },
        "7dcb51fb3a244780b0c49b02aa0fc4ab": {
          "model_module": "@jupyter-widgets/base",
          "model_name": "LayoutModel",
          "model_module_version": "1.2.0",
          "state": {
            "_model_module": "@jupyter-widgets/base",
            "_model_module_version": "1.2.0",
            "_model_name": "LayoutModel",
            "_view_count": null,
            "_view_module": "@jupyter-widgets/base",
            "_view_module_version": "1.2.0",
            "_view_name": "LayoutView",
            "align_content": null,
            "align_items": null,
            "align_self": null,
            "border": null,
            "bottom": null,
            "display": null,
            "flex": null,
            "flex_flow": null,
            "grid_area": null,
            "grid_auto_columns": null,
            "grid_auto_flow": null,
            "grid_auto_rows": null,
            "grid_column": null,
            "grid_gap": null,
            "grid_row": null,
            "grid_template_areas": null,
            "grid_template_columns": null,
            "grid_template_rows": null,
            "height": null,
            "justify_content": null,
            "justify_items": null,
            "left": null,
            "margin": null,
            "max_height": null,
            "max_width": null,
            "min_height": null,
            "min_width": null,
            "object_fit": null,
            "object_position": null,
            "order": null,
            "overflow": null,
            "overflow_x": null,
            "overflow_y": null,
            "padding": null,
            "right": null,
            "top": null,
            "visibility": null,
            "width": null
          }
        },
        "47de74c8d7384f2cba99513e677de03b": {
          "model_module": "@jupyter-widgets/controls",
          "model_name": "DescriptionStyleModel",
          "model_module_version": "1.5.0",
          "state": {
            "_model_module": "@jupyter-widgets/controls",
            "_model_module_version": "1.5.0",
            "_model_name": "DescriptionStyleModel",
            "_view_count": null,
            "_view_module": "@jupyter-widgets/base",
            "_view_module_version": "1.2.0",
            "_view_name": "StyleView",
            "description_width": ""
          }
        },
        "23af6cbff9184a96859c1a45ba5b2859": {
          "model_module": "@jupyter-widgets/controls",
          "model_name": "HBoxModel",
          "model_module_version": "1.5.0",
          "state": {
            "_dom_classes": [],
            "_model_module": "@jupyter-widgets/controls",
            "_model_module_version": "1.5.0",
            "_model_name": "HBoxModel",
            "_view_count": null,
            "_view_module": "@jupyter-widgets/controls",
            "_view_module_version": "1.5.0",
            "_view_name": "HBoxView",
            "box_style": "",
            "children": [
              "IPY_MODEL_8f13c675c30b41f8a83aee827aa3c56b",
              "IPY_MODEL_2c93ed8dafc6497ea791ad08e2a2ab07",
              "IPY_MODEL_6cd8b79f9b5d430c81019b052f627a1e"
            ],
            "layout": "IPY_MODEL_92cda9e72a8f461aa2e45dcf1f9cea78"
          }
        },
        "8f13c675c30b41f8a83aee827aa3c56b": {
          "model_module": "@jupyter-widgets/controls",
          "model_name": "HTMLModel",
          "model_module_version": "1.5.0",
          "state": {
            "_dom_classes": [],
            "_model_module": "@jupyter-widgets/controls",
            "_model_module_version": "1.5.0",
            "_model_name": "HTMLModel",
            "_view_count": null,
            "_view_module": "@jupyter-widgets/controls",
            "_view_module_version": "1.5.0",
            "_view_name": "HTMLView",
            "description": "",
            "description_tooltip": null,
            "layout": "IPY_MODEL_7f9ff4f60a58440fb186cd02974c753a",
            "placeholder": "​",
            "style": "IPY_MODEL_fa69f4343f364e7cb585d9caec1089a7",
            "value": "100%"
          }
        },
        "2c93ed8dafc6497ea791ad08e2a2ab07": {
          "model_module": "@jupyter-widgets/controls",
          "model_name": "FloatProgressModel",
          "model_module_version": "1.5.0",
          "state": {
            "_dom_classes": [],
            "_model_module": "@jupyter-widgets/controls",
            "_model_module_version": "1.5.0",
            "_model_name": "FloatProgressModel",
            "_view_count": null,
            "_view_module": "@jupyter-widgets/controls",
            "_view_module_version": "1.5.0",
            "_view_name": "ProgressView",
            "bar_style": "success",
            "description": "",
            "description_tooltip": null,
            "layout": "IPY_MODEL_cd06d8957bc04a0bb7bc2ac8a6dd0033",
            "max": 50000,
            "min": 0,
            "orientation": "horizontal",
            "style": "IPY_MODEL_56a8b40bcd424c34b14f687e15b2b2bc",
            "value": 50000
          }
        },
        "6cd8b79f9b5d430c81019b052f627a1e": {
          "model_module": "@jupyter-widgets/controls",
          "model_name": "HTMLModel",
          "model_module_version": "1.5.0",
          "state": {
            "_dom_classes": [],
            "_model_module": "@jupyter-widgets/controls",
            "_model_module_version": "1.5.0",
            "_model_name": "HTMLModel",
            "_view_count": null,
            "_view_module": "@jupyter-widgets/controls",
            "_view_module_version": "1.5.0",
            "_view_name": "HTMLView",
            "description": "",
            "description_tooltip": null,
            "layout": "IPY_MODEL_d4214df0d691423ba000b8d5a1bfe0ad",
            "placeholder": "​",
            "style": "IPY_MODEL_75855e2b5de4494c9c57ef59a17f8dff",
            "value": " 50000/50000 [08:46&lt;00:00, 98.26it/s]"
          }
        },
        "92cda9e72a8f461aa2e45dcf1f9cea78": {
          "model_module": "@jupyter-widgets/base",
          "model_name": "LayoutModel",
          "model_module_version": "1.2.0",
          "state": {
            "_model_module": "@jupyter-widgets/base",
            "_model_module_version": "1.2.0",
            "_model_name": "LayoutModel",
            "_view_count": null,
            "_view_module": "@jupyter-widgets/base",
            "_view_module_version": "1.2.0",
            "_view_name": "LayoutView",
            "align_content": null,
            "align_items": null,
            "align_self": null,
            "border": null,
            "bottom": null,
            "display": null,
            "flex": null,
            "flex_flow": null,
            "grid_area": null,
            "grid_auto_columns": null,
            "grid_auto_flow": null,
            "grid_auto_rows": null,
            "grid_column": null,
            "grid_gap": null,
            "grid_row": null,
            "grid_template_areas": null,
            "grid_template_columns": null,
            "grid_template_rows": null,
            "height": null,
            "justify_content": null,
            "justify_items": null,
            "left": null,
            "margin": null,
            "max_height": null,
            "max_width": null,
            "min_height": null,
            "min_width": null,
            "object_fit": null,
            "object_position": null,
            "order": null,
            "overflow": null,
            "overflow_x": null,
            "overflow_y": null,
            "padding": null,
            "right": null,
            "top": null,
            "visibility": null,
            "width": null
          }
        },
        "7f9ff4f60a58440fb186cd02974c753a": {
          "model_module": "@jupyter-widgets/base",
          "model_name": "LayoutModel",
          "model_module_version": "1.2.0",
          "state": {
            "_model_module": "@jupyter-widgets/base",
            "_model_module_version": "1.2.0",
            "_model_name": "LayoutModel",
            "_view_count": null,
            "_view_module": "@jupyter-widgets/base",
            "_view_module_version": "1.2.0",
            "_view_name": "LayoutView",
            "align_content": null,
            "align_items": null,
            "align_self": null,
            "border": null,
            "bottom": null,
            "display": null,
            "flex": null,
            "flex_flow": null,
            "grid_area": null,
            "grid_auto_columns": null,
            "grid_auto_flow": null,
            "grid_auto_rows": null,
            "grid_column": null,
            "grid_gap": null,
            "grid_row": null,
            "grid_template_areas": null,
            "grid_template_columns": null,
            "grid_template_rows": null,
            "height": null,
            "justify_content": null,
            "justify_items": null,
            "left": null,
            "margin": null,
            "max_height": null,
            "max_width": null,
            "min_height": null,
            "min_width": null,
            "object_fit": null,
            "object_position": null,
            "order": null,
            "overflow": null,
            "overflow_x": null,
            "overflow_y": null,
            "padding": null,
            "right": null,
            "top": null,
            "visibility": null,
            "width": null
          }
        },
        "fa69f4343f364e7cb585d9caec1089a7": {
          "model_module": "@jupyter-widgets/controls",
          "model_name": "DescriptionStyleModel",
          "model_module_version": "1.5.0",
          "state": {
            "_model_module": "@jupyter-widgets/controls",
            "_model_module_version": "1.5.0",
            "_model_name": "DescriptionStyleModel",
            "_view_count": null,
            "_view_module": "@jupyter-widgets/base",
            "_view_module_version": "1.2.0",
            "_view_name": "StyleView",
            "description_width": ""
          }
        },
        "cd06d8957bc04a0bb7bc2ac8a6dd0033": {
          "model_module": "@jupyter-widgets/base",
          "model_name": "LayoutModel",
          "model_module_version": "1.2.0",
          "state": {
            "_model_module": "@jupyter-widgets/base",
            "_model_module_version": "1.2.0",
            "_model_name": "LayoutModel",
            "_view_count": null,
            "_view_module": "@jupyter-widgets/base",
            "_view_module_version": "1.2.0",
            "_view_name": "LayoutView",
            "align_content": null,
            "align_items": null,
            "align_self": null,
            "border": null,
            "bottom": null,
            "display": null,
            "flex": null,
            "flex_flow": null,
            "grid_area": null,
            "grid_auto_columns": null,
            "grid_auto_flow": null,
            "grid_auto_rows": null,
            "grid_column": null,
            "grid_gap": null,
            "grid_row": null,
            "grid_template_areas": null,
            "grid_template_columns": null,
            "grid_template_rows": null,
            "height": null,
            "justify_content": null,
            "justify_items": null,
            "left": null,
            "margin": null,
            "max_height": null,
            "max_width": null,
            "min_height": null,
            "min_width": null,
            "object_fit": null,
            "object_position": null,
            "order": null,
            "overflow": null,
            "overflow_x": null,
            "overflow_y": null,
            "padding": null,
            "right": null,
            "top": null,
            "visibility": null,
            "width": null
          }
        },
        "56a8b40bcd424c34b14f687e15b2b2bc": {
          "model_module": "@jupyter-widgets/controls",
          "model_name": "ProgressStyleModel",
          "model_module_version": "1.5.0",
          "state": {
            "_model_module": "@jupyter-widgets/controls",
            "_model_module_version": "1.5.0",
            "_model_name": "ProgressStyleModel",
            "_view_count": null,
            "_view_module": "@jupyter-widgets/base",
            "_view_module_version": "1.2.0",
            "_view_name": "StyleView",
            "bar_color": null,
            "description_width": ""
          }
        },
        "d4214df0d691423ba000b8d5a1bfe0ad": {
          "model_module": "@jupyter-widgets/base",
          "model_name": "LayoutModel",
          "model_module_version": "1.2.0",
          "state": {
            "_model_module": "@jupyter-widgets/base",
            "_model_module_version": "1.2.0",
            "_model_name": "LayoutModel",
            "_view_count": null,
            "_view_module": "@jupyter-widgets/base",
            "_view_module_version": "1.2.0",
            "_view_name": "LayoutView",
            "align_content": null,
            "align_items": null,
            "align_self": null,
            "border": null,
            "bottom": null,
            "display": null,
            "flex": null,
            "flex_flow": null,
            "grid_area": null,
            "grid_auto_columns": null,
            "grid_auto_flow": null,
            "grid_auto_rows": null,
            "grid_column": null,
            "grid_gap": null,
            "grid_row": null,
            "grid_template_areas": null,
            "grid_template_columns": null,
            "grid_template_rows": null,
            "height": null,
            "justify_content": null,
            "justify_items": null,
            "left": null,
            "margin": null,
            "max_height": null,
            "max_width": null,
            "min_height": null,
            "min_width": null,
            "object_fit": null,
            "object_position": null,
            "order": null,
            "overflow": null,
            "overflow_x": null,
            "overflow_y": null,
            "padding": null,
            "right": null,
            "top": null,
            "visibility": null,
            "width": null
          }
        },
        "75855e2b5de4494c9c57ef59a17f8dff": {
          "model_module": "@jupyter-widgets/controls",
          "model_name": "DescriptionStyleModel",
          "model_module_version": "1.5.0",
          "state": {
            "_model_module": "@jupyter-widgets/controls",
            "_model_module_version": "1.5.0",
            "_model_name": "DescriptionStyleModel",
            "_view_count": null,
            "_view_module": "@jupyter-widgets/base",
            "_view_module_version": "1.2.0",
            "_view_name": "StyleView",
            "description_width": ""
          }
        },
        "fdb20bab2e39488c83ebe5621e2863f5": {
          "model_module": "@jupyter-widgets/controls",
          "model_name": "HBoxModel",
          "model_module_version": "1.5.0",
          "state": {
            "_dom_classes": [],
            "_model_module": "@jupyter-widgets/controls",
            "_model_module_version": "1.5.0",
            "_model_name": "HBoxModel",
            "_view_count": null,
            "_view_module": "@jupyter-widgets/controls",
            "_view_module_version": "1.5.0",
            "_view_name": "HBoxView",
            "box_style": "",
            "children": [
              "IPY_MODEL_e8a3b95c85064b0c9ec91d017642b4be",
              "IPY_MODEL_9086d53528be4f7ca24cf5cacff7cdd3",
              "IPY_MODEL_d59cd0f8635a4f6ebf36d56442a1b4f3"
            ],
            "layout": "IPY_MODEL_c78524762a0642adad9879b4ccc6b984"
          }
        },
        "e8a3b95c85064b0c9ec91d017642b4be": {
          "model_module": "@jupyter-widgets/controls",
          "model_name": "HTMLModel",
          "model_module_version": "1.5.0",
          "state": {
            "_dom_classes": [],
            "_model_module": "@jupyter-widgets/controls",
            "_model_module_version": "1.5.0",
            "_model_name": "HTMLModel",
            "_view_count": null,
            "_view_module": "@jupyter-widgets/controls",
            "_view_module_version": "1.5.0",
            "_view_name": "HTMLView",
            "description": "",
            "description_tooltip": null,
            "layout": "IPY_MODEL_f22e2dc574a6458b9a398b9de718cd6f",
            "placeholder": "​",
            "style": "IPY_MODEL_1c4ea2a15a7541c780a9c74ea7e6d6cc",
            "value": "100%"
          }
        },
        "9086d53528be4f7ca24cf5cacff7cdd3": {
          "model_module": "@jupyter-widgets/controls",
          "model_name": "FloatProgressModel",
          "model_module_version": "1.5.0",
          "state": {
            "_dom_classes": [],
            "_model_module": "@jupyter-widgets/controls",
            "_model_module_version": "1.5.0",
            "_model_name": "FloatProgressModel",
            "_view_count": null,
            "_view_module": "@jupyter-widgets/controls",
            "_view_module_version": "1.5.0",
            "_view_name": "ProgressView",
            "bar_style": "success",
            "description": "",
            "description_tooltip": null,
            "layout": "IPY_MODEL_2de4151146654f61b473b0f9a0dabb42",
            "max": 10000,
            "min": 0,
            "orientation": "horizontal",
            "style": "IPY_MODEL_a127e1c5128d4550a33c90a53c6953ec",
            "value": 10000
          }
        },
        "d59cd0f8635a4f6ebf36d56442a1b4f3": {
          "model_module": "@jupyter-widgets/controls",
          "model_name": "HTMLModel",
          "model_module_version": "1.5.0",
          "state": {
            "_dom_classes": [],
            "_model_module": "@jupyter-widgets/controls",
            "_model_module_version": "1.5.0",
            "_model_name": "HTMLModel",
            "_view_count": null,
            "_view_module": "@jupyter-widgets/controls",
            "_view_module_version": "1.5.0",
            "_view_name": "HTMLView",
            "description": "",
            "description_tooltip": null,
            "layout": "IPY_MODEL_2da4103858714d939d830e11ddd3be9c",
            "placeholder": "​",
            "style": "IPY_MODEL_98c801440fe64cfab6140b843296512b",
            "value": " 10000/10000 [00:35&lt;00:00, 296.97it/s]"
          }
        },
        "c78524762a0642adad9879b4ccc6b984": {
          "model_module": "@jupyter-widgets/base",
          "model_name": "LayoutModel",
          "model_module_version": "1.2.0",
          "state": {
            "_model_module": "@jupyter-widgets/base",
            "_model_module_version": "1.2.0",
            "_model_name": "LayoutModel",
            "_view_count": null,
            "_view_module": "@jupyter-widgets/base",
            "_view_module_version": "1.2.0",
            "_view_name": "LayoutView",
            "align_content": null,
            "align_items": null,
            "align_self": null,
            "border": null,
            "bottom": null,
            "display": null,
            "flex": null,
            "flex_flow": null,
            "grid_area": null,
            "grid_auto_columns": null,
            "grid_auto_flow": null,
            "grid_auto_rows": null,
            "grid_column": null,
            "grid_gap": null,
            "grid_row": null,
            "grid_template_areas": null,
            "grid_template_columns": null,
            "grid_template_rows": null,
            "height": null,
            "justify_content": null,
            "justify_items": null,
            "left": null,
            "margin": null,
            "max_height": null,
            "max_width": null,
            "min_height": null,
            "min_width": null,
            "object_fit": null,
            "object_position": null,
            "order": null,
            "overflow": null,
            "overflow_x": null,
            "overflow_y": null,
            "padding": null,
            "right": null,
            "top": null,
            "visibility": null,
            "width": null
          }
        },
        "f22e2dc574a6458b9a398b9de718cd6f": {
          "model_module": "@jupyter-widgets/base",
          "model_name": "LayoutModel",
          "model_module_version": "1.2.0",
          "state": {
            "_model_module": "@jupyter-widgets/base",
            "_model_module_version": "1.2.0",
            "_model_name": "LayoutModel",
            "_view_count": null,
            "_view_module": "@jupyter-widgets/base",
            "_view_module_version": "1.2.0",
            "_view_name": "LayoutView",
            "align_content": null,
            "align_items": null,
            "align_self": null,
            "border": null,
            "bottom": null,
            "display": null,
            "flex": null,
            "flex_flow": null,
            "grid_area": null,
            "grid_auto_columns": null,
            "grid_auto_flow": null,
            "grid_auto_rows": null,
            "grid_column": null,
            "grid_gap": null,
            "grid_row": null,
            "grid_template_areas": null,
            "grid_template_columns": null,
            "grid_template_rows": null,
            "height": null,
            "justify_content": null,
            "justify_items": null,
            "left": null,
            "margin": null,
            "max_height": null,
            "max_width": null,
            "min_height": null,
            "min_width": null,
            "object_fit": null,
            "object_position": null,
            "order": null,
            "overflow": null,
            "overflow_x": null,
            "overflow_y": null,
            "padding": null,
            "right": null,
            "top": null,
            "visibility": null,
            "width": null
          }
        },
        "1c4ea2a15a7541c780a9c74ea7e6d6cc": {
          "model_module": "@jupyter-widgets/controls",
          "model_name": "DescriptionStyleModel",
          "model_module_version": "1.5.0",
          "state": {
            "_model_module": "@jupyter-widgets/controls",
            "_model_module_version": "1.5.0",
            "_model_name": "DescriptionStyleModel",
            "_view_count": null,
            "_view_module": "@jupyter-widgets/base",
            "_view_module_version": "1.2.0",
            "_view_name": "StyleView",
            "description_width": ""
          }
        },
        "2de4151146654f61b473b0f9a0dabb42": {
          "model_module": "@jupyter-widgets/base",
          "model_name": "LayoutModel",
          "model_module_version": "1.2.0",
          "state": {
            "_model_module": "@jupyter-widgets/base",
            "_model_module_version": "1.2.0",
            "_model_name": "LayoutModel",
            "_view_count": null,
            "_view_module": "@jupyter-widgets/base",
            "_view_module_version": "1.2.0",
            "_view_name": "LayoutView",
            "align_content": null,
            "align_items": null,
            "align_self": null,
            "border": null,
            "bottom": null,
            "display": null,
            "flex": null,
            "flex_flow": null,
            "grid_area": null,
            "grid_auto_columns": null,
            "grid_auto_flow": null,
            "grid_auto_rows": null,
            "grid_column": null,
            "grid_gap": null,
            "grid_row": null,
            "grid_template_areas": null,
            "grid_template_columns": null,
            "grid_template_rows": null,
            "height": null,
            "justify_content": null,
            "justify_items": null,
            "left": null,
            "margin": null,
            "max_height": null,
            "max_width": null,
            "min_height": null,
            "min_width": null,
            "object_fit": null,
            "object_position": null,
            "order": null,
            "overflow": null,
            "overflow_x": null,
            "overflow_y": null,
            "padding": null,
            "right": null,
            "top": null,
            "visibility": null,
            "width": null
          }
        },
        "a127e1c5128d4550a33c90a53c6953ec": {
          "model_module": "@jupyter-widgets/controls",
          "model_name": "ProgressStyleModel",
          "model_module_version": "1.5.0",
          "state": {
            "_model_module": "@jupyter-widgets/controls",
            "_model_module_version": "1.5.0",
            "_model_name": "ProgressStyleModel",
            "_view_count": null,
            "_view_module": "@jupyter-widgets/base",
            "_view_module_version": "1.2.0",
            "_view_name": "StyleView",
            "bar_color": null,
            "description_width": ""
          }
        },
        "2da4103858714d939d830e11ddd3be9c": {
          "model_module": "@jupyter-widgets/base",
          "model_name": "LayoutModel",
          "model_module_version": "1.2.0",
          "state": {
            "_model_module": "@jupyter-widgets/base",
            "_model_module_version": "1.2.0",
            "_model_name": "LayoutModel",
            "_view_count": null,
            "_view_module": "@jupyter-widgets/base",
            "_view_module_version": "1.2.0",
            "_view_name": "LayoutView",
            "align_content": null,
            "align_items": null,
            "align_self": null,
            "border": null,
            "bottom": null,
            "display": null,
            "flex": null,
            "flex_flow": null,
            "grid_area": null,
            "grid_auto_columns": null,
            "grid_auto_flow": null,
            "grid_auto_rows": null,
            "grid_column": null,
            "grid_gap": null,
            "grid_row": null,
            "grid_template_areas": null,
            "grid_template_columns": null,
            "grid_template_rows": null,
            "height": null,
            "justify_content": null,
            "justify_items": null,
            "left": null,
            "margin": null,
            "max_height": null,
            "max_width": null,
            "min_height": null,
            "min_width": null,
            "object_fit": null,
            "object_position": null,
            "order": null,
            "overflow": null,
            "overflow_x": null,
            "overflow_y": null,
            "padding": null,
            "right": null,
            "top": null,
            "visibility": null,
            "width": null
          }
        },
        "98c801440fe64cfab6140b843296512b": {
          "model_module": "@jupyter-widgets/controls",
          "model_name": "DescriptionStyleModel",
          "model_module_version": "1.5.0",
          "state": {
            "_model_module": "@jupyter-widgets/controls",
            "_model_module_version": "1.5.0",
            "_model_name": "DescriptionStyleModel",
            "_view_count": null,
            "_view_module": "@jupyter-widgets/base",
            "_view_module_version": "1.2.0",
            "_view_name": "StyleView",
            "description_width": ""
          }
        },
        "a8ccc1432b394563a5cb5178ef918061": {
          "model_module": "@jupyter-widgets/controls",
          "model_name": "HBoxModel",
          "model_module_version": "1.5.0",
          "state": {
            "_dom_classes": [],
            "_model_module": "@jupyter-widgets/controls",
            "_model_module_version": "1.5.0",
            "_model_name": "HBoxModel",
            "_view_count": null,
            "_view_module": "@jupyter-widgets/controls",
            "_view_module_version": "1.5.0",
            "_view_name": "HBoxView",
            "box_style": "",
            "children": [
              "IPY_MODEL_2dcc33f6aa424147831575c21d1bed75",
              "IPY_MODEL_ae2c0f1713444d2da8e9bbb57ead8f6e",
              "IPY_MODEL_3b085e6b05a34066a5a6fda3f6653dc8"
            ],
            "layout": "IPY_MODEL_fce8ddeacd064e03970a2dfd68873e8e"
          }
        },
        "2dcc33f6aa424147831575c21d1bed75": {
          "model_module": "@jupyter-widgets/controls",
          "model_name": "HTMLModel",
          "model_module_version": "1.5.0",
          "state": {
            "_dom_classes": [],
            "_model_module": "@jupyter-widgets/controls",
            "_model_module_version": "1.5.0",
            "_model_name": "HTMLModel",
            "_view_count": null,
            "_view_module": "@jupyter-widgets/controls",
            "_view_module_version": "1.5.0",
            "_view_name": "HTMLView",
            "description": "",
            "description_tooltip": null,
            "layout": "IPY_MODEL_d45429a00b2440379a97495d56a71d2d",
            "placeholder": "​",
            "style": "IPY_MODEL_7a9fbcc87eb14a619d739116e25e5233",
            "value": "100%"
          }
        },
        "ae2c0f1713444d2da8e9bbb57ead8f6e": {
          "model_module": "@jupyter-widgets/controls",
          "model_name": "FloatProgressModel",
          "model_module_version": "1.5.0",
          "state": {
            "_dom_classes": [],
            "_model_module": "@jupyter-widgets/controls",
            "_model_module_version": "1.5.0",
            "_model_name": "FloatProgressModel",
            "_view_count": null,
            "_view_module": "@jupyter-widgets/controls",
            "_view_module_version": "1.5.0",
            "_view_name": "ProgressView",
            "bar_style": "success",
            "description": "",
            "description_tooltip": null,
            "layout": "IPY_MODEL_7e7d8280835d40bf879ea91244961caf",
            "max": 50000,
            "min": 0,
            "orientation": "horizontal",
            "style": "IPY_MODEL_0cec9f1331094591be1fd3b4db4c0700",
            "value": 50000
          }
        },
        "3b085e6b05a34066a5a6fda3f6653dc8": {
          "model_module": "@jupyter-widgets/controls",
          "model_name": "HTMLModel",
          "model_module_version": "1.5.0",
          "state": {
            "_dom_classes": [],
            "_model_module": "@jupyter-widgets/controls",
            "_model_module_version": "1.5.0",
            "_model_name": "HTMLModel",
            "_view_count": null,
            "_view_module": "@jupyter-widgets/controls",
            "_view_module_version": "1.5.0",
            "_view_name": "HTMLView",
            "description": "",
            "description_tooltip": null,
            "layout": "IPY_MODEL_06273565346d48a89ec285595044321d",
            "placeholder": "​",
            "style": "IPY_MODEL_c85f02833c0049a4a97506edddde0f43",
            "value": " 50000/50000 [08:50&lt;00:00, 79.33it/s]"
          }
        },
        "fce8ddeacd064e03970a2dfd68873e8e": {
          "model_module": "@jupyter-widgets/base",
          "model_name": "LayoutModel",
          "model_module_version": "1.2.0",
          "state": {
            "_model_module": "@jupyter-widgets/base",
            "_model_module_version": "1.2.0",
            "_model_name": "LayoutModel",
            "_view_count": null,
            "_view_module": "@jupyter-widgets/base",
            "_view_module_version": "1.2.0",
            "_view_name": "LayoutView",
            "align_content": null,
            "align_items": null,
            "align_self": null,
            "border": null,
            "bottom": null,
            "display": null,
            "flex": null,
            "flex_flow": null,
            "grid_area": null,
            "grid_auto_columns": null,
            "grid_auto_flow": null,
            "grid_auto_rows": null,
            "grid_column": null,
            "grid_gap": null,
            "grid_row": null,
            "grid_template_areas": null,
            "grid_template_columns": null,
            "grid_template_rows": null,
            "height": null,
            "justify_content": null,
            "justify_items": null,
            "left": null,
            "margin": null,
            "max_height": null,
            "max_width": null,
            "min_height": null,
            "min_width": null,
            "object_fit": null,
            "object_position": null,
            "order": null,
            "overflow": null,
            "overflow_x": null,
            "overflow_y": null,
            "padding": null,
            "right": null,
            "top": null,
            "visibility": null,
            "width": null
          }
        },
        "d45429a00b2440379a97495d56a71d2d": {
          "model_module": "@jupyter-widgets/base",
          "model_name": "LayoutModel",
          "model_module_version": "1.2.0",
          "state": {
            "_model_module": "@jupyter-widgets/base",
            "_model_module_version": "1.2.0",
            "_model_name": "LayoutModel",
            "_view_count": null,
            "_view_module": "@jupyter-widgets/base",
            "_view_module_version": "1.2.0",
            "_view_name": "LayoutView",
            "align_content": null,
            "align_items": null,
            "align_self": null,
            "border": null,
            "bottom": null,
            "display": null,
            "flex": null,
            "flex_flow": null,
            "grid_area": null,
            "grid_auto_columns": null,
            "grid_auto_flow": null,
            "grid_auto_rows": null,
            "grid_column": null,
            "grid_gap": null,
            "grid_row": null,
            "grid_template_areas": null,
            "grid_template_columns": null,
            "grid_template_rows": null,
            "height": null,
            "justify_content": null,
            "justify_items": null,
            "left": null,
            "margin": null,
            "max_height": null,
            "max_width": null,
            "min_height": null,
            "min_width": null,
            "object_fit": null,
            "object_position": null,
            "order": null,
            "overflow": null,
            "overflow_x": null,
            "overflow_y": null,
            "padding": null,
            "right": null,
            "top": null,
            "visibility": null,
            "width": null
          }
        },
        "7a9fbcc87eb14a619d739116e25e5233": {
          "model_module": "@jupyter-widgets/controls",
          "model_name": "DescriptionStyleModel",
          "model_module_version": "1.5.0",
          "state": {
            "_model_module": "@jupyter-widgets/controls",
            "_model_module_version": "1.5.0",
            "_model_name": "DescriptionStyleModel",
            "_view_count": null,
            "_view_module": "@jupyter-widgets/base",
            "_view_module_version": "1.2.0",
            "_view_name": "StyleView",
            "description_width": ""
          }
        },
        "7e7d8280835d40bf879ea91244961caf": {
          "model_module": "@jupyter-widgets/base",
          "model_name": "LayoutModel",
          "model_module_version": "1.2.0",
          "state": {
            "_model_module": "@jupyter-widgets/base",
            "_model_module_version": "1.2.0",
            "_model_name": "LayoutModel",
            "_view_count": null,
            "_view_module": "@jupyter-widgets/base",
            "_view_module_version": "1.2.0",
            "_view_name": "LayoutView",
            "align_content": null,
            "align_items": null,
            "align_self": null,
            "border": null,
            "bottom": null,
            "display": null,
            "flex": null,
            "flex_flow": null,
            "grid_area": null,
            "grid_auto_columns": null,
            "grid_auto_flow": null,
            "grid_auto_rows": null,
            "grid_column": null,
            "grid_gap": null,
            "grid_row": null,
            "grid_template_areas": null,
            "grid_template_columns": null,
            "grid_template_rows": null,
            "height": null,
            "justify_content": null,
            "justify_items": null,
            "left": null,
            "margin": null,
            "max_height": null,
            "max_width": null,
            "min_height": null,
            "min_width": null,
            "object_fit": null,
            "object_position": null,
            "order": null,
            "overflow": null,
            "overflow_x": null,
            "overflow_y": null,
            "padding": null,
            "right": null,
            "top": null,
            "visibility": null,
            "width": null
          }
        },
        "0cec9f1331094591be1fd3b4db4c0700": {
          "model_module": "@jupyter-widgets/controls",
          "model_name": "ProgressStyleModel",
          "model_module_version": "1.5.0",
          "state": {
            "_model_module": "@jupyter-widgets/controls",
            "_model_module_version": "1.5.0",
            "_model_name": "ProgressStyleModel",
            "_view_count": null,
            "_view_module": "@jupyter-widgets/base",
            "_view_module_version": "1.2.0",
            "_view_name": "StyleView",
            "bar_color": null,
            "description_width": ""
          }
        },
        "06273565346d48a89ec285595044321d": {
          "model_module": "@jupyter-widgets/base",
          "model_name": "LayoutModel",
          "model_module_version": "1.2.0",
          "state": {
            "_model_module": "@jupyter-widgets/base",
            "_model_module_version": "1.2.0",
            "_model_name": "LayoutModel",
            "_view_count": null,
            "_view_module": "@jupyter-widgets/base",
            "_view_module_version": "1.2.0",
            "_view_name": "LayoutView",
            "align_content": null,
            "align_items": null,
            "align_self": null,
            "border": null,
            "bottom": null,
            "display": null,
            "flex": null,
            "flex_flow": null,
            "grid_area": null,
            "grid_auto_columns": null,
            "grid_auto_flow": null,
            "grid_auto_rows": null,
            "grid_column": null,
            "grid_gap": null,
            "grid_row": null,
            "grid_template_areas": null,
            "grid_template_columns": null,
            "grid_template_rows": null,
            "height": null,
            "justify_content": null,
            "justify_items": null,
            "left": null,
            "margin": null,
            "max_height": null,
            "max_width": null,
            "min_height": null,
            "min_width": null,
            "object_fit": null,
            "object_position": null,
            "order": null,
            "overflow": null,
            "overflow_x": null,
            "overflow_y": null,
            "padding": null,
            "right": null,
            "top": null,
            "visibility": null,
            "width": null
          }
        },
        "c85f02833c0049a4a97506edddde0f43": {
          "model_module": "@jupyter-widgets/controls",
          "model_name": "DescriptionStyleModel",
          "model_module_version": "1.5.0",
          "state": {
            "_model_module": "@jupyter-widgets/controls",
            "_model_module_version": "1.5.0",
            "_model_name": "DescriptionStyleModel",
            "_view_count": null,
            "_view_module": "@jupyter-widgets/base",
            "_view_module_version": "1.2.0",
            "_view_name": "StyleView",
            "description_width": ""
          }
        },
        "60e2ed81439940838e7de6656dff8dcc": {
          "model_module": "@jupyter-widgets/controls",
          "model_name": "HBoxModel",
          "model_module_version": "1.5.0",
          "state": {
            "_dom_classes": [],
            "_model_module": "@jupyter-widgets/controls",
            "_model_module_version": "1.5.0",
            "_model_name": "HBoxModel",
            "_view_count": null,
            "_view_module": "@jupyter-widgets/controls",
            "_view_module_version": "1.5.0",
            "_view_name": "HBoxView",
            "box_style": "",
            "children": [
              "IPY_MODEL_05e14dd6c8ff4a808045cdf4fc243d92",
              "IPY_MODEL_93d38b536d76431e94d11c38831acfe9",
              "IPY_MODEL_368fe5168c594a23881b7ad20ae3e91f"
            ],
            "layout": "IPY_MODEL_bcd809d92e724ddf8f413b29815f1877"
          }
        },
        "05e14dd6c8ff4a808045cdf4fc243d92": {
          "model_module": "@jupyter-widgets/controls",
          "model_name": "HTMLModel",
          "model_module_version": "1.5.0",
          "state": {
            "_dom_classes": [],
            "_model_module": "@jupyter-widgets/controls",
            "_model_module_version": "1.5.0",
            "_model_name": "HTMLModel",
            "_view_count": null,
            "_view_module": "@jupyter-widgets/controls",
            "_view_module_version": "1.5.0",
            "_view_name": "HTMLView",
            "description": "",
            "description_tooltip": null,
            "layout": "IPY_MODEL_f73bb39954104facb8b931a487f697be",
            "placeholder": "​",
            "style": "IPY_MODEL_feae0946f50741658db34a65f80abaf5",
            "value": "100%"
          }
        },
        "93d38b536d76431e94d11c38831acfe9": {
          "model_module": "@jupyter-widgets/controls",
          "model_name": "FloatProgressModel",
          "model_module_version": "1.5.0",
          "state": {
            "_dom_classes": [],
            "_model_module": "@jupyter-widgets/controls",
            "_model_module_version": "1.5.0",
            "_model_name": "FloatProgressModel",
            "_view_count": null,
            "_view_module": "@jupyter-widgets/controls",
            "_view_module_version": "1.5.0",
            "_view_name": "ProgressView",
            "bar_style": "success",
            "description": "",
            "description_tooltip": null,
            "layout": "IPY_MODEL_d69914a98af14ae9a6d5240ffcddedbe",
            "max": 10000,
            "min": 0,
            "orientation": "horizontal",
            "style": "IPY_MODEL_d333310389204534b91221b9f859121c",
            "value": 10000
          }
        },
        "368fe5168c594a23881b7ad20ae3e91f": {
          "model_module": "@jupyter-widgets/controls",
          "model_name": "HTMLModel",
          "model_module_version": "1.5.0",
          "state": {
            "_dom_classes": [],
            "_model_module": "@jupyter-widgets/controls",
            "_model_module_version": "1.5.0",
            "_model_name": "HTMLModel",
            "_view_count": null,
            "_view_module": "@jupyter-widgets/controls",
            "_view_module_version": "1.5.0",
            "_view_name": "HTMLView",
            "description": "",
            "description_tooltip": null,
            "layout": "IPY_MODEL_3e6e8eaf33344f5fa10623f427736432",
            "placeholder": "​",
            "style": "IPY_MODEL_bcbeed6a20f3475ca879d2fc869ed856",
            "value": " 10000/10000 [00:35&lt;00:00, 304.01it/s]"
          }
        },
        "bcd809d92e724ddf8f413b29815f1877": {
          "model_module": "@jupyter-widgets/base",
          "model_name": "LayoutModel",
          "model_module_version": "1.2.0",
          "state": {
            "_model_module": "@jupyter-widgets/base",
            "_model_module_version": "1.2.0",
            "_model_name": "LayoutModel",
            "_view_count": null,
            "_view_module": "@jupyter-widgets/base",
            "_view_module_version": "1.2.0",
            "_view_name": "LayoutView",
            "align_content": null,
            "align_items": null,
            "align_self": null,
            "border": null,
            "bottom": null,
            "display": null,
            "flex": null,
            "flex_flow": null,
            "grid_area": null,
            "grid_auto_columns": null,
            "grid_auto_flow": null,
            "grid_auto_rows": null,
            "grid_column": null,
            "grid_gap": null,
            "grid_row": null,
            "grid_template_areas": null,
            "grid_template_columns": null,
            "grid_template_rows": null,
            "height": null,
            "justify_content": null,
            "justify_items": null,
            "left": null,
            "margin": null,
            "max_height": null,
            "max_width": null,
            "min_height": null,
            "min_width": null,
            "object_fit": null,
            "object_position": null,
            "order": null,
            "overflow": null,
            "overflow_x": null,
            "overflow_y": null,
            "padding": null,
            "right": null,
            "top": null,
            "visibility": null,
            "width": null
          }
        },
        "f73bb39954104facb8b931a487f697be": {
          "model_module": "@jupyter-widgets/base",
          "model_name": "LayoutModel",
          "model_module_version": "1.2.0",
          "state": {
            "_model_module": "@jupyter-widgets/base",
            "_model_module_version": "1.2.0",
            "_model_name": "LayoutModel",
            "_view_count": null,
            "_view_module": "@jupyter-widgets/base",
            "_view_module_version": "1.2.0",
            "_view_name": "LayoutView",
            "align_content": null,
            "align_items": null,
            "align_self": null,
            "border": null,
            "bottom": null,
            "display": null,
            "flex": null,
            "flex_flow": null,
            "grid_area": null,
            "grid_auto_columns": null,
            "grid_auto_flow": null,
            "grid_auto_rows": null,
            "grid_column": null,
            "grid_gap": null,
            "grid_row": null,
            "grid_template_areas": null,
            "grid_template_columns": null,
            "grid_template_rows": null,
            "height": null,
            "justify_content": null,
            "justify_items": null,
            "left": null,
            "margin": null,
            "max_height": null,
            "max_width": null,
            "min_height": null,
            "min_width": null,
            "object_fit": null,
            "object_position": null,
            "order": null,
            "overflow": null,
            "overflow_x": null,
            "overflow_y": null,
            "padding": null,
            "right": null,
            "top": null,
            "visibility": null,
            "width": null
          }
        },
        "feae0946f50741658db34a65f80abaf5": {
          "model_module": "@jupyter-widgets/controls",
          "model_name": "DescriptionStyleModel",
          "model_module_version": "1.5.0",
          "state": {
            "_model_module": "@jupyter-widgets/controls",
            "_model_module_version": "1.5.0",
            "_model_name": "DescriptionStyleModel",
            "_view_count": null,
            "_view_module": "@jupyter-widgets/base",
            "_view_module_version": "1.2.0",
            "_view_name": "StyleView",
            "description_width": ""
          }
        },
        "d69914a98af14ae9a6d5240ffcddedbe": {
          "model_module": "@jupyter-widgets/base",
          "model_name": "LayoutModel",
          "model_module_version": "1.2.0",
          "state": {
            "_model_module": "@jupyter-widgets/base",
            "_model_module_version": "1.2.0",
            "_model_name": "LayoutModel",
            "_view_count": null,
            "_view_module": "@jupyter-widgets/base",
            "_view_module_version": "1.2.0",
            "_view_name": "LayoutView",
            "align_content": null,
            "align_items": null,
            "align_self": null,
            "border": null,
            "bottom": null,
            "display": null,
            "flex": null,
            "flex_flow": null,
            "grid_area": null,
            "grid_auto_columns": null,
            "grid_auto_flow": null,
            "grid_auto_rows": null,
            "grid_column": null,
            "grid_gap": null,
            "grid_row": null,
            "grid_template_areas": null,
            "grid_template_columns": null,
            "grid_template_rows": null,
            "height": null,
            "justify_content": null,
            "justify_items": null,
            "left": null,
            "margin": null,
            "max_height": null,
            "max_width": null,
            "min_height": null,
            "min_width": null,
            "object_fit": null,
            "object_position": null,
            "order": null,
            "overflow": null,
            "overflow_x": null,
            "overflow_y": null,
            "padding": null,
            "right": null,
            "top": null,
            "visibility": null,
            "width": null
          }
        },
        "d333310389204534b91221b9f859121c": {
          "model_module": "@jupyter-widgets/controls",
          "model_name": "ProgressStyleModel",
          "model_module_version": "1.5.0",
          "state": {
            "_model_module": "@jupyter-widgets/controls",
            "_model_module_version": "1.5.0",
            "_model_name": "ProgressStyleModel",
            "_view_count": null,
            "_view_module": "@jupyter-widgets/base",
            "_view_module_version": "1.2.0",
            "_view_name": "StyleView",
            "bar_color": null,
            "description_width": ""
          }
        },
        "3e6e8eaf33344f5fa10623f427736432": {
          "model_module": "@jupyter-widgets/base",
          "model_name": "LayoutModel",
          "model_module_version": "1.2.0",
          "state": {
            "_model_module": "@jupyter-widgets/base",
            "_model_module_version": "1.2.0",
            "_model_name": "LayoutModel",
            "_view_count": null,
            "_view_module": "@jupyter-widgets/base",
            "_view_module_version": "1.2.0",
            "_view_name": "LayoutView",
            "align_content": null,
            "align_items": null,
            "align_self": null,
            "border": null,
            "bottom": null,
            "display": null,
            "flex": null,
            "flex_flow": null,
            "grid_area": null,
            "grid_auto_columns": null,
            "grid_auto_flow": null,
            "grid_auto_rows": null,
            "grid_column": null,
            "grid_gap": null,
            "grid_row": null,
            "grid_template_areas": null,
            "grid_template_columns": null,
            "grid_template_rows": null,
            "height": null,
            "justify_content": null,
            "justify_items": null,
            "left": null,
            "margin": null,
            "max_height": null,
            "max_width": null,
            "min_height": null,
            "min_width": null,
            "object_fit": null,
            "object_position": null,
            "order": null,
            "overflow": null,
            "overflow_x": null,
            "overflow_y": null,
            "padding": null,
            "right": null,
            "top": null,
            "visibility": null,
            "width": null
          }
        },
        "bcbeed6a20f3475ca879d2fc869ed856": {
          "model_module": "@jupyter-widgets/controls",
          "model_name": "DescriptionStyleModel",
          "model_module_version": "1.5.0",
          "state": {
            "_model_module": "@jupyter-widgets/controls",
            "_model_module_version": "1.5.0",
            "_model_name": "DescriptionStyleModel",
            "_view_count": null,
            "_view_module": "@jupyter-widgets/base",
            "_view_module_version": "1.2.0",
            "_view_name": "StyleView",
            "description_width": ""
          }
        },
        "d2189d9ef298437ca5662ff9a98854ef": {
          "model_module": "@jupyter-widgets/controls",
          "model_name": "HBoxModel",
          "model_module_version": "1.5.0",
          "state": {
            "_dom_classes": [],
            "_model_module": "@jupyter-widgets/controls",
            "_model_module_version": "1.5.0",
            "_model_name": "HBoxModel",
            "_view_count": null,
            "_view_module": "@jupyter-widgets/controls",
            "_view_module_version": "1.5.0",
            "_view_name": "HBoxView",
            "box_style": "",
            "children": [
              "IPY_MODEL_30a4089c91d2462baf30023a7f0f79b0",
              "IPY_MODEL_f889bbd34123450486b3472889a97979",
              "IPY_MODEL_cc1859a113894f5d8c8dce015bc94d32"
            ],
            "layout": "IPY_MODEL_4f5af3ccf5cc4b0d879788de093be8f1"
          }
        },
        "30a4089c91d2462baf30023a7f0f79b0": {
          "model_module": "@jupyter-widgets/controls",
          "model_name": "HTMLModel",
          "model_module_version": "1.5.0",
          "state": {
            "_dom_classes": [],
            "_model_module": "@jupyter-widgets/controls",
            "_model_module_version": "1.5.0",
            "_model_name": "HTMLModel",
            "_view_count": null,
            "_view_module": "@jupyter-widgets/controls",
            "_view_module_version": "1.5.0",
            "_view_name": "HTMLView",
            "description": "",
            "description_tooltip": null,
            "layout": "IPY_MODEL_ab721b1be9df4e5291db7d0695967711",
            "placeholder": "​",
            "style": "IPY_MODEL_6ebd79b70add43c1aff37c54549b71a8",
            "value": "100%"
          }
        },
        "f889bbd34123450486b3472889a97979": {
          "model_module": "@jupyter-widgets/controls",
          "model_name": "FloatProgressModel",
          "model_module_version": "1.5.0",
          "state": {
            "_dom_classes": [],
            "_model_module": "@jupyter-widgets/controls",
            "_model_module_version": "1.5.0",
            "_model_name": "FloatProgressModel",
            "_view_count": null,
            "_view_module": "@jupyter-widgets/controls",
            "_view_module_version": "1.5.0",
            "_view_name": "ProgressView",
            "bar_style": "success",
            "description": "",
            "description_tooltip": null,
            "layout": "IPY_MODEL_56580ec73bed4430913b831bc153bc21",
            "max": 50000,
            "min": 0,
            "orientation": "horizontal",
            "style": "IPY_MODEL_434e53094a3e47adb1645b8e42fd90d6",
            "value": 50000
          }
        },
        "cc1859a113894f5d8c8dce015bc94d32": {
          "model_module": "@jupyter-widgets/controls",
          "model_name": "HTMLModel",
          "model_module_version": "1.5.0",
          "state": {
            "_dom_classes": [],
            "_model_module": "@jupyter-widgets/controls",
            "_model_module_version": "1.5.0",
            "_model_name": "HTMLModel",
            "_view_count": null,
            "_view_module": "@jupyter-widgets/controls",
            "_view_module_version": "1.5.0",
            "_view_name": "HTMLView",
            "description": "",
            "description_tooltip": null,
            "layout": "IPY_MODEL_d4e37573684d4b61984bacf1362c4109",
            "placeholder": "​",
            "style": "IPY_MODEL_165b42902de1481cbfcdf0f00c3a83c9",
            "value": " 50000/50000 [08:49&lt;00:00, 96.34it/s]"
          }
        },
        "4f5af3ccf5cc4b0d879788de093be8f1": {
          "model_module": "@jupyter-widgets/base",
          "model_name": "LayoutModel",
          "model_module_version": "1.2.0",
          "state": {
            "_model_module": "@jupyter-widgets/base",
            "_model_module_version": "1.2.0",
            "_model_name": "LayoutModel",
            "_view_count": null,
            "_view_module": "@jupyter-widgets/base",
            "_view_module_version": "1.2.0",
            "_view_name": "LayoutView",
            "align_content": null,
            "align_items": null,
            "align_self": null,
            "border": null,
            "bottom": null,
            "display": null,
            "flex": null,
            "flex_flow": null,
            "grid_area": null,
            "grid_auto_columns": null,
            "grid_auto_flow": null,
            "grid_auto_rows": null,
            "grid_column": null,
            "grid_gap": null,
            "grid_row": null,
            "grid_template_areas": null,
            "grid_template_columns": null,
            "grid_template_rows": null,
            "height": null,
            "justify_content": null,
            "justify_items": null,
            "left": null,
            "margin": null,
            "max_height": null,
            "max_width": null,
            "min_height": null,
            "min_width": null,
            "object_fit": null,
            "object_position": null,
            "order": null,
            "overflow": null,
            "overflow_x": null,
            "overflow_y": null,
            "padding": null,
            "right": null,
            "top": null,
            "visibility": null,
            "width": null
          }
        },
        "ab721b1be9df4e5291db7d0695967711": {
          "model_module": "@jupyter-widgets/base",
          "model_name": "LayoutModel",
          "model_module_version": "1.2.0",
          "state": {
            "_model_module": "@jupyter-widgets/base",
            "_model_module_version": "1.2.0",
            "_model_name": "LayoutModel",
            "_view_count": null,
            "_view_module": "@jupyter-widgets/base",
            "_view_module_version": "1.2.0",
            "_view_name": "LayoutView",
            "align_content": null,
            "align_items": null,
            "align_self": null,
            "border": null,
            "bottom": null,
            "display": null,
            "flex": null,
            "flex_flow": null,
            "grid_area": null,
            "grid_auto_columns": null,
            "grid_auto_flow": null,
            "grid_auto_rows": null,
            "grid_column": null,
            "grid_gap": null,
            "grid_row": null,
            "grid_template_areas": null,
            "grid_template_columns": null,
            "grid_template_rows": null,
            "height": null,
            "justify_content": null,
            "justify_items": null,
            "left": null,
            "margin": null,
            "max_height": null,
            "max_width": null,
            "min_height": null,
            "min_width": null,
            "object_fit": null,
            "object_position": null,
            "order": null,
            "overflow": null,
            "overflow_x": null,
            "overflow_y": null,
            "padding": null,
            "right": null,
            "top": null,
            "visibility": null,
            "width": null
          }
        },
        "6ebd79b70add43c1aff37c54549b71a8": {
          "model_module": "@jupyter-widgets/controls",
          "model_name": "DescriptionStyleModel",
          "model_module_version": "1.5.0",
          "state": {
            "_model_module": "@jupyter-widgets/controls",
            "_model_module_version": "1.5.0",
            "_model_name": "DescriptionStyleModel",
            "_view_count": null,
            "_view_module": "@jupyter-widgets/base",
            "_view_module_version": "1.2.0",
            "_view_name": "StyleView",
            "description_width": ""
          }
        },
        "56580ec73bed4430913b831bc153bc21": {
          "model_module": "@jupyter-widgets/base",
          "model_name": "LayoutModel",
          "model_module_version": "1.2.0",
          "state": {
            "_model_module": "@jupyter-widgets/base",
            "_model_module_version": "1.2.0",
            "_model_name": "LayoutModel",
            "_view_count": null,
            "_view_module": "@jupyter-widgets/base",
            "_view_module_version": "1.2.0",
            "_view_name": "LayoutView",
            "align_content": null,
            "align_items": null,
            "align_self": null,
            "border": null,
            "bottom": null,
            "display": null,
            "flex": null,
            "flex_flow": null,
            "grid_area": null,
            "grid_auto_columns": null,
            "grid_auto_flow": null,
            "grid_auto_rows": null,
            "grid_column": null,
            "grid_gap": null,
            "grid_row": null,
            "grid_template_areas": null,
            "grid_template_columns": null,
            "grid_template_rows": null,
            "height": null,
            "justify_content": null,
            "justify_items": null,
            "left": null,
            "margin": null,
            "max_height": null,
            "max_width": null,
            "min_height": null,
            "min_width": null,
            "object_fit": null,
            "object_position": null,
            "order": null,
            "overflow": null,
            "overflow_x": null,
            "overflow_y": null,
            "padding": null,
            "right": null,
            "top": null,
            "visibility": null,
            "width": null
          }
        },
        "434e53094a3e47adb1645b8e42fd90d6": {
          "model_module": "@jupyter-widgets/controls",
          "model_name": "ProgressStyleModel",
          "model_module_version": "1.5.0",
          "state": {
            "_model_module": "@jupyter-widgets/controls",
            "_model_module_version": "1.5.0",
            "_model_name": "ProgressStyleModel",
            "_view_count": null,
            "_view_module": "@jupyter-widgets/base",
            "_view_module_version": "1.2.0",
            "_view_name": "StyleView",
            "bar_color": null,
            "description_width": ""
          }
        },
        "d4e37573684d4b61984bacf1362c4109": {
          "model_module": "@jupyter-widgets/base",
          "model_name": "LayoutModel",
          "model_module_version": "1.2.0",
          "state": {
            "_model_module": "@jupyter-widgets/base",
            "_model_module_version": "1.2.0",
            "_model_name": "LayoutModel",
            "_view_count": null,
            "_view_module": "@jupyter-widgets/base",
            "_view_module_version": "1.2.0",
            "_view_name": "LayoutView",
            "align_content": null,
            "align_items": null,
            "align_self": null,
            "border": null,
            "bottom": null,
            "display": null,
            "flex": null,
            "flex_flow": null,
            "grid_area": null,
            "grid_auto_columns": null,
            "grid_auto_flow": null,
            "grid_auto_rows": null,
            "grid_column": null,
            "grid_gap": null,
            "grid_row": null,
            "grid_template_areas": null,
            "grid_template_columns": null,
            "grid_template_rows": null,
            "height": null,
            "justify_content": null,
            "justify_items": null,
            "left": null,
            "margin": null,
            "max_height": null,
            "max_width": null,
            "min_height": null,
            "min_width": null,
            "object_fit": null,
            "object_position": null,
            "order": null,
            "overflow": null,
            "overflow_x": null,
            "overflow_y": null,
            "padding": null,
            "right": null,
            "top": null,
            "visibility": null,
            "width": null
          }
        },
        "165b42902de1481cbfcdf0f00c3a83c9": {
          "model_module": "@jupyter-widgets/controls",
          "model_name": "DescriptionStyleModel",
          "model_module_version": "1.5.0",
          "state": {
            "_model_module": "@jupyter-widgets/controls",
            "_model_module_version": "1.5.0",
            "_model_name": "DescriptionStyleModel",
            "_view_count": null,
            "_view_module": "@jupyter-widgets/base",
            "_view_module_version": "1.2.0",
            "_view_name": "StyleView",
            "description_width": ""
          }
        },
        "0363fc0ab0ee44f29d02d4cd06454a9a": {
          "model_module": "@jupyter-widgets/controls",
          "model_name": "HBoxModel",
          "model_module_version": "1.5.0",
          "state": {
            "_dom_classes": [],
            "_model_module": "@jupyter-widgets/controls",
            "_model_module_version": "1.5.0",
            "_model_name": "HBoxModel",
            "_view_count": null,
            "_view_module": "@jupyter-widgets/controls",
            "_view_module_version": "1.5.0",
            "_view_name": "HBoxView",
            "box_style": "",
            "children": [
              "IPY_MODEL_718185d76fe949c59f1d5f473de08881",
              "IPY_MODEL_93d6af2d7e87457dbe218432ce74f3ea",
              "IPY_MODEL_d68011ca57c046908c6f2d3f60ab1144"
            ],
            "layout": "IPY_MODEL_61d9aa56d45045cfa169811becc6748b"
          }
        },
        "718185d76fe949c59f1d5f473de08881": {
          "model_module": "@jupyter-widgets/controls",
          "model_name": "HTMLModel",
          "model_module_version": "1.5.0",
          "state": {
            "_dom_classes": [],
            "_model_module": "@jupyter-widgets/controls",
            "_model_module_version": "1.5.0",
            "_model_name": "HTMLModel",
            "_view_count": null,
            "_view_module": "@jupyter-widgets/controls",
            "_view_module_version": "1.5.0",
            "_view_name": "HTMLView",
            "description": "",
            "description_tooltip": null,
            "layout": "IPY_MODEL_d3a6f503713c419e93af9b81d4cd70ad",
            "placeholder": "​",
            "style": "IPY_MODEL_f7834dc6133d457c80c42d3a6e76bc57",
            "value": "100%"
          }
        },
        "93d6af2d7e87457dbe218432ce74f3ea": {
          "model_module": "@jupyter-widgets/controls",
          "model_name": "FloatProgressModel",
          "model_module_version": "1.5.0",
          "state": {
            "_dom_classes": [],
            "_model_module": "@jupyter-widgets/controls",
            "_model_module_version": "1.5.0",
            "_model_name": "FloatProgressModel",
            "_view_count": null,
            "_view_module": "@jupyter-widgets/controls",
            "_view_module_version": "1.5.0",
            "_view_name": "ProgressView",
            "bar_style": "success",
            "description": "",
            "description_tooltip": null,
            "layout": "IPY_MODEL_4efde6ce15484b94a4efef82396e365b",
            "max": 10000,
            "min": 0,
            "orientation": "horizontal",
            "style": "IPY_MODEL_6c35bfcb623e4bf6882528005657ef5e",
            "value": 10000
          }
        },
        "d68011ca57c046908c6f2d3f60ab1144": {
          "model_module": "@jupyter-widgets/controls",
          "model_name": "HTMLModel",
          "model_module_version": "1.5.0",
          "state": {
            "_dom_classes": [],
            "_model_module": "@jupyter-widgets/controls",
            "_model_module_version": "1.5.0",
            "_model_name": "HTMLModel",
            "_view_count": null,
            "_view_module": "@jupyter-widgets/controls",
            "_view_module_version": "1.5.0",
            "_view_name": "HTMLView",
            "description": "",
            "description_tooltip": null,
            "layout": "IPY_MODEL_a870013487644a2ba6317aca1a5ad619",
            "placeholder": "​",
            "style": "IPY_MODEL_6c06f7f5fe2549dbb86475bee0d6659c",
            "value": " 10000/10000 [00:36&lt;00:00, 300.93it/s]"
          }
        },
        "61d9aa56d45045cfa169811becc6748b": {
          "model_module": "@jupyter-widgets/base",
          "model_name": "LayoutModel",
          "model_module_version": "1.2.0",
          "state": {
            "_model_module": "@jupyter-widgets/base",
            "_model_module_version": "1.2.0",
            "_model_name": "LayoutModel",
            "_view_count": null,
            "_view_module": "@jupyter-widgets/base",
            "_view_module_version": "1.2.0",
            "_view_name": "LayoutView",
            "align_content": null,
            "align_items": null,
            "align_self": null,
            "border": null,
            "bottom": null,
            "display": null,
            "flex": null,
            "flex_flow": null,
            "grid_area": null,
            "grid_auto_columns": null,
            "grid_auto_flow": null,
            "grid_auto_rows": null,
            "grid_column": null,
            "grid_gap": null,
            "grid_row": null,
            "grid_template_areas": null,
            "grid_template_columns": null,
            "grid_template_rows": null,
            "height": null,
            "justify_content": null,
            "justify_items": null,
            "left": null,
            "margin": null,
            "max_height": null,
            "max_width": null,
            "min_height": null,
            "min_width": null,
            "object_fit": null,
            "object_position": null,
            "order": null,
            "overflow": null,
            "overflow_x": null,
            "overflow_y": null,
            "padding": null,
            "right": null,
            "top": null,
            "visibility": null,
            "width": null
          }
        },
        "d3a6f503713c419e93af9b81d4cd70ad": {
          "model_module": "@jupyter-widgets/base",
          "model_name": "LayoutModel",
          "model_module_version": "1.2.0",
          "state": {
            "_model_module": "@jupyter-widgets/base",
            "_model_module_version": "1.2.0",
            "_model_name": "LayoutModel",
            "_view_count": null,
            "_view_module": "@jupyter-widgets/base",
            "_view_module_version": "1.2.0",
            "_view_name": "LayoutView",
            "align_content": null,
            "align_items": null,
            "align_self": null,
            "border": null,
            "bottom": null,
            "display": null,
            "flex": null,
            "flex_flow": null,
            "grid_area": null,
            "grid_auto_columns": null,
            "grid_auto_flow": null,
            "grid_auto_rows": null,
            "grid_column": null,
            "grid_gap": null,
            "grid_row": null,
            "grid_template_areas": null,
            "grid_template_columns": null,
            "grid_template_rows": null,
            "height": null,
            "justify_content": null,
            "justify_items": null,
            "left": null,
            "margin": null,
            "max_height": null,
            "max_width": null,
            "min_height": null,
            "min_width": null,
            "object_fit": null,
            "object_position": null,
            "order": null,
            "overflow": null,
            "overflow_x": null,
            "overflow_y": null,
            "padding": null,
            "right": null,
            "top": null,
            "visibility": null,
            "width": null
          }
        },
        "f7834dc6133d457c80c42d3a6e76bc57": {
          "model_module": "@jupyter-widgets/controls",
          "model_name": "DescriptionStyleModel",
          "model_module_version": "1.5.0",
          "state": {
            "_model_module": "@jupyter-widgets/controls",
            "_model_module_version": "1.5.0",
            "_model_name": "DescriptionStyleModel",
            "_view_count": null,
            "_view_module": "@jupyter-widgets/base",
            "_view_module_version": "1.2.0",
            "_view_name": "StyleView",
            "description_width": ""
          }
        },
        "4efde6ce15484b94a4efef82396e365b": {
          "model_module": "@jupyter-widgets/base",
          "model_name": "LayoutModel",
          "model_module_version": "1.2.0",
          "state": {
            "_model_module": "@jupyter-widgets/base",
            "_model_module_version": "1.2.0",
            "_model_name": "LayoutModel",
            "_view_count": null,
            "_view_module": "@jupyter-widgets/base",
            "_view_module_version": "1.2.0",
            "_view_name": "LayoutView",
            "align_content": null,
            "align_items": null,
            "align_self": null,
            "border": null,
            "bottom": null,
            "display": null,
            "flex": null,
            "flex_flow": null,
            "grid_area": null,
            "grid_auto_columns": null,
            "grid_auto_flow": null,
            "grid_auto_rows": null,
            "grid_column": null,
            "grid_gap": null,
            "grid_row": null,
            "grid_template_areas": null,
            "grid_template_columns": null,
            "grid_template_rows": null,
            "height": null,
            "justify_content": null,
            "justify_items": null,
            "left": null,
            "margin": null,
            "max_height": null,
            "max_width": null,
            "min_height": null,
            "min_width": null,
            "object_fit": null,
            "object_position": null,
            "order": null,
            "overflow": null,
            "overflow_x": null,
            "overflow_y": null,
            "padding": null,
            "right": null,
            "top": null,
            "visibility": null,
            "width": null
          }
        },
        "6c35bfcb623e4bf6882528005657ef5e": {
          "model_module": "@jupyter-widgets/controls",
          "model_name": "ProgressStyleModel",
          "model_module_version": "1.5.0",
          "state": {
            "_model_module": "@jupyter-widgets/controls",
            "_model_module_version": "1.5.0",
            "_model_name": "ProgressStyleModel",
            "_view_count": null,
            "_view_module": "@jupyter-widgets/base",
            "_view_module_version": "1.2.0",
            "_view_name": "StyleView",
            "bar_color": null,
            "description_width": ""
          }
        },
        "a870013487644a2ba6317aca1a5ad619": {
          "model_module": "@jupyter-widgets/base",
          "model_name": "LayoutModel",
          "model_module_version": "1.2.0",
          "state": {
            "_model_module": "@jupyter-widgets/base",
            "_model_module_version": "1.2.0",
            "_model_name": "LayoutModel",
            "_view_count": null,
            "_view_module": "@jupyter-widgets/base",
            "_view_module_version": "1.2.0",
            "_view_name": "LayoutView",
            "align_content": null,
            "align_items": null,
            "align_self": null,
            "border": null,
            "bottom": null,
            "display": null,
            "flex": null,
            "flex_flow": null,
            "grid_area": null,
            "grid_auto_columns": null,
            "grid_auto_flow": null,
            "grid_auto_rows": null,
            "grid_column": null,
            "grid_gap": null,
            "grid_row": null,
            "grid_template_areas": null,
            "grid_template_columns": null,
            "grid_template_rows": null,
            "height": null,
            "justify_content": null,
            "justify_items": null,
            "left": null,
            "margin": null,
            "max_height": null,
            "max_width": null,
            "min_height": null,
            "min_width": null,
            "object_fit": null,
            "object_position": null,
            "order": null,
            "overflow": null,
            "overflow_x": null,
            "overflow_y": null,
            "padding": null,
            "right": null,
            "top": null,
            "visibility": null,
            "width": null
          }
        },
        "6c06f7f5fe2549dbb86475bee0d6659c": {
          "model_module": "@jupyter-widgets/controls",
          "model_name": "DescriptionStyleModel",
          "model_module_version": "1.5.0",
          "state": {
            "_model_module": "@jupyter-widgets/controls",
            "_model_module_version": "1.5.0",
            "_model_name": "DescriptionStyleModel",
            "_view_count": null,
            "_view_module": "@jupyter-widgets/base",
            "_view_module_version": "1.2.0",
            "_view_name": "StyleView",
            "description_width": ""
          }
        }
      }
    }
  },
  "cells": [
    {
      "cell_type": "markdown",
      "source": [
        "# Processamento de Linguagem Natural\n",
        "Professor: Yuri Malheiros"
      ],
      "metadata": {
        "id": "hdYm4CjBEKLc"
      }
    },
    {
      "cell_type": "markdown",
      "source": [
        "## Sequence-to-Sequence (Seq2Seq)\n",
        "\n",
        "Neste notebook temos a implementação de uma rede Sequence-to-Sequence (Seq2Seq) utilizando o Pytorch. Utilizaremos um dataset com pares de frases em inglês e alemão. Assim, treinaremos uma rede Seq2Seq para efetuar tradução do inglês para o alemão."
      ],
      "metadata": {
        "id": "zLVxcjk0EQO5"
      }
    },
    {
      "cell_type": "markdown",
      "source": [
        "Primeiramente, vamos fazer o download de dois pipelines do SpaCy, um para inglês e outro para alemão. Com isso, nós conseguiremos utilizar o tokenizador de cada idioma no nosso dataset. Na célula abaixo, `en_core_web_sm` é o pipeline para inglês e `de_core_news_sm` é o pipeline para alemão."
      ],
      "metadata": {
        "id": "QqsT-S9-Ekg2"
      }
    },
    {
      "cell_type": "code",
      "source": [
        "!python -m spacy download en_core_web_sm\n",
        "!python -m spacy download de_core_news_sm"
      ],
      "metadata": {
        "colab": {
          "base_uri": "https://localhost:8080/"
        },
        "id": "jDHb3dSSrB-T",
        "outputId": "dee9967a-6f9d-4b84-991c-d9ff0767bd41"
      },
      "execution_count": 1,
      "outputs": [
        {
          "output_type": "stream",
          "name": "stdout",
          "text": [
            "Collecting en-core-web-sm==3.7.1\n",
            "  Downloading https://github.com/explosion/spacy-models/releases/download/en_core_web_sm-3.7.1/en_core_web_sm-3.7.1-py3-none-any.whl (12.8 MB)\n",
            "\u001b[2K     \u001b[90m━━━━━━━━━━━━━━━━━━━━━━━━━━━━━━━━━━━━━━━━\u001b[0m \u001b[32m12.8/12.8 MB\u001b[0m \u001b[31m35.7 MB/s\u001b[0m eta \u001b[36m0:00:00\u001b[0m\n",
            "\u001b[?25hRequirement already satisfied: spacy<3.8.0,>=3.7.2 in /usr/local/lib/python3.10/dist-packages (from en-core-web-sm==3.7.1) (3.7.3)\n",
            "Requirement already satisfied: spacy-legacy<3.1.0,>=3.0.11 in /usr/local/lib/python3.10/dist-packages (from spacy<3.8.0,>=3.7.2->en-core-web-sm==3.7.1) (3.0.12)\n",
            "Requirement already satisfied: spacy-loggers<2.0.0,>=1.0.0 in /usr/local/lib/python3.10/dist-packages (from spacy<3.8.0,>=3.7.2->en-core-web-sm==3.7.1) (1.0.5)\n",
            "Requirement already satisfied: murmurhash<1.1.0,>=0.28.0 in /usr/local/lib/python3.10/dist-packages (from spacy<3.8.0,>=3.7.2->en-core-web-sm==3.7.1) (1.0.10)\n",
            "Requirement already satisfied: cymem<2.1.0,>=2.0.2 in /usr/local/lib/python3.10/dist-packages (from spacy<3.8.0,>=3.7.2->en-core-web-sm==3.7.1) (2.0.8)\n",
            "Requirement already satisfied: preshed<3.1.0,>=3.0.2 in /usr/local/lib/python3.10/dist-packages (from spacy<3.8.0,>=3.7.2->en-core-web-sm==3.7.1) (3.0.9)\n",
            "Requirement already satisfied: thinc<8.3.0,>=8.2.2 in /usr/local/lib/python3.10/dist-packages (from spacy<3.8.0,>=3.7.2->en-core-web-sm==3.7.1) (8.2.2)\n",
            "Requirement already satisfied: wasabi<1.2.0,>=0.9.1 in /usr/local/lib/python3.10/dist-packages (from spacy<3.8.0,>=3.7.2->en-core-web-sm==3.7.1) (1.1.2)\n",
            "Requirement already satisfied: srsly<3.0.0,>=2.4.3 in /usr/local/lib/python3.10/dist-packages (from spacy<3.8.0,>=3.7.2->en-core-web-sm==3.7.1) (2.4.8)\n",
            "Requirement already satisfied: catalogue<2.1.0,>=2.0.6 in /usr/local/lib/python3.10/dist-packages (from spacy<3.8.0,>=3.7.2->en-core-web-sm==3.7.1) (2.0.10)\n",
            "Requirement already satisfied: weasel<0.4.0,>=0.1.0 in /usr/local/lib/python3.10/dist-packages (from spacy<3.8.0,>=3.7.2->en-core-web-sm==3.7.1) (0.3.4)\n",
            "Requirement already satisfied: typer<0.10.0,>=0.3.0 in /usr/local/lib/python3.10/dist-packages (from spacy<3.8.0,>=3.7.2->en-core-web-sm==3.7.1) (0.9.0)\n",
            "Requirement already satisfied: smart-open<7.0.0,>=5.2.1 in /usr/local/lib/python3.10/dist-packages (from spacy<3.8.0,>=3.7.2->en-core-web-sm==3.7.1) (6.4.0)\n",
            "Requirement already satisfied: tqdm<5.0.0,>=4.38.0 in /usr/local/lib/python3.10/dist-packages (from spacy<3.8.0,>=3.7.2->en-core-web-sm==3.7.1) (4.66.1)\n",
            "Requirement already satisfied: requests<3.0.0,>=2.13.0 in /usr/local/lib/python3.10/dist-packages (from spacy<3.8.0,>=3.7.2->en-core-web-sm==3.7.1) (2.31.0)\n",
            "Requirement already satisfied: pydantic!=1.8,!=1.8.1,<3.0.0,>=1.7.4 in /usr/local/lib/python3.10/dist-packages (from spacy<3.8.0,>=3.7.2->en-core-web-sm==3.7.1) (2.6.1)\n",
            "Requirement already satisfied: jinja2 in /usr/local/lib/python3.10/dist-packages (from spacy<3.8.0,>=3.7.2->en-core-web-sm==3.7.1) (3.1.3)\n",
            "Requirement already satisfied: setuptools in /usr/local/lib/python3.10/dist-packages (from spacy<3.8.0,>=3.7.2->en-core-web-sm==3.7.1) (67.7.2)\n",
            "Requirement already satisfied: packaging>=20.0 in /usr/local/lib/python3.10/dist-packages (from spacy<3.8.0,>=3.7.2->en-core-web-sm==3.7.1) (23.2)\n",
            "Requirement already satisfied: langcodes<4.0.0,>=3.2.0 in /usr/local/lib/python3.10/dist-packages (from spacy<3.8.0,>=3.7.2->en-core-web-sm==3.7.1) (3.3.0)\n",
            "Requirement already satisfied: numpy>=1.19.0 in /usr/local/lib/python3.10/dist-packages (from spacy<3.8.0,>=3.7.2->en-core-web-sm==3.7.1) (1.23.5)\n",
            "Requirement already satisfied: annotated-types>=0.4.0 in /usr/local/lib/python3.10/dist-packages (from pydantic!=1.8,!=1.8.1,<3.0.0,>=1.7.4->spacy<3.8.0,>=3.7.2->en-core-web-sm==3.7.1) (0.6.0)\n",
            "Requirement already satisfied: pydantic-core==2.16.2 in /usr/local/lib/python3.10/dist-packages (from pydantic!=1.8,!=1.8.1,<3.0.0,>=1.7.4->spacy<3.8.0,>=3.7.2->en-core-web-sm==3.7.1) (2.16.2)\n",
            "Requirement already satisfied: typing-extensions>=4.6.1 in /usr/local/lib/python3.10/dist-packages (from pydantic!=1.8,!=1.8.1,<3.0.0,>=1.7.4->spacy<3.8.0,>=3.7.2->en-core-web-sm==3.7.1) (4.9.0)\n",
            "Requirement already satisfied: charset-normalizer<4,>=2 in /usr/local/lib/python3.10/dist-packages (from requests<3.0.0,>=2.13.0->spacy<3.8.0,>=3.7.2->en-core-web-sm==3.7.1) (3.3.2)\n",
            "Requirement already satisfied: idna<4,>=2.5 in /usr/local/lib/python3.10/dist-packages (from requests<3.0.0,>=2.13.0->spacy<3.8.0,>=3.7.2->en-core-web-sm==3.7.1) (3.6)\n",
            "Requirement already satisfied: urllib3<3,>=1.21.1 in /usr/local/lib/python3.10/dist-packages (from requests<3.0.0,>=2.13.0->spacy<3.8.0,>=3.7.2->en-core-web-sm==3.7.1) (2.0.7)\n",
            "Requirement already satisfied: certifi>=2017.4.17 in /usr/local/lib/python3.10/dist-packages (from requests<3.0.0,>=2.13.0->spacy<3.8.0,>=3.7.2->en-core-web-sm==3.7.1) (2024.2.2)\n",
            "Requirement already satisfied: blis<0.8.0,>=0.7.8 in /usr/local/lib/python3.10/dist-packages (from thinc<8.3.0,>=8.2.2->spacy<3.8.0,>=3.7.2->en-core-web-sm==3.7.1) (0.7.11)\n",
            "Requirement already satisfied: confection<1.0.0,>=0.0.1 in /usr/local/lib/python3.10/dist-packages (from thinc<8.3.0,>=8.2.2->spacy<3.8.0,>=3.7.2->en-core-web-sm==3.7.1) (0.1.4)\n",
            "Requirement already satisfied: click<9.0.0,>=7.1.1 in /usr/local/lib/python3.10/dist-packages (from typer<0.10.0,>=0.3.0->spacy<3.8.0,>=3.7.2->en-core-web-sm==3.7.1) (8.1.7)\n",
            "Requirement already satisfied: cloudpathlib<0.17.0,>=0.7.0 in /usr/local/lib/python3.10/dist-packages (from weasel<0.4.0,>=0.1.0->spacy<3.8.0,>=3.7.2->en-core-web-sm==3.7.1) (0.16.0)\n",
            "Requirement already satisfied: MarkupSafe>=2.0 in /usr/local/lib/python3.10/dist-packages (from jinja2->spacy<3.8.0,>=3.7.2->en-core-web-sm==3.7.1) (2.1.5)\n",
            "\u001b[38;5;2m✔ Download and installation successful\u001b[0m\n",
            "You can now load the package via spacy.load('en_core_web_sm')\n",
            "\u001b[38;5;3m⚠ Restart to reload dependencies\u001b[0m\n",
            "If you are in a Jupyter or Colab notebook, you may need to restart Python in\n",
            "order to load all the package's dependencies. You can do this by selecting the\n",
            "'Restart kernel' or 'Restart runtime' option.\n",
            "Collecting de-core-news-sm==3.7.0\n",
            "  Downloading https://github.com/explosion/spacy-models/releases/download/de_core_news_sm-3.7.0/de_core_news_sm-3.7.0-py3-none-any.whl (14.6 MB)\n",
            "\u001b[2K     \u001b[90m━━━━━━━━━━━━━━━━━━━━━━━━━━━━━━━━━━━━━━━━\u001b[0m \u001b[32m14.6/14.6 MB\u001b[0m \u001b[31m86.4 MB/s\u001b[0m eta \u001b[36m0:00:00\u001b[0m\n",
            "\u001b[?25hRequirement already satisfied: spacy<3.8.0,>=3.7.0 in /usr/local/lib/python3.10/dist-packages (from de-core-news-sm==3.7.0) (3.7.3)\n",
            "Requirement already satisfied: spacy-legacy<3.1.0,>=3.0.11 in /usr/local/lib/python3.10/dist-packages (from spacy<3.8.0,>=3.7.0->de-core-news-sm==3.7.0) (3.0.12)\n",
            "Requirement already satisfied: spacy-loggers<2.0.0,>=1.0.0 in /usr/local/lib/python3.10/dist-packages (from spacy<3.8.0,>=3.7.0->de-core-news-sm==3.7.0) (1.0.5)\n",
            "Requirement already satisfied: murmurhash<1.1.0,>=0.28.0 in /usr/local/lib/python3.10/dist-packages (from spacy<3.8.0,>=3.7.0->de-core-news-sm==3.7.0) (1.0.10)\n",
            "Requirement already satisfied: cymem<2.1.0,>=2.0.2 in /usr/local/lib/python3.10/dist-packages (from spacy<3.8.0,>=3.7.0->de-core-news-sm==3.7.0) (2.0.8)\n",
            "Requirement already satisfied: preshed<3.1.0,>=3.0.2 in /usr/local/lib/python3.10/dist-packages (from spacy<3.8.0,>=3.7.0->de-core-news-sm==3.7.0) (3.0.9)\n",
            "Requirement already satisfied: thinc<8.3.0,>=8.2.2 in /usr/local/lib/python3.10/dist-packages (from spacy<3.8.0,>=3.7.0->de-core-news-sm==3.7.0) (8.2.2)\n",
            "Requirement already satisfied: wasabi<1.2.0,>=0.9.1 in /usr/local/lib/python3.10/dist-packages (from spacy<3.8.0,>=3.7.0->de-core-news-sm==3.7.0) (1.1.2)\n",
            "Requirement already satisfied: srsly<3.0.0,>=2.4.3 in /usr/local/lib/python3.10/dist-packages (from spacy<3.8.0,>=3.7.0->de-core-news-sm==3.7.0) (2.4.8)\n",
            "Requirement already satisfied: catalogue<2.1.0,>=2.0.6 in /usr/local/lib/python3.10/dist-packages (from spacy<3.8.0,>=3.7.0->de-core-news-sm==3.7.0) (2.0.10)\n",
            "Requirement already satisfied: weasel<0.4.0,>=0.1.0 in /usr/local/lib/python3.10/dist-packages (from spacy<3.8.0,>=3.7.0->de-core-news-sm==3.7.0) (0.3.4)\n",
            "Requirement already satisfied: typer<0.10.0,>=0.3.0 in /usr/local/lib/python3.10/dist-packages (from spacy<3.8.0,>=3.7.0->de-core-news-sm==3.7.0) (0.9.0)\n",
            "Requirement already satisfied: smart-open<7.0.0,>=5.2.1 in /usr/local/lib/python3.10/dist-packages (from spacy<3.8.0,>=3.7.0->de-core-news-sm==3.7.0) (6.4.0)\n",
            "Requirement already satisfied: tqdm<5.0.0,>=4.38.0 in /usr/local/lib/python3.10/dist-packages (from spacy<3.8.0,>=3.7.0->de-core-news-sm==3.7.0) (4.66.1)\n",
            "Requirement already satisfied: requests<3.0.0,>=2.13.0 in /usr/local/lib/python3.10/dist-packages (from spacy<3.8.0,>=3.7.0->de-core-news-sm==3.7.0) (2.31.0)\n",
            "Requirement already satisfied: pydantic!=1.8,!=1.8.1,<3.0.0,>=1.7.4 in /usr/local/lib/python3.10/dist-packages (from spacy<3.8.0,>=3.7.0->de-core-news-sm==3.7.0) (2.6.1)\n",
            "Requirement already satisfied: jinja2 in /usr/local/lib/python3.10/dist-packages (from spacy<3.8.0,>=3.7.0->de-core-news-sm==3.7.0) (3.1.3)\n",
            "Requirement already satisfied: setuptools in /usr/local/lib/python3.10/dist-packages (from spacy<3.8.0,>=3.7.0->de-core-news-sm==3.7.0) (67.7.2)\n",
            "Requirement already satisfied: packaging>=20.0 in /usr/local/lib/python3.10/dist-packages (from spacy<3.8.0,>=3.7.0->de-core-news-sm==3.7.0) (23.2)\n",
            "Requirement already satisfied: langcodes<4.0.0,>=3.2.0 in /usr/local/lib/python3.10/dist-packages (from spacy<3.8.0,>=3.7.0->de-core-news-sm==3.7.0) (3.3.0)\n",
            "Requirement already satisfied: numpy>=1.19.0 in /usr/local/lib/python3.10/dist-packages (from spacy<3.8.0,>=3.7.0->de-core-news-sm==3.7.0) (1.23.5)\n",
            "Requirement already satisfied: annotated-types>=0.4.0 in /usr/local/lib/python3.10/dist-packages (from pydantic!=1.8,!=1.8.1,<3.0.0,>=1.7.4->spacy<3.8.0,>=3.7.0->de-core-news-sm==3.7.0) (0.6.0)\n",
            "Requirement already satisfied: pydantic-core==2.16.2 in /usr/local/lib/python3.10/dist-packages (from pydantic!=1.8,!=1.8.1,<3.0.0,>=1.7.4->spacy<3.8.0,>=3.7.0->de-core-news-sm==3.7.0) (2.16.2)\n",
            "Requirement already satisfied: typing-extensions>=4.6.1 in /usr/local/lib/python3.10/dist-packages (from pydantic!=1.8,!=1.8.1,<3.0.0,>=1.7.4->spacy<3.8.0,>=3.7.0->de-core-news-sm==3.7.0) (4.9.0)\n",
            "Requirement already satisfied: charset-normalizer<4,>=2 in /usr/local/lib/python3.10/dist-packages (from requests<3.0.0,>=2.13.0->spacy<3.8.0,>=3.7.0->de-core-news-sm==3.7.0) (3.3.2)\n",
            "Requirement already satisfied: idna<4,>=2.5 in /usr/local/lib/python3.10/dist-packages (from requests<3.0.0,>=2.13.0->spacy<3.8.0,>=3.7.0->de-core-news-sm==3.7.0) (3.6)\n",
            "Requirement already satisfied: urllib3<3,>=1.21.1 in /usr/local/lib/python3.10/dist-packages (from requests<3.0.0,>=2.13.0->spacy<3.8.0,>=3.7.0->de-core-news-sm==3.7.0) (2.0.7)\n",
            "Requirement already satisfied: certifi>=2017.4.17 in /usr/local/lib/python3.10/dist-packages (from requests<3.0.0,>=2.13.0->spacy<3.8.0,>=3.7.0->de-core-news-sm==3.7.0) (2024.2.2)\n",
            "Requirement already satisfied: blis<0.8.0,>=0.7.8 in /usr/local/lib/python3.10/dist-packages (from thinc<8.3.0,>=8.2.2->spacy<3.8.0,>=3.7.0->de-core-news-sm==3.7.0) (0.7.11)\n",
            "Requirement already satisfied: confection<1.0.0,>=0.0.1 in /usr/local/lib/python3.10/dist-packages (from thinc<8.3.0,>=8.2.2->spacy<3.8.0,>=3.7.0->de-core-news-sm==3.7.0) (0.1.4)\n",
            "Requirement already satisfied: click<9.0.0,>=7.1.1 in /usr/local/lib/python3.10/dist-packages (from typer<0.10.0,>=0.3.0->spacy<3.8.0,>=3.7.0->de-core-news-sm==3.7.0) (8.1.7)\n",
            "Requirement already satisfied: cloudpathlib<0.17.0,>=0.7.0 in /usr/local/lib/python3.10/dist-packages (from weasel<0.4.0,>=0.1.0->spacy<3.8.0,>=3.7.0->de-core-news-sm==3.7.0) (0.16.0)\n",
            "Requirement already satisfied: MarkupSafe>=2.0 in /usr/local/lib/python3.10/dist-packages (from jinja2->spacy<3.8.0,>=3.7.0->de-core-news-sm==3.7.0) (2.1.5)\n",
            "Installing collected packages: de-core-news-sm\n",
            "Successfully installed de-core-news-sm-3.7.0\n",
            "\u001b[38;5;2m✔ Download and installation successful\u001b[0m\n",
            "You can now load the package via spacy.load('de_core_news_sm')\n",
            "\u001b[38;5;3m⚠ Restart to reload dependencies\u001b[0m\n",
            "If you are in a Jupyter or Colab notebook, you may need to restart Python in\n",
            "order to load all the package's dependencies. You can do this by selecting the\n",
            "'Restart kernel' or 'Restart runtime' option.\n"
          ]
        }
      ]
    },
    {
      "cell_type": "markdown",
      "source": [
        "### Preparando os dados"
      ],
      "metadata": {
        "id": "EkZvjEkLCb_W"
      }
    },
    {
      "cell_type": "markdown",
      "source": [
        "Por questões de reprodutibilidade, vamos definir as seeds."
      ],
      "metadata": {
        "id": "qRVW48_NFl01"
      }
    },
    {
      "cell_type": "code",
      "source": [
        "import random\n",
        "import torch\n",
        "\n",
        "random.seed(42)\n",
        "torch.manual_seed(42)"
      ],
      "metadata": {
        "id": "T99SWW1W6_6x",
        "colab": {
          "base_uri": "https://localhost:8080/"
        },
        "outputId": "a93a0c20-c5aa-4354-b117-bebae894ce7d"
      },
      "execution_count": 2,
      "outputs": [
        {
          "output_type": "execute_result",
          "data": {
            "text/plain": [
              "<torch._C.Generator at 0x7fba24e6e5f0>"
            ]
          },
          "metadata": {},
          "execution_count": 2
        }
      ]
    },
    {
      "cell_type": "markdown",
      "source": [
        "Os dados utilizados são providos pelo Tatoeba Project e podem ser baixados aqui: https://www.manythings.org/anki/deu-eng.zip.\n",
        "\n",
        "Faça download do arquivo, descompacte-o e copie o arquivo `deu.txt` para o seu Google Drive. No código a seguir, para ler o arquivo, eu o coloquei na pasta `datasets` no meu Google Drive."
      ],
      "metadata": {
        "id": "yTvOUMEEGDxT"
      }
    },
    {
      "cell_type": "markdown",
      "source": [
        "Mas antes, vamos montar o Google Drive."
      ],
      "metadata": {
        "id": "2gtGYg0KHHjT"
      }
    },
    {
      "cell_type": "code",
      "source": [
        "from google.colab import drive\n",
        "drive.mount('/content/drive')"
      ],
      "metadata": {
        "colab": {
          "base_uri": "https://localhost:8080/"
        },
        "id": "btCvj_YmMF-j",
        "outputId": "e7f03fde-c919-449f-a3ab-14ab5e243521"
      },
      "execution_count": 3,
      "outputs": [
        {
          "output_type": "stream",
          "name": "stdout",
          "text": [
            "Mounted at /content/drive\n"
          ]
        }
      ]
    },
    {
      "cell_type": "markdown",
      "source": [
        "Com o Google Drive montado, vamos abrir o arquivo e ler todas as suas linhas. Em seguida, a lista com as linhas lidas é embaralhada para evitar qualquer viés que a ordem dos pares de frases possa trazer."
      ],
      "metadata": {
        "id": "vlwJOXYeHL7M"
      }
    },
    {
      "cell_type": "code",
      "source": [
        "f = open('/content/drive/MyDrive/datasets/deu.txt')\n",
        "\n",
        "lines = f.readlines()\n",
        "random.shuffle(lines)\n",
        "\n",
        "f.close()"
      ],
      "metadata": {
        "id": "QOSGXC_keLsq"
      },
      "execution_count": 5,
      "outputs": []
    },
    {
      "cell_type": "markdown",
      "source": [
        "No arquivo, cada linha é composta por três partes. A frase em inglês, a frase em alemão e a atribuição de autoria. Cada parte é dividida por uma tabulação `\\t`."
      ],
      "metadata": {
        "id": "sbQjq5daHpeY"
      }
    },
    {
      "cell_type": "code",
      "source": [
        "lines[0]"
      ],
      "metadata": {
        "colab": {
          "base_uri": "https://localhost:8080/",
          "height": 35
        },
        "id": "vn2SzGH9HldY",
        "outputId": "3a881ca6-257c-48f2-d409-b3bded52c24e"
      },
      "execution_count": 6,
      "outputs": [
        {
          "output_type": "execute_result",
          "data": {
            "text/plain": [
              "'Tom is waiting in the hallway.\\tTom wartet auf dem Flur.\\tCC-BY 2.0 (France) Attribution: tatoeba.org #4132396 (CK) & #4134744 (Pfirsichbaeumchen)\\n'"
            ],
            "application/vnd.google.colaboratory.intrinsic+json": {
              "type": "string"
            }
          },
          "metadata": {},
          "execution_count": 6
        }
      ]
    },
    {
      "cell_type": "markdown",
      "source": [
        "O arquivo contém 271.774 linhas."
      ],
      "metadata": {
        "id": "t9oVKY8vIBHy"
      }
    },
    {
      "cell_type": "code",
      "source": [
        "len(lines)"
      ],
      "metadata": {
        "colab": {
          "base_uri": "https://localhost:8080/"
        },
        "id": "gKXqfYk6H-tk",
        "outputId": "933647bd-bb9b-4284-9d65-0b8c2c729eab"
      },
      "execution_count": 7,
      "outputs": [
        {
          "output_type": "execute_result",
          "data": {
            "text/plain": [
              "271774"
            ]
          },
          "metadata": {},
          "execution_count": 7
        }
      ]
    },
    {
      "cell_type": "markdown",
      "source": [
        "Para nosso modelo de tradução, precisamos das duas primeiras partes da linha (frase em inglês e frase em alemão). Além disso, para agilizar o treinamento do modelo, vamos utilizar apenas 50.000 linhas para treino."
      ],
      "metadata": {
        "id": "4sbcj5w0H2ax"
      }
    },
    {
      "cell_type": "code",
      "source": [
        "PAIRS_LEN = 50000\n",
        "\n",
        "pairs = {'en': [], 'de': []}\n",
        "\n",
        "for line in lines[:PAIRS_LEN]:\n",
        "  splits = line.split('\\t')\n",
        "  pairs['en'].append(splits[0])\n",
        "  pairs['de'].append(splits[1])"
      ],
      "metadata": {
        "id": "b7m0iGycCdCG"
      },
      "execution_count": 8,
      "outputs": []
    },
    {
      "cell_type": "code",
      "source": [
        "len(pairs['en'])"
      ],
      "metadata": {
        "colab": {
          "base_uri": "https://localhost:8080/"
        },
        "id": "iLHzan5fDntd",
        "outputId": "7a1a4c0e-8937-4002-de9d-400efff41e99"
      },
      "execution_count": 9,
      "outputs": [
        {
          "output_type": "execute_result",
          "data": {
            "text/plain": [
              "50000"
            ]
          },
          "metadata": {},
          "execution_count": 9
        }
      ]
    },
    {
      "cell_type": "markdown",
      "source": [
        "Veja um exemplo de um par inglês-alemão.\n"
      ],
      "metadata": {
        "id": "yJDojARkIU1J"
      }
    },
    {
      "cell_type": "code",
      "source": [
        "pairs['en'][0], pairs['de'][0]"
      ],
      "metadata": {
        "colab": {
          "base_uri": "https://localhost:8080/"
        },
        "id": "TR-_-QnDes9I",
        "outputId": "6c7dbc82-9885-4ba5-95fd-0b53142f1c63"
      },
      "execution_count": 10,
      "outputs": [
        {
          "output_type": "execute_result",
          "data": {
            "text/plain": [
              "('Tom is waiting in the hallway.', 'Tom wartet auf dem Flur.')"
            ]
          },
          "metadata": {},
          "execution_count": 10
        }
      ]
    },
    {
      "cell_type": "markdown",
      "source": [
        "Também vamos separar 10.000 pares para teste do modelo."
      ],
      "metadata": {
        "id": "Q3coHc64IZiq"
      }
    },
    {
      "cell_type": "code",
      "source": [
        "TEST_PAIRS_LEN = 10000\n",
        "\n",
        "test_pairs = {'en': [], 'de': []}\n",
        "\n",
        "for line in lines[PAIRS_LEN:PAIRS_LEN+TEST_PAIRS_LEN]:\n",
        "  splits = line.split('\\t')\n",
        "  test_pairs['en'].append(splits[0])\n",
        "  test_pairs['de'].append(splits[1])"
      ],
      "metadata": {
        "id": "4D22Im45ashb"
      },
      "execution_count": 11,
      "outputs": []
    },
    {
      "cell_type": "code",
      "source": [
        "len(test_pairs['en'])"
      ],
      "metadata": {
        "colab": {
          "base_uri": "https://localhost:8080/"
        },
        "id": "PHOQRyLRe1Lq",
        "outputId": "f8233f21-54d6-47d0-ec99-49f5e36ea340"
      },
      "execution_count": 12,
      "outputs": [
        {
          "output_type": "execute_result",
          "data": {
            "text/plain": [
              "10000"
            ]
          },
          "metadata": {},
          "execution_count": 12
        }
      ]
    },
    {
      "cell_type": "markdown",
      "source": [
        "Veja um exemplo de um par inglês-alemão do conjunto de teste."
      ],
      "metadata": {
        "id": "3NHyjRwNIieK"
      }
    },
    {
      "cell_type": "code",
      "source": [
        "test_pairs['en'][0], test_pairs['de'][0]"
      ],
      "metadata": {
        "colab": {
          "base_uri": "https://localhost:8080/"
        },
        "id": "23o9QX4Ue2bS",
        "outputId": "a3f8bb8b-8985-4666-c2ba-845371411b46"
      },
      "execution_count": 13,
      "outputs": [
        {
          "output_type": "execute_result",
          "data": {
            "text/plain": [
              "(\"I'm a translator.\", 'Ich bin Übersetzerin.')"
            ]
          },
          "metadata": {},
          "execution_count": 13
        }
      ]
    },
    {
      "cell_type": "markdown",
      "source": [
        "O próximo passo é dividir o texto do conjunto de treino e do conjunto de teste em tokens. Para isso, nós utilizaremos o tokenizador das pipelines carregadas do SpaCy."
      ],
      "metadata": {
        "id": "NKyL2iPmIo_7"
      }
    },
    {
      "cell_type": "code",
      "source": [
        "from torchtext.data.utils import get_tokenizer\n",
        "\n",
        "tokenizer_de = get_tokenizer('spacy', language='de_core_news_sm')\n",
        "tokenizer_en = get_tokenizer('spacy', language='en_core_web_sm')"
      ],
      "metadata": {
        "id": "ucsyJYqkr7Xa"
      },
      "execution_count": 14,
      "outputs": []
    },
    {
      "cell_type": "code",
      "source": [
        "tokenizer_en(pairs['en'][10123])"
      ],
      "metadata": {
        "colab": {
          "base_uri": "https://localhost:8080/"
        },
        "id": "tN2BUhAOsUlD",
        "outputId": "bcd0bad2-e63f-46da-d751-2c50c9e4d944"
      },
      "execution_count": 15,
      "outputs": [
        {
          "output_type": "execute_result",
          "data": {
            "text/plain": [
              "['Tom', 'loves', 'me', 'and', 'I', 'love', 'him', ',', 'too', '.']"
            ]
          },
          "metadata": {},
          "execution_count": 15
        }
      ]
    },
    {
      "cell_type": "code",
      "source": [
        "tokenizer_en(test_pairs['en'][123])"
      ],
      "metadata": {
        "colab": {
          "base_uri": "https://localhost:8080/"
        },
        "id": "BGx6dQ4nbCjO",
        "outputId": "d9982c28-8e07-4c9e-93f2-d06d344090dd"
      },
      "execution_count": 16,
      "outputs": [
        {
          "output_type": "execute_result",
          "data": {
            "text/plain": [
              "['Tom', 'and', 'only', 'Tom', 'knows', 'the', 'whole', 'truth', '.']"
            ]
          },
          "metadata": {},
          "execution_count": 16
        }
      ]
    },
    {
      "cell_type": "markdown",
      "source": [
        "A função `tokenizer_all` recebe os pares carregados anteriormente e gera um dicionário com os pares tokenizados para cada idioma."
      ],
      "metadata": {
        "id": "9sgvxG9wI_Ps"
      }
    },
    {
      "cell_type": "code",
      "source": [
        "def tokenizer_all(pairs):\n",
        "  tokens = {'en': [], 'de': []}\n",
        "\n",
        "  for pair in pairs['en']:\n",
        "    tokens['en'].append(tokenizer_en(pair.lower()))\n",
        "\n",
        "  for pair in pairs['de']:\n",
        "    tokens['de'].append(tokenizer_en(pair.lower()))\n",
        "\n",
        "  return tokens"
      ],
      "metadata": {
        "id": "77j7tf6lsu19"
      },
      "execution_count": 17,
      "outputs": []
    },
    {
      "cell_type": "markdown",
      "source": [
        "Vamos tokenizar os pares do conjunto de treino e do conjunto de teste."
      ],
      "metadata": {
        "id": "ihCmKTNZJKrR"
      }
    },
    {
      "cell_type": "code",
      "source": [
        "tokens = tokenizer_all(pairs)"
      ],
      "metadata": {
        "id": "ZqxSM_UotE--"
      },
      "execution_count": 18,
      "outputs": []
    },
    {
      "cell_type": "code",
      "source": [
        "test_tokens = tokenizer_all(test_pairs)"
      ],
      "metadata": {
        "id": "loemgO3hbO8q"
      },
      "execution_count": 19,
      "outputs": []
    },
    {
      "cell_type": "code",
      "source": [
        "tokens['en'][10123]"
      ],
      "metadata": {
        "colab": {
          "base_uri": "https://localhost:8080/"
        },
        "id": "jMfUhvq2FkUN",
        "outputId": "a7a66ee8-d198-4a5c-8199-12e8781d7097"
      },
      "execution_count": 20,
      "outputs": [
        {
          "output_type": "execute_result",
          "data": {
            "text/plain": [
              "['tom', 'loves', 'me', 'and', 'i', 'love', 'him', ',', 'too', '.']"
            ]
          },
          "metadata": {},
          "execution_count": 20
        }
      ]
    },
    {
      "cell_type": "code",
      "source": [
        "test_tokens['en'][123]"
      ],
      "metadata": {
        "colab": {
          "base_uri": "https://localhost:8080/"
        },
        "id": "C-EJh-DybRA5",
        "outputId": "48747325-6637-4160-cf4d-a2a74d226ddb"
      },
      "execution_count": 21,
      "outputs": [
        {
          "output_type": "execute_result",
          "data": {
            "text/plain": [
              "['tom', 'and', 'only', 'tom', 'knows', 'the', 'whole', 'truth', '.']"
            ]
          },
          "metadata": {},
          "execution_count": 21
        }
      ]
    },
    {
      "cell_type": "markdown",
      "source": [
        "Após gerar os tokens, precisamos criar o vocabulário. Sabemos que em uma rede neural, os tokens são representados por números, então é necessário fazer esse mapeamento. Utilizando a função abaixo, criamos um vocabulário e teremos o mapeamento token-id. Para simplificar, consideramos apenas os tokens que aparecem pelo menos 2 vezes no dataset. Por fim, acrescentamos dois tokens especiais `<sos>` e `<eos>` que representará o início de uma frase e o fim de uma frase, respectivamente. Esses tokens são fundamentais para o funcionamento do tradutor usando uma rede Seq2Seq, eles vão indicar quando uma tradução começa e também quando ela termina.\n",
        "\n",
        "Note que são criados dois vocabulários separados, um para inglês e outro para alemão."
      ],
      "metadata": {
        "id": "yzl40vK6JVZm"
      }
    },
    {
      "cell_type": "code",
      "source": [
        "from torchtext.vocab import build_vocab_from_iterator\n",
        "\n",
        "vocab_en = build_vocab_from_iterator(tokens['en'], specials=['<sos>', '<eos>'], min_freq=2)\n",
        "vocab_de = build_vocab_from_iterator(tokens['de'], specials=['<sos>', '<eos>'], min_freq=2)"
      ],
      "metadata": {
        "id": "rVjPBpiHtdHN"
      },
      "execution_count": 22,
      "outputs": []
    },
    {
      "cell_type": "markdown",
      "source": [
        "Para consultar o id tem um token, basta consultar o seu valor como em um dicionário."
      ],
      "metadata": {
        "id": "JedbCdPWKRes"
      }
    },
    {
      "cell_type": "code",
      "source": [
        "vocab_en['house']"
      ],
      "metadata": {
        "colab": {
          "base_uri": "https://localhost:8080/"
        },
        "id": "nRjmX5N-u7-m",
        "outputId": "bec88627-772b-4d39-afc5-6b0733b5fbc5"
      },
      "execution_count": 23,
      "outputs": [
        {
          "output_type": "execute_result",
          "data": {
            "text/plain": [
              "145"
            ]
          },
          "metadata": {},
          "execution_count": 23
        }
      ]
    },
    {
      "cell_type": "markdown",
      "source": [
        "A mesma palavra em alemão não precisa ter o mesmo id."
      ],
      "metadata": {
        "id": "jg25mChGKVDx"
      }
    },
    {
      "cell_type": "code",
      "source": [
        "vocab_de['haus']"
      ],
      "metadata": {
        "colab": {
          "base_uri": "https://localhost:8080/"
        },
        "id": "HZwi4Dd6uaIU",
        "outputId": "a3ea9629-0721-415e-c53f-27f40dd8e6e3"
      },
      "execution_count": 24,
      "outputs": [
        {
          "output_type": "execute_result",
          "data": {
            "text/plain": [
              "169"
            ]
          },
          "metadata": {},
          "execution_count": 24
        }
      ]
    },
    {
      "cell_type": "markdown",
      "source": [
        "Os tokens especiais `<sos>` e `<eos>` possuem os ids 0 e 1 respectivamente."
      ],
      "metadata": {
        "id": "rpH4MroYKf2e"
      }
    },
    {
      "cell_type": "code",
      "source": [
        "vocab_en['<sos>'], vocab_en['<eos>']"
      ],
      "metadata": {
        "colab": {
          "base_uri": "https://localhost:8080/"
        },
        "id": "TrBZgxk7GByT",
        "outputId": "06f41d87-4be7-4250-db67-f1fe77934dfb"
      },
      "execution_count": 25,
      "outputs": [
        {
          "output_type": "execute_result",
          "data": {
            "text/plain": [
              "(0, 1)"
            ]
          },
          "metadata": {},
          "execution_count": 25
        }
      ]
    },
    {
      "cell_type": "code",
      "source": [
        "vocab_de['<sos>'], vocab_de['<eos>']"
      ],
      "metadata": {
        "colab": {
          "base_uri": "https://localhost:8080/"
        },
        "id": "14SQycIPK2FK",
        "outputId": "fc621c15-0777-4126-8000-4b850ecfd16d"
      },
      "execution_count": 26,
      "outputs": [
        {
          "output_type": "execute_result",
          "data": {
            "text/plain": [
              "(0, 1)"
            ]
          },
          "metadata": {},
          "execution_count": 26
        }
      ]
    },
    {
      "cell_type": "markdown",
      "source": [
        "Usamos a função `len` para saber a quantidade de tokens no vocabulário."
      ],
      "metadata": {
        "id": "TDrsxSfTK7Tv"
      }
    },
    {
      "cell_type": "code",
      "source": [
        "len(vocab_en), len(vocab_de)"
      ],
      "metadata": {
        "colab": {
          "base_uri": "https://localhost:8080/"
        },
        "id": "rH01sQXmK-u2",
        "outputId": "f52beddb-17e7-4542-d31d-714ed9123c0e"
      },
      "execution_count": 27,
      "outputs": [
        {
          "output_type": "execute_result",
          "data": {
            "text/plain": [
              "(5977, 8555)"
            ]
          },
          "metadata": {},
          "execution_count": 27
        }
      ]
    },
    {
      "cell_type": "markdown",
      "source": [
        "### Criando o Dataset e o Dataloader"
      ],
      "metadata": {
        "id": "Rcl4qW62vWWT"
      }
    },
    {
      "cell_type": "markdown",
      "source": [
        "Como estamos utilizando o Pytorch, vamos criar um Dataset, que é uma classe que define como o dataset é armazenado e acessado."
      ],
      "metadata": {
        "id": "WMi5C0Oz2JoM"
      }
    },
    {
      "cell_type": "code",
      "source": [
        "from torch.utils.data import Dataset"
      ],
      "metadata": {
        "id": "z7gz4LfyvMj5"
      },
      "execution_count": 28,
      "outputs": []
    },
    {
      "cell_type": "markdown",
      "source": [
        "Para isso, criamos uma classe que herda de Dataset. Esta classe precisa ter três métodos: `__init__`, `__len__` e `__getitem__`.\n",
        "\n",
        "`__init__` é o construtor da classe. Nele recebemos os dados e criamos alguns atributos de classe. `self.all_tokens` é o dicionário com todos os tokens (inglês e alemão) que criamos anteriormente. Em `self.data_en` e `self.data_de` nós transformamos as listas de tokens em listas de ids de tokens. Na rede neural, todos os dados são numéricos, então não usaremos os tokens diretamente (strings), mas sim os ids que correspondem aos tokens. Note que para o alemão, estamos adicionando antes dos tokens o `<sos>` e depois dos tokens o `<eos>`. Como nesse código o alemão é nosso idioma de saída, precisamos dos tokens especiais para controlar o início da tradução (`<sos>`) e o fim (`<eos>`).\n",
        "\n",
        "`__len__` retorna a quantidade de exemplos do nosso dataset.\n",
        "\n",
        "`__getitem__` retorna um exemplo de acordo com um índice. Ou seja, ao passar o índice 0 será retornado o primeiro exemplo, passando o índice 1 será retornado o segundo e assim sucessivamente. Um exemplo do nosso dataset é composto do par de lista de ids de tokens inglês - alemão."
      ],
      "metadata": {
        "id": "Q5a6SHzN2UEP"
      }
    },
    {
      "cell_type": "code",
      "source": [
        "class TranslationDataset(Dataset):\n",
        "  def __init__(self, all_tokens, vocab_en, vocab_de):\n",
        "    self.all_tokens = all_tokens\n",
        "    self.data_en = []\n",
        "    self.data_de = []\n",
        "\n",
        "    for tokens in all_tokens['en']:\n",
        "      tokens_index = [vocab_en[t] for t in tokens if t in vocab_en]\n",
        "      self.data_en.append(tokens_index)\n",
        "\n",
        "    for tokens in all_tokens['de']:\n",
        "      tokens = ['<sos>'] + tokens + ['<eos>']\n",
        "      tokens_index = [vocab_de[t] for t in tokens if t in vocab_de]\n",
        "      self.data_de.append(tokens_index)\n",
        "\n",
        "  def __len__(self):\n",
        "    return len(self.all_tokens['en'])\n",
        "\n",
        "  def __getitem__(self, index):\n",
        "    return torch.LongTensor(self.data_en[index]), torch.LongTensor(self.data_de[index])"
      ],
      "metadata": {
        "id": "bPTrjz2Zvgks"
      },
      "execution_count": 29,
      "outputs": []
    },
    {
      "cell_type": "markdown",
      "source": [
        "Instanciando um dataset para os dados de treino e outro para os dados de teste."
      ],
      "metadata": {
        "id": "ZSilHKKM32xN"
      }
    },
    {
      "cell_type": "code",
      "source": [
        "train_dataset = TranslationDataset(tokens, vocab_en, vocab_de)\n",
        "test_dataset = TranslationDataset(test_tokens, vocab_en, vocab_de)"
      ],
      "metadata": {
        "id": "kn3YXY1Bxqek"
      },
      "execution_count": 30,
      "outputs": []
    },
    {
      "cell_type": "markdown",
      "source": [
        "Notem que um exemplo é um par de tensores que representam uma lista de ids de tokens."
      ],
      "metadata": {
        "id": "r1l_R-JP4J4I"
      }
    },
    {
      "cell_type": "code",
      "source": [
        "train_dataset[10123]"
      ],
      "metadata": {
        "colab": {
          "base_uri": "https://localhost:8080/"
        },
        "id": "_sX7xZaix-8Q",
        "outputId": "6c3c546a-8fd4-4ec0-a44a-e754304ed8d9"
      },
      "execution_count": 31,
      "outputs": [
        {
          "output_type": "execute_result",
          "data": {
            "text/plain": [
              "(tensor([  4, 474,  23,  35,   3, 154,  69,  20, 103,   2]),\n",
              " tensor([  0,   5, 516,  31,   3,  35,   4, 326,  98, 167,   2,   1]))"
            ]
          },
          "metadata": {},
          "execution_count": 31
        }
      ]
    },
    {
      "cell_type": "markdown",
      "source": [
        "Podemos usar os vocabulários para converter de ids para palavras, assim retornamos ao formato textual."
      ],
      "metadata": {
        "id": "v38Q7Heb4O_F"
      }
    },
    {
      "cell_type": "code",
      "source": [
        "[vocab_en.get_itos()[t] for t in train_dataset[10123][0]]"
      ],
      "metadata": {
        "colab": {
          "base_uri": "https://localhost:8080/"
        },
        "id": "4m4-0yg3fshG",
        "outputId": "ca4caca8-a93d-4fb9-a15b-590b5bf82240"
      },
      "execution_count": 32,
      "outputs": [
        {
          "output_type": "execute_result",
          "data": {
            "text/plain": [
              "['tom', 'loves', 'me', 'and', 'i', 'love', 'him', ',', 'too', '.']"
            ]
          },
          "metadata": {},
          "execution_count": 32
        }
      ]
    },
    {
      "cell_type": "code",
      "source": [
        "[vocab_de.get_itos()[t] for t in train_dataset[10123][0]]"
      ],
      "metadata": {
        "colab": {
          "base_uri": "https://localhost:8080/"
        },
        "id": "zKXp86ujf4IE",
        "outputId": "ad97a697-90a4-4233-9bce-f8ce2a4a1614"
      },
      "execution_count": 33,
      "outputs": [
        {
          "output_type": "execute_result",
          "data": {
            "text/plain": [
              "['ich', 'schreiben', 'was', 'und', ',', 'macht', 'mehr', 'ein', 'bei', '.']"
            ]
          },
          "metadata": {},
          "execution_count": 33
        }
      ]
    },
    {
      "cell_type": "markdown",
      "source": [
        "O mesmo serve para o dataset dos dados de teste."
      ],
      "metadata": {
        "id": "wX5Zn5Tv4Z7h"
      }
    },
    {
      "cell_type": "code",
      "source": [
        "test_dataset[123]"
      ],
      "metadata": {
        "colab": {
          "base_uri": "https://localhost:8080/"
        },
        "id": "Oxe7g__hbtxL",
        "outputId": "1cda8906-92e7-4e11-cca0-a685de856523"
      },
      "execution_count": 34,
      "outputs": [
        {
          "output_type": "execute_result",
          "data": {
            "text/plain": [
              "(tensor([  4,  35, 132,   4, 191,   7, 599, 357,   2]),\n",
              " tensor([  0,   5,   3,  35,  86,   5,   3, 442,  14, 370,   2,   1]))"
            ]
          },
          "metadata": {},
          "execution_count": 34
        }
      ]
    },
    {
      "cell_type": "code",
      "source": [
        "[vocab_en.get_itos()[t] for t in test_dataset[123][0]]"
      ],
      "metadata": {
        "colab": {
          "base_uri": "https://localhost:8080/"
        },
        "id": "N8JA_aFkgFVl",
        "outputId": "bd37ea90-be37-454c-a486-f848858c6881"
      },
      "execution_count": 35,
      "outputs": [
        {
          "output_type": "execute_result",
          "data": {
            "text/plain": [
              "['tom', 'and', 'only', 'tom', 'knows', 'the', 'whole', 'truth', '.']"
            ]
          },
          "metadata": {},
          "execution_count": 35
        }
      ]
    },
    {
      "cell_type": "code",
      "source": [
        "[vocab_de.get_itos()[t] for t in test_dataset[123][0]]"
      ],
      "metadata": {
        "colab": {
          "base_uri": "https://localhost:8080/"
        },
        "id": "l0LanwWrgINJ",
        "outputId": "0cbbdc95-0478-4aa4-fca9-60ab8e72999c"
      },
      "execution_count": 36,
      "outputs": [
        {
          "output_type": "execute_result",
          "data": {
            "text/plain": [
              "['ich', 'und', 'ihre', 'ich', 'sicher', 'nicht', 'erinnern', 'leicht', '.']"
            ]
          },
          "metadata": {},
          "execution_count": 36
        }
      ]
    },
    {
      "cell_type": "markdown",
      "source": [
        "Após criar o Dataset, nós passamos ele para instanciar um objeto da classe DataLoader. Este objeto permite iterar e acessar os exemplos do dataset de forma mais simples no Pytorch.\n",
        "\n",
        "Vamos criar um DataLoader a partir do dataset de treino e outro a partir do dataset de teste."
      ],
      "metadata": {
        "id": "dedV01o34fQM"
      }
    },
    {
      "cell_type": "code",
      "source": [
        "from torch.utils.data import DataLoader\n",
        "\n",
        "dataloader_train = DataLoader(train_dataset)\n",
        "dataloader_test = DataLoader(test_dataset)"
      ],
      "metadata": {
        "id": "MoolOV6lzIYp"
      },
      "execution_count": 37,
      "outputs": []
    },
    {
      "cell_type": "markdown",
      "source": [
        "### Criando a Rede Neural"
      ],
      "metadata": {
        "id": "6Hs75eYwzZGu"
      }
    },
    {
      "cell_type": "markdown",
      "source": [
        "Para criar uma rede neural no Pytorch, criamos uma classe que herda de nn.Module. Nossa classe tem dois métodos: `__init__` e `forward`.\n",
        "\n",
        "Em `__init__` criamos as camadas que fazem parte da rede.\n",
        "\n",
        "Em `forward` recebemos a entrada e especificamos como ela vai passar pelas camadas até a saída da rede."
      ],
      "metadata": {
        "id": "XFcFwSEm6DZh"
      }
    },
    {
      "cell_type": "markdown",
      "source": [
        "A rede Seq2Seq é composta de duas partes, um Encoder e um Decoder.\n",
        "\n",
        "O Encoder possui a seguinte arquitetura:\n",
        "\n",
        "![seq2seq-encoder.drawio-3.png](data:image/png;base64,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)"
      ],
      "metadata": {
        "id": "mBVVDDlD6Iut"
      }
    },
    {
      "cell_type": "markdown",
      "source": [
        "A primeira camada é uma camada de embedding. Ela recebe um id de token que é convertido internamente para um one-hot vector. Esse vetor tem tamanho 5977, ou seja, o tamanho do vocabulário em inglês, pois vamos traduzir de inglês para alemão. Essa camada retorna o embedding de 128 dimensões correspondente ao id passado.\n",
        "\n",
        "Note que na nossa implementação, a camada de embedding recebe uma lista de ids de tokens. Cada id é convertido para o seu one-hot vector e a camada retorna uma lista de embeddings, um para cada vetor, ou seja, para cada id de token.\n",
        "\n",
        "Em seguida, cada vetor de embedding é passado um a um para a camada LSTM. Lembre que ao passar o segundo embedding a rede LSTM também usa a saída do passo anterior quando foi passado o primeiro embedding. Essa camada, em cada passo, recebe um vetor de tamanho 128 como entrada e retorna um de tamanho 64 como saída. A camada LSTM retorna todas as saídas de todos passos (output), a última saída (hidden) e o último estado da célula (cell). A função `forward` vai retornar vai retornar o hidden e o cell."
      ],
      "metadata": {
        "id": "nwASIdMo7k_n"
      }
    },
    {
      "cell_type": "code",
      "source": [
        "from torch import nn\n",
        "\n",
        "class Encoder(nn.Module):\n",
        "  def __init__(self, input_dim, embedding_dim, hidden_dim, n_layers):\n",
        "    super().__init__()\n",
        "\n",
        "    self.hidden_dim = hidden_dim\n",
        "    self.n_layers = n_layers\n",
        "\n",
        "    self.embedding = nn.Embedding(input_dim, embedding_dim)\n",
        "    self.lstm = nn.LSTM(embedding_dim, hidden_dim, n_layers)\n",
        "\n",
        "  def forward(self, x):\n",
        "    embedding_vector = self.embedding(x)\n",
        "    outputs, (hidden, cell) = self.lstm(embedding_vector)\n",
        "\n",
        "    return hidden, cell"
      ],
      "metadata": {
        "id": "Kc034xeVzbZy"
      },
      "execution_count": 38,
      "outputs": []
    },
    {
      "cell_type": "code",
      "source": [
        "encoder = Encoder(len(vocab_en), 128, 64, 1)"
      ],
      "metadata": {
        "id": "dHj4CHua1XYd"
      },
      "execution_count": 39,
      "outputs": []
    },
    {
      "cell_type": "markdown",
      "source": [
        "Ao passar uma lista de ids de tokens em inglês para o Encoder, temos como retorno dois valores, o hidden e o cell do LSTM."
      ],
      "metadata": {
        "id": "5i0naVOK8oSs"
      }
    },
    {
      "cell_type": "code",
      "source": [
        "encoder(train_dataset[0][0])"
      ],
      "metadata": {
        "colab": {
          "base_uri": "https://localhost:8080/"
        },
        "id": "jrsGh0kd1fjy",
        "outputId": "7e4d9be3-904d-4e4e-dbb4-10f90cacdeae"
      },
      "execution_count": 40,
      "outputs": [
        {
          "output_type": "execute_result",
          "data": {
            "text/plain": [
              "(tensor([[ 0.1461, -0.3632,  0.0677,  0.0906, -0.1714,  0.0315, -0.1013,  0.1105,\n",
              "          -0.2332, -0.1872, -0.0027, -0.1165, -0.2340,  0.2100, -0.0755, -0.0903,\n",
              "          -0.1000, -0.2103,  0.0179, -0.1207,  0.0382,  0.0890, -0.3627,  0.0285,\n",
              "           0.0129,  0.5908, -0.2163, -0.1351,  0.1478,  0.2832, -0.0817,  0.2473,\n",
              "           0.1780,  0.1593,  0.0232, -0.2659,  0.0450,  0.3377,  0.0561,  0.0745,\n",
              "          -0.1208, -0.0707, -0.2865, -0.1645,  0.3728, -0.1019, -0.0982, -0.6183,\n",
              "          -0.2108, -0.2089,  0.0585, -0.0193, -0.3653,  0.1887, -0.0627,  0.0915,\n",
              "           0.3717,  0.0217, -0.1198,  0.0597, -0.2428,  0.1848,  0.1379,  0.2247]],\n",
              "        grad_fn=<SqueezeBackward1>),\n",
              " tensor([[ 0.3040, -1.0484,  0.1345,  0.3691, -0.2792,  0.0434, -0.2275,  0.4589,\n",
              "          -0.3444, -0.3496, -0.0035, -0.2358, -0.3419,  0.3759, -0.2313, -0.2805,\n",
              "          -0.2265, -0.3312,  0.0642, -0.2084,  0.0584,  0.1329, -1.0029,  0.0675,\n",
              "           0.0338,  0.9334, -0.5109, -0.1589,  0.4538,  1.1999, -0.2087,  0.5749,\n",
              "           0.5321,  0.2367,  0.0548, -0.9288,  0.2580,  0.5520,  0.1402,  0.1834,\n",
              "          -0.3473, -0.0988, -0.7724, -0.3092,  0.7518, -0.1722, -0.2315, -1.0000,\n",
              "          -0.5777, -0.6248,  0.0984, -0.0710, -0.5042,  0.5624, -0.1643,  0.1326,\n",
              "           0.9025,  0.0402, -0.3084,  0.2454, -0.3662,  0.5117,  0.4095,  0.4457]],\n",
              "        grad_fn=<SqueezeBackward1>))"
            ]
          },
          "metadata": {},
          "execution_count": 40
        }
      ]
    },
    {
      "cell_type": "markdown",
      "source": [
        "O Decoder possui a seguinte arquitetura:\n",
        "\n",
        "![seq2seq-encoder.drawio-2.png](data:image/png;base64,iVBORw0KGgoAAAANSUhEUgAAAQ0AAAEjCAYAAAAotFROAAAAAXNSR0IArs4c6QAAAERlWElmTU0AKgAAAAgAAYdpAAQAAAABAAAAGgAAAAAAA6ABAAMAAAABAAEAAKACAAQAAAABAAABDaADAAQAAAABAAABIwAAAADzNeyPAAAbGHRFWHRteGZpbGUAJTNDbXhmaWxlJTIwaG9zdCUzRCUyMmFwcC5kaWFncmFtcy5uZXQlMjIlMjBtb2RpZmllZCUzRCUyMjIwMjQtMDItMDVUMjAlM0EzMSUzQTE3LjM0NlolMjIlMjBhZ2VudCUzRCUyMk1vemlsbGElMkY1LjAlMjAoTWFjaW50b3NoJTNCJTIwSW50ZWwlMjBNYWMlMjBPUyUyMFglMjAxMF8xNV83KSUyMEFwcGxlV2ViS2l0JTJGNjA1LjEuMTUlMjAoS0hUTUwlMkMlMjBsaWtlJTIwR2Vja28pJTIwVmVyc2lvbiUyRjE3LjIuMSUyMFNhZmFyaSUyRjYwNS4xLjE1JTIyJTIwZXRhZyUzRCUyMm5sQ0l5Y0t4bFRCeGpiM19ERGdlJTIyJTIwdmVyc2lvbiUzRCUyMjIzLjEuMSUyMiUyMHR5cGUlM0QlMjJicm93c2VyJTIyJTIwc2NhbGUlM0QlMjIxJTIyJTIwYm9yZGVyJTNEJTIyMCUyMiUzRSUwQSUyMCUyMCUzQ2RpYWdyYW0lMjBuYW1lJTNEJTIyUCVDMyVBMWdpbmEtMSUyMiUyMGlkJTNEJTIyUXZlTmxKWGVlRjhiS0lNZEl3Z04lMjIlM0UlMEElMjAlMjAlMjAlMjAlM0NteEdyYXBoTW9kZWwlMjBkeCUzRCUyMjc5NCUyMiUyMGR5JTNEJTIyMTE2MiUyMiUyMGdyaWQlM0QlMjIxJTIyJTIwZ3JpZFNpemUlM0QlMjIxMCUyMiUyMGd1aWRlcyUzRCUyMjElMjIlMjB0b29sdGlwcyUzRCUyMjElMjIlMjBjb25uZWN0JTNEJTIyMSUyMiUyMGFycm93cyUzRCUyMjElMjIlMjBmb2xkJTNEJTIyMSUyMiUyMHBhZ2UlM0QlMjIxJTIyJTIwcGFnZVNjYWxlJTNEJTIyMSUyMiUyMHBhZ2VXaWR0aCUzRCUyMjgyNyUyMiUyMHBhZ2VIZWlnaHQlM0QlMjIxMTY5JTIyJTIwbWF0aCUzRCUyMjAlMjIlMjBzaGFkb3clM0QlMjIwJTIyJTNFJTBBJTIwJTIwJTIwJTIwJTIwJTIwJTNDcm9vdCUzRSUwQSUyMCUyMCUyMCUyMCUyMCUyMCUyMCUyMCUzQ214Q2VsbCUyMGlkJTNEJTIyMCUyMiUyMCUyRiUzRSUwQSUyMCUyMCUyMCUyMCUyMCUyMCUyMCUyMCUzQ214Q2VsbCUyMGlkJTNEJTIyMSUyMiUyMHBhcmVudCUzRCUyMjAlMjIlMjAlMkYlM0UlMEElMjAlMjAlMjAlMjAlMjAlMjAlMjAlMjAlM0NteENlbGwlMjBpZCUzRCUyMjk1N3ZRQ3pSVmNVOE5jMEtiQWlTLTQlMjIlMjBzdHlsZSUzRCUyMmVkZ2VTdHlsZSUzRG9ydGhvZ29uYWxFZGdlU3R5bGUlM0Jyb3VuZGVkJTNEMCUzQm9ydGhvZ29uYWxMb29wJTNEMSUzQmpldHR5U2l6ZSUzRGF1dG8lM0JodG1sJTNEMSUzQmV4aXRYJTNEMSUzQmV4aXRZJTNEMC41JTNCZXhpdER4JTNEMCUzQmV4aXREeSUzRDAlM0IlMjIlMjBwYXJlbnQlM0QlMjIxJTIyJTIwc291cmNlJTNEJTIyOTU3dlFDelJWY1U4TmMwS2JBaVMtMSUyMiUyMHRhcmdldCUzRCUyMjk1N3ZRQ3pSVmNVOE5jMEtiQWlTLTIlMjIlMjBlZGdlJTNEJTIyMSUyMiUzRSUwQSUyMCUyMCUyMCUyMCUyMCUyMCUyMCUyMCUyMCUyMCUzQ214R2VvbWV0cnklMjByZWxhdGl2ZSUzRCUyMjElMjIlMjBhcyUzRCUyMmdlb21ldHJ5JTIyJTIwJTJGJTNFJTBBJTIwJTIwJTIwJTIwJTIwJTIwJTIwJTIwJTNDJTJGbXhDZWxsJTNFJTBBJTIwJTIwJTIwJTIwJTIwJTIwJTIwJTIwJTNDbXhDZWxsJTIwaWQlM0QlMjI5NTd2UUN6UlZjVThOYzBLYkFpUy0xJTIyJTIwdmFsdWUlM0QlMjIlMjIlMjBzdHlsZSUzRCUyMnJvdW5kZWQlM0QwJTNCd2hpdGVTcGFjZSUzRHdyYXAlM0JodG1sJTNEMSUzQiUyMiUyMHBhcmVudCUzRCUyMjElMjIlMjB2ZXJ0ZXglM0QlMjIxJTIyJTNFJTBBJTIwJTIwJTIwJTIwJTIwJTIwJTIwJTIwJTIwJTIwJTNDbXhHZW9tZXRyeSUyMHglM0QlMjIzNjAlMjIlMjB5JTNEJTIyNTAwJTIyJTIwd2lkdGglM0QlMjI0MCUyMiUyMGhlaWdodCUzRCUyMjI0MCUyMiUyMGFzJTNEJTIyZ2VvbWV0cnklMjIlMjAlMkYlM0UlMEElMjAlMjAlMjAlMjAlMjAlMjAlMjAlMjAlM0MlMkZteENlbGwlM0UlMEElMjAlMjAlMjAlMjAlMjAlMjAlMjAlMjAlM0NteENlbGwlMjBpZCUzRCUyMjk1N3ZRQ3pSVmNVOE5jMEtiQWlTLTYlMjIlMjBzdHlsZSUzRCUyMmVkZ2VTdHlsZSUzRG9ydGhvZ29uYWxFZGdlU3R5bGUlM0Jyb3VuZGVkJTNEMCUzQm9ydGhvZ29uYWxMb29wJTNEMSUzQmpldHR5U2l6ZSUzRGF1dG8lM0JodG1sJTNEMSUzQmV4aXRYJTNEMC41JTNCZXhpdFklM0QwJTNCZXhpdER4JTNEMCUzQmV4aXREeSUzRDAlM0JlbnRyeVglM0QwJTNCZW50cnlZJTNEMC4yNSUzQmVudHJ5RHglM0QwJTNCZW50cnlEeSUzRDAlM0IlMjIlMjBwYXJlbnQlM0QlMjIxJTIyJTIwc291cmNlJTNEJTIyOTU3dlFDelJWY1U4TmMwS2JBaVMtMiUyMiUyMHRhcmdldCUzRCUyMjk1N3ZRQ3pSVmNVOE5jMEtiQWlTLTIlMjIlMjBlZGdlJTNEJTIyMSUyMiUzRSUwQSUyMCUyMCUyMCUyMCUyMCUyMCUyMCUyMCUyMCUyMCUzQ214R2VvbWV0cnklMjByZWxhdGl2ZSUzRCUyMjElMjIlMjBhcyUzRCUyMmdlb21ldHJ5JTIyJTNFJTBBJTIwJTIwJTIwJTIwJTIwJTIwJTIwJTIwJTIwJTIwJTIwJTIwJTNDbXhQb2ludCUyMHglM0QlMjI0MzAlMjIlMjB5JTNEJTIyNTkwJTIyJTIwYXMlM0QlMjJ0YXJnZXRQb2ludCUyMiUyMCUyRiUzRSUwQSUyMCUyMCUyMCUyMCUyMCUyMCUyMCUyMCUyMCUyMCUyMCUyMCUzQ0FycmF5JTIwYXMlM0QlMjJwb2ludHMlMjIlM0UlMEElMjAlMjAlMjAlMjAlMjAlMjAlMjAlMjAlMjAlMjAlMjAlMjAlMjAlMjAlM0NteFBvaW50JTIweCUzRCUyMjQ2MCUyMiUyMHklM0QlMjI1NDAlMjIlMjAlMkYlM0UlMEElMjAlMjAlMjAlMjAlMjAlMjAlMjAlMjAlMjAlMjAlMjAlMjAlMjAlMjAlM0NteFBvaW50JTIweCUzRCUyMjQyMCUyMiUyMHklM0QlMjI1NDAlMjIlMjAlMkYlM0UlMEElMjAlMjAlMjAlMjAlMjAlMjAlMjAlMjAlMjAlMjAlMjAlMjAlMjAlMjAlM0NteFBvaW50JTIweCUzRCUyMjQyMCUyMiUyMHklM0QlMjI1OTAlMjIlMjAlMkYlM0UlMEElMjAlMjAlMjAlMjAlMjAlMjAlMjAlMjAlMjAlMjAlMjAlMjAlM0MlMkZBcnJheSUzRSUwQSUyMCUyMCUyMCUyMCUyMCUyMCUyMCUyMCUyMCUyMCUzQyUyRm14R2VvbWV0cnklM0UlMEElMjAlMjAlMjAlMjAlMjAlMjAlMjAlMjAlM0MlMkZteENlbGwlM0UlMEElMjAlMjAlMjAlMjAlMjAlMjAlMjAlMjAlM0NteENlbGwlMjBpZCUzRCUyMjk1N3ZRQ3pSVmNVOE5jMEtiQWlTLTIlMjIlMjB2YWx1ZSUzRCUyMiUyMiUyMHN0eWxlJTNEJTIycm91bmRlZCUzRDAlM0J3aGl0ZVNwYWNlJTNEd3JhcCUzQmh0bWwlM0QxJTNCJTIyJTIwcGFyZW50JTNEJTIyMSUyMiUyMHZlcnRleCUzRCUyMjElMjIlM0UlMEElMjAlMjAlMjAlMjAlMjAlMjAlMjAlMjAlMjAlMjAlM0NteEdlb21ldHJ5JTIweCUzRCUyMjQ0MCUyMiUyMHklM0QlMjI1NjAlMjIlMjB3aWR0aCUzRCUyMjQwJTIyJTIwaGVpZ2h0JTNEJTIyMTIwJTIyJTIwYXMlM0QlMjJnZW9tZXRyeSUyMiUyMCUyRiUzRSUwQSUyMCUyMCUyMCUyMCUyMCUyMCUyMCUyMCUzQyUyRm14Q2VsbCUzRSUwQSUyMCUyMCUyMCUyMCUyMCUyMCUyMCUyMCUzQ214Q2VsbCUyMGlkJTNEJTIyOTU3dlFDelJWY1U4TmMwS2JBaVMtOCUyMiUyMHZhbHVlJTNEJTIyRW1iZWRkaW5nJTI2bHQlM0JiciUyNmd0JTNCKDg1NTUlMkMxMjgpJTIyJTIwc3R5bGUlM0QlMjJ0ZXh0JTNCaHRtbCUzRDElM0JhbGlnbiUzRGNlbnRlciUzQnZlcnRpY2FsQWxpZ24lM0RtaWRkbGUlM0JyZXNpemFibGUlM0QwJTNCcG9pbnRzJTNEJTVCJTVEJTNCYXV0b3NpemUlM0QxJTNCc3Ryb2tlQ29sb3IlM0Rub25lJTNCZmlsbENvbG9yJTNEbm9uZSUzQiUyMiUyMHBhcmVudCUzRCUyMjElMjIlMjB2ZXJ0ZXglM0QlMjIxJTIyJTNFJTBBJTIwJTIwJTIwJTIwJTIwJTIwJTIwJTIwJTIwJTIwJTNDbXhHZW9tZXRyeSUyMHglM0QlMjIzNDAlMjIlMjB5JTNEJTIyNzUwJTIyJTIwd2lkdGglM0QlMjI4MCUyMiUyMGhlaWdodCUzRCUyMjQwJTIyJTIwYXMlM0QlMjJnZW9tZXRyeSUyMiUyMCUyRiUzRSUwQSUyMCUyMCUyMCUyMCUyMCUyMCUyMCUyMCUzQyUyRm14Q2VsbCUzRSUwQSUyMCUyMCUyMCUyMCUyMCUyMCUyMCUyMCUzQ214Q2VsbCUyMGlkJTNEJTIyOTU3dlFDelJWY1U4TmMwS2JBaVMtOSUyMiUyMHZhbHVlJTNEJTIyTFNUTSUyNmx0JTNCYnIlMjZndCUzQigxMjglMkM2NCklMjIlMjBzdHlsZSUzRCUyMnRleHQlM0JodG1sJTNEMSUzQmFsaWduJTNEY2VudGVyJTNCdmVydGljYWxBbGlnbiUzRG1pZGRsZSUzQnJlc2l6YWJsZSUzRDAlM0Jwb2ludHMlM0QlNUIlNUQlM0JhdXRvc2l6ZSUzRDElM0JzdHJva2VDb2xvciUzRG5vbmUlM0JmaWxsQ29sb3IlM0Rub25lJTNCJTIyJTIwcGFyZW50JTNEJTIyMSUyMiUyMHZlcnRleCUzRCUyMjElMjIlM0UlMEElMjAlMjAlMjAlMjAlMjAlMjAlMjAlMjAlMjAlMjAlM0NteEdlb21ldHJ5JTIweCUzRCUyMjQyNSUyMiUyMHklM0QlMjI2OTAlMjIlMjB3aWR0aCUzRCUyMjcwJTIyJTIwaGVpZ2h0JTNEJTIyNDAlMjIlMjBhcyUzRCUyMmdlb21ldHJ5JTIyJTIwJTJGJTNFJTBBJTIwJTIwJTIwJTIwJTIwJTIwJTIwJTIwJTNDJTJGbXhDZWxsJTNFJTBBJTIwJTIwJTIwJTIwJTIwJTIwJTIwJTIwJTNDbXhDZWxsJTIwaWQlM0QlMjIwTUZvZzd3eTM3dEZWQy00cllFQS0xJTIyJTIwc3R5bGUlM0QlMjJlZGdlU3R5bGUlM0RvcnRob2dvbmFsRWRnZVN0eWxlJTNCcm91bmRlZCUzRDAlM0JvcnRob2dvbmFsTG9vcCUzRDElM0JqZXR0eVNpemUlM0RhdXRvJTNCaHRtbCUzRDElM0JleGl0WCUzRDElM0JleGl0WSUzRDAuNSUzQmV4aXREeCUzRDAlM0JleGl0RHklM0QwJTNCZW50cnlYJTNEMCUzQmVudHJ5WSUzRDAuNSUzQmVudHJ5RHglM0QwJTNCZW50cnlEeSUzRDAlM0IlMjIlMjBlZGdlJTNEJTIyMSUyMiUyMHBhcmVudCUzRCUyMjElMjIlM0UlMEElMjAlMjAlMjAlMjAlMjAlMjAlMjAlMjAlMjAlMjAlM0NteEdlb21ldHJ5JTIwcmVsYXRpdmUlM0QlMjIxJTIyJTIwYXMlM0QlMjJnZW9tZXRyeSUyMiUzRSUwQSUyMCUyMCUyMCUyMCUyMCUyMCUyMCUyMCUyMCUyMCUyMCUyMCUzQ214UG9pbnQlMjB4JTNEJTIyNDgwJTIyJTIweSUzRCUyMjYyMCUyMiUyMGFzJTNEJTIyc291cmNlUG9pbnQlMjIlMjAlMkYlM0UlMEElMjAlMjAlMjAlMjAlMjAlMjAlMjAlMjAlMjAlMjAlMjAlMjAlM0NteFBvaW50JTIweCUzRCUyMjUyMCUyMiUyMHklM0QlMjI2MjAlMjIlMjBhcyUzRCUyMnRhcmdldFBvaW50JTIyJTIwJTJGJTNFJTBBJTIwJTIwJTIwJTIwJTIwJTIwJTIwJTIwJTIwJTIwJTNDJTJGbXhHZW9tZXRyeSUzRSUwQSUyMCUyMCUyMCUyMCUyMCUyMCUyMCUyMCUzQyUyRm14Q2VsbCUzRSUwQSUyMCUyMCUyMCUyMCUyMCUyMCUyMCUyMCUzQ214Q2VsbCUyMGlkJTNEJTIyME1Gb2c3d3kzN3RGVkMtNHJZRUEtMiUyMiUyMHZhbHVlJTNEJTIyJTIyJTIwc3R5bGUlM0QlMjJyb3VuZGVkJTNEMCUzQndoaXRlU3BhY2UlM0R3cmFwJTNCaHRtbCUzRDElM0IlMjIlMjB2ZXJ0ZXglM0QlMjIxJTIyJTIwcGFyZW50JTNEJTIyMSUyMiUzRSUwQSUyMCUyMCUyMCUyMCUyMCUyMCUyMCUyMCUyMCUyMCUzQ214R2VvbWV0cnklMjB4JTNEJTIyNTIwJTIyJTIweSUzRCUyMjUwMCUyMiUyMHdpZHRoJTNEJTIyNDAlMjIlMjBoZWlnaHQlM0QlMjIyNDAlMjIlMjBhcyUzRCUyMmdlb21ldHJ5JTIyJTIwJTJGJTNFJTBBJTIwJTIwJTIwJTIwJTIwJTIwJTIwJTIwJTNDJTJGbXhDZWxsJTNFJTBBJTIwJTIwJTIwJTIwJTIwJTIwJTIwJTIwJTNDbXhDZWxsJTIwaWQlM0QlMjIwTUZvZzd3eTM3dEZWQy00cllFQS0zJTIyJTIwdmFsdWUlM0QlMjJMaW5lYXIlMjZsdCUzQmJyJTI2Z3QlM0IoNjQlMkMlMjA4NTU1KSUyMiUyMHN0eWxlJTNEJTIydGV4dCUzQmh0bWwlM0QxJTNCYWxpZ24lM0RjZW50ZXIlM0J2ZXJ0aWNhbEFsaWduJTNEbWlkZGxlJTNCcmVzaXphYmxlJTNEMCUzQnBvaW50cyUzRCU1QiU1RCUzQmF1dG9zaXplJTNEMSUzQnN0cm9rZUNvbG9yJTNEbm9uZSUzQmZpbGxDb2xvciUzRG5vbmUlM0IlMjIlMjB2ZXJ0ZXglM0QlMjIxJTIyJTIwcGFyZW50JTNEJTIyMSUyMiUzRSUwQSUyMCUyMCUyMCUyMCUyMCUyMCUyMCUyMCUyMCUyMCUzQ214R2VvbWV0cnklMjB4JTNEJTIyNTAwJTIyJTIweSUzRCUyMjc1MCUyMiUyMHdpZHRoJTNEJTIyODAlMjIlMjBoZWlnaHQlM0QlMjI0MCUyMiUyMGFzJTNEJTIyZ2VvbWV0cnklMjIlMjAlMkYlM0UlMEElMjAlMjAlMjAlMjAlMjAlMjAlMjAlMjAlM0MlMkZteENlbGwlM0UlMEElMjAlMjAlMjAlMjAlMjAlMjAlMjAlMjAlM0NteENlbGwlMjBpZCUzRCUyMjBNRm9nN3d5Mzd0RlZDLTRyWUVBLTUlMjIlMjBzdHlsZSUzRCUyMmVkZ2VTdHlsZSUzRG9ydGhvZ29uYWxFZGdlU3R5bGUlM0Jyb3VuZGVkJTNEMCUzQm9ydGhvZ29uYWxMb29wJTNEMSUzQmpldHR5U2l6ZSUzRGF1dG8lM0JodG1sJTNEMSUzQmV4aXRYJTNEMSUzQmV4aXRZJTNEMC41JTNCZXhpdER4JTNEMCUzQmV4aXREeSUzRDAlM0JlbnRyeVglM0QwJTNCZW50cnlZJTNEMC41JTNCZW50cnlEeCUzRDAlM0JlbnRyeUR5JTNEMCUzQiUyMiUyMGVkZ2UlM0QlMjIxJTIyJTIwcGFyZW50JTNEJTIyMSUyMiUzRSUwQSUyMCUyMCUyMCUyMCUyMCUyMCUyMCUyMCUyMCUyMCUzQ214R2VvbWV0cnklMjByZWxhdGl2ZSUzRCUyMjElMjIlMjBhcyUzRCUyMmdlb21ldHJ5JTIyJTNFJTBBJTIwJTIwJTIwJTIwJTIwJTIwJTIwJTIwJTIwJTIwJTIwJTIwJTNDbXhQb2ludCUyMHglM0QlMjI1NjAlMjIlMjB5JTNEJTIyNjIwJTIyJTIwYXMlM0QlMjJzb3VyY2VQb2ludCUyMiUyMCUyRiUzRSUwQSUyMCUyMCUyMCUyMCUyMCUyMCUyMCUyMCUyMCUyMCUyMCUyMCUzQ214UG9pbnQlMjB4JTNEJTIyNjAwJTIyJTIweSUzRCUyMjYyMCUyMiUyMGFzJTNEJTIydGFyZ2V0UG9pbnQlMjIlMjAlMkYlM0UlMEElMjAlMjAlMjAlMjAlMjAlMjAlMjAlMjAlMjAlMjAlM0MlMkZteEdlb21ldHJ5JTNFJTBBJTIwJTIwJTIwJTIwJTIwJTIwJTIwJTIwJTNDJTJGbXhDZWxsJTNFJTBBJTIwJTIwJTIwJTIwJTIwJTIwJTNDJTJGcm9vdCUzRSUwQSUyMCUyMCUyMCUyMCUzQyUyRm14R3JhcGhNb2RlbCUzRSUwQSUyMCUyMCUzQyUyRmRpYWdyYW0lM0UlMEElM0MlMkZteGZpbGUlM0UlMEGMIqO0AAAqkUlEQVR4Ae1dCbQUxdWumQEEFQkQcP8FFVGjIS4xMZqIGiLuGxJ3jyYaTTRBckQlBoyIcQm4BIPGBWNyUINxiVFQ4340LlHjviEEUTG4IChR9HXXf7+Snsy8N0v3dPdM1fTX58x7M91Vt29999bXt9bOdcihEjry+XxBPglJS0+MFNlLTzoltwoB+l9zkO+W1G0KcgSybK2UrjhVgCP/h0eA/hceq7gpEyGNUoPFVSit/C7omFbZ212uC7Z1QcewfhK7LeECGC7oGNZgTFeOgAu2dUHHclRr/4pFGi6A4YKOtU3Eq9UQcMG2LuhYDd9q5xsmDRfAcEHHaobh+doIuGBbF3SsjXLlqw2RhgtguKBjZZPwbD0EXLCtCzrWw7na9cik4QIYLuhYzSA8XxsBF2zrgo61Ua59NRJpuACGCzrWNgmvVkPABdu6oGM1fMOeD00aLoDhgo5hDcN05Qi4YFsXdCxHtbFfoUjDBTBc0LExEzGXC7Z1QcekPKkuabgAhgs6JmWwrMlxwbYu6Jik39QkDRfAcEHHJA2WJVku2NYFHZP2maqk4QIYLuiYtMGyIs8F27qgYxr+UpE0XADDBR3TMFgWZLpgWxd0TMtXupCGC2C4oGNaBmt3uS7Y1gUd0/STMtJwAQwXdEzTYO0s2wXbuqBj2j5SJA0XwHBBx7QN1q7yXbCtCzo2wz8MabgAhgs6NsNg7XgPF2zrgo7N8o1ipNGsGzZyHxqsEdTcyOOCbV3QsZnWtp40aLBmukNz7+WCbV3QsblWU8pq0qDBmu0OzbufC7Z1QcfmWex/d7KWNGiw/xmp3b65YFsXdGyVX1hJGjRYq9wh/fu6YFsXdEzfUtXvYB1p0GDVjeX6FRds64KOrfYDq0iDBmu1O6R3fxds64KO6VkovGRrSIMGC28011K6YFsXdLTF7laQBg1mizskr4cLtnVBx+Qt07jElpMGDda48WzP6YJtXdDRNju3lDRoMNvcITl9XLCtCzomZ5HkJLWMNGiw5IxomyQXbOuCjrbZNdCnJaRBgwXwt99/F2zrgo42e0bTSYMGs9kd4unmgm1d0DGeFdLP3VTSoMHSN2ir7uCCbV3QsVX2i3LfppEGDRbFLG6ldcG2LujoitWbQho0mCvuEF1PF2zrgo7RkW9djtRJgwZrnXHTvrMLtnVBx7TtlLT8VEmDBkvaXPbIc8G2Luhoj0XDa5IaadBg4Y3gWkoXbOuCjq7ZPdA3NdIIbsD/7YUAK2N72bOR0nRrJBPzfIFAPp8vyMd6ODo6OrwklCRhJIGi+zJIGg3asLQCJVUpG1SlarYkSa20vFVvyAuZQICk0YCZXahASeqYpKwG4GYWyxCwP7a2DDAXKlCSOiYpyzJTUp0GESBpRADOhQqUpI5JyooAM5NajgBJI6SBXKhASeqYpKyQEDOZIwiQNEIYyoUKlKSOScoKAS+TOIYASaOOwVyoQEnqmKSsOtDysqMIkDRqGM6FCpSkjknKqgErLzmOAEmjigFdqEBJ6pikrCqQ8nSbIEDSqGBIFypQkjomKasCnDzVZgiQNDoZ1IUKlKSOScrqBCV/tikCJI0Sw7pQgZLUMUlZJTDya5sjQNJYaWAXKlCSOiYpq83rCIvXCQGShgDiQgVKUsckZXXyJ/7MAAKZJw0XKlCSOiYpKwP1g0WsgECmScOFCpSkjknKquBLPJURBDJLGi5UoCR1TFJWRuoGi1kFgcySRhU8rDnNSm6NKahIJwS4CU8nQGz56ckRVxfs3AUZwf+48pifCAABkoZFfpDk9nylxRK5pT9jf9dax5ZBAe4iQNKwxHalzZEs7DlqCexUowEESBoNgJZ0llLCSFp2UvJc0DGpslJObQSSjVtr34tXKyDgQmV0QccK0PJUSgiQNFICNoxYFyqjCzqGwZppkkOApJEclpEkuVAZXdAxEuhMnAgCJI1EYIwmxIXK6IKO0VBn6qQQIGkkhWRIOS5URhd0DAk3k6WAAEkjBVCriXShMrqgYzV8eb45CJA0moNz5pbfNwlW3qYFCJA0mgC6C09vF3Rsgql4ixAIkDRCgBQniQuV0QUd49iAeZNFgKSRLJ5l0lyojC7oWAYqf7QcAZJGSiZwoTK6oGNK5qHYGAiQNGKAVy2rC5XRBR2r4cvzrUWApJEw/i5URhd0TNgsFJcgAiSNBMF0oTK6oGOCJqGoFBAgaSQEqguV0QUdEzIHxaSIAEkjRXBtEk3CsMkabutC0nDbfqG0J2GEgomJQiJA0ggJlKvJSBiuWs5evUka9tomtmYkjNgQUkAFBEgaFUBph1MkjHawop1lIGnYaZdYWpEwYsHHzHUQIGnUAci1yyQM1yzmnr4kjSbabOnSpbHfmlZLXRJGLXR4LSkESBpJIRlCzsyZMwsTJkzwPv74Y5XAWxfL7kjCKIODP1JEICdv8+pI0uFyuZzCG8KSlJlk+ZPWL4o8EEW3bl+8n2r8+PH+6aefnu/Vqxd29SoWMZBXPBHiSzOxhn42v5YxwK+ZmIQwUTFJoF/xhINfGGk00WgghylTpqgePXqoiy66KD9gwAAlkYcOIo9GKqOtlaOJsPJWTUaAkUZMwPHk8H1f4X/Yo1+/fv6SJUsMYa+66qom/9ixY7VEH7nVV1/dRGphZLWCMFDORsgtTHmSSBM8yVuBTRj9A/3CpLU1DUkjpmWikEXprdBMkWZc6Sk1cOBAb/HixQU078ouVPjRqkpB0qhgjAin2oE02DyJYPBKSfHUjfrp27evHxAGIo2ePXsqiTL03LlzQ4UrrSKMSuXnuewhwLfGN9nm0pehli9fng+aJWPGjNHSIZqTDtFcPp+vSxokjCYbjLfrggCbJ10gSfdE0JwpHT3BHYUMzI1rha82EAabJ/H8o5Z940luXm6SRvOwVtOnT1eLFi3yxo0bV8BQa3AEhIHf1ZzKBsII9GNHaGC56P+r2Te6pNblIGk0EXvMCJXRkf9NypB7lxIGVKnkVLYQRqAfSQNINHZUsm9jklqXi30aTcS+T58+ZYQR5tY2EUYYfZmm/RHg6InFNiZhWGycDKtG0rDU+CQMSw1DtRRJg05ABIhAJARIGpHgYmIiQARIGvQBIkAEIiFA0ogEFxMTASJA0qAPEAEiEAkBkkYkuJiYCBABkgZ9gAgQgUgIkDQiwcXERIAIkDToA0SACERCgKQRCS4mJgJEgKRBHyACRCASAiSNSHAxMREgAiQN+gARIAKRECBpRIKLiYkAESBp0AeIABGIhABJIxJcTEwEiABJo4k+kPZb45tYFN4qwwiQNJpo/DTfGt/EYrTsVhdffLG6/fbb5T3a8iZtHpEQkHfqFKZNm1aYM2dOpHyVEpM0KqGS0rnjjjtOTZo0qdC7d2+8+NkPXvyc0u3aTuzIkSPVXnvtVRgyZEjh+uuvJ3mEtDC2jsQu6KX4zZo1K2TurslIGl0xSe2M2C7xt8anpqyFgocOHaqOPfZYvWDBAvzPbbLJJoWrrrpKIfDAx+ZXK7QKztK9Zivhd80112CH/CgfhZcQdwjYiR2igE5aZmLKiSDoJ295T1JkZFnyLleE10YXeT2jlne54o3xiDzMOdvxi1zgBDMsXLjQk1Db4AQMJWrTAwYM8KdMmQK/cwK/VvpfLfxWrFhhMASONT4dmXxZkjhby496b40vfUK0XNkSBRDm9ujRo/jp3r27WmWVVcxvfMfLrINz+I+0pdeDvDiH61OnTjXSx44dqz777LPiRxy46vdXXnlFffrpp3jglWim1MCBA73FixcX5LxH/BrDT5othR122KEM104/vEy+LAlO1QmIpv1Eh1T//v39JUuWmKZh8CJoqTT6tNNOy62xxhpN06XRGy1btkx9/vnnFSt1acUP8x0kg2OdddYpI5eAfEAywXcQDT6jR49W8+bNM/lAPPLkVieccAL6iXJCHOa8zX9sxq9fv351ocskadRFJaUEePrFfWt8SqpFEosoCZ/S99FGElCSeMyYMSW/an8VwlW33XabkmjCFyjzIIxRo0apiRMnqsGDByu57kQfna34Cfqh8Mtk86QVkUYQLiO8x1HvrfFBepPYoj8r30XadI0ED9PRGfCCjAToyZMn54YNG2Z0wXUcK/WzunnSuVllFE/5Tz38Itw+m82TCAAlkjQgALw1/pe//GXw1vgiqwcOn8jN2lBIgM9DDz2kRowYoU499VRv+PDhxffiBtfbsOiJFCnApxp+UW/C5klUxCKmF4MVnfvQQw+t+9b4iOLbPnkJfGq11VZTs2fPRpmLmJZeb3swGihgKT6V8GtApGLzpBHUQuYRgxWdO2QWhtclQDUAH/GLiV9J9opfMaOuGCJXTMGTDSPQCGE0fLM2zNgIYbQhDA0XKU38SBoNm6V6RhJGdWzCXEnT4cPc3/U0aeNH0kjYQ0gY8QBN2+HjaWd/7mbgR9JI0A9IGPHAbIbDx9PQ7tzNwo+kkZAfkDDiAdksh4+npb25m4kfSSMBPyBhxAOxmQ4fT1M7czcbP5JGTD8gYcQDsNkOH09b+3K3Aj+SRgw/IGHEAE+ytsLh42lsV+5W4UfSaNAPSBgNArcyW6scPp7W9uRuJX4kjQb8gITRAGglWVrp8CVqOPu11fiRNCK6DgkjImCdkrfa4Tup49xPG/AjaURwGxJGBLAqJLXB4Suo5cwpW/AjaYR0GRJGSKCqJLPF4auoZ/1pm/AjaYRwFxJGCJBqJLHJ4Wuoae0l2/AjadRxFRJGHYDqXLbN4euoa91lG/EjadRwExJGDXBCXLLR4UOobU0SW/EjaVRxERJGFWBCnrbV4UOq3/JkNuNH0qjgHiSMCqBEOGWzw0coRsuS2o4fSaOTa5AwOgES8aftDh+xOE1P7gJ+JI0StyBhlIDRwFcXHL6BYjUtiyv4kTRWugQJI17dcMXh45Uyvdwu4UfSED8gYcSrDC45fLySppPbNfwyTxokjHgVwTWHj1fa5HO7iF+mSYOEEa8SuOjw8UqcbG5X8cssaZAw4lUAVx0+XqmTy+0yfpkljeTMT0lEIFsIkDSyZW+WlgjERoCkERtCCiAC2UKApJEte7O0RCA2AiSN2BBSABHIFgIkjWzZm6UlArERIGnEhpACiEC2ECBpZMveLC0RiI0ASSM2hBRABLKFAEkjW/ZmaYlAbARIGrEhpAAikC0ESBrZsjdLSwRiI0DSiA0hBRCBbCFA0siWvVlaIhAbAZJGbAgpgAhkCwGSRrbszdISgdgIkDRiQ0gBRCBbCJA0smVvlpYIxEaApBEbQgogAtlCgKSRLXuztEQgNgIkjdgQUgARyBYCJI1s2ZulJQKxESBpxIaQAohAthAgaWTL3iwtEYiNAEkjNoQUQASyhQBJI1v2ZmmJQGwESBqxIaQAIpAtBEgaFto7n88XLFRLeXLYqBd1ai4C3Zp7O94tDAJCGmGStSKNITOXX17cCtDa7Z4kDcssqrW2TCOqQwTKEbD2kVauJn8RASJgCwIkDVssQT2IgCMIkDQcMRTVJAK2IEDSsMUS1IMIOIIAScMRQ1FNImALAiQNWyxBPYiAIwiQNBwxFNUkArYgQNKwxRLUgwg4ggBJwxFDUU0iYAsCJA1bLEE9iIAjCJA0HDEU1SQCtiBA0rDFEtSDCDiCAEnDEUNRTSJgCwIkDVssQT2IgCMIkDQcMRTVJAK2IEDSsMUS1IMIOIIAN+FxxFD11Fy8eLHK5XKqX79+ijtr1UOL1+MgwEgjDnpNyjts2DB1zjnnVLzbrbfe6g0fPlytv/76aq211lI77LCDuummm0zaQYMGaRBJpc8DDzzgb7rppqpbt27q9ddfL9v787LLLjN5TjvttIr35MlsI0DScMD+2AKw0jaAS5cu9Q477LDCrrvuqt5//3316quv+tttt50aPXq0fu+999QjjzySW7BggcIH0ce0adPMd/xGOt/3sVmwEuIp28h41qxZBpVK93QALqqYMgJsnqQMcJri33rrrfzy5cvV1ltv7fXq1UttuOGGhcmTJ3vdu3cvfPzxxyb6wP2xUTFIo3///mrdddc1Ksk588DYZptt1A033KB+9rOfmTRo5kgUAplpqk7ZDiPASMNh4w0ZMiQnRKGOPPLIwnHHHaeuu+46b8WKFYXzzz+/SBggCzRPSo/Sc/vuu6966qmn1MKFC32kufnmm00UgqYODyJQCQGSRiVUHDknEQWiAn/MmDFoiqjDDz+8gEjihBNO8IN+jHpFWXPNNdX222+PfhDjCxJ1eKNGjaqXjdczjABJw2Hjf/LJJ6pPnz758ePHqxdffLEgfRX+Kaecoq644oq89EuEfhfCAQccoNCP8e677/oPPvhgXqIPE3U4DA1VTxEBkkaK4CYtGp2WwQedlFdffbXaeOONPXRPILKQEZT82WefrdZbbz01d+7c0KSx3377eY8//ri69NJL8zJSk5NRl6RVp7w2QoCk4YgxEUU8/fTTKvi88MILascdd0R0kJfhWO/TTz81oyF//etf1TvvvKOkgzPo66xbQgzXbrvttvqss85SbJrUhSvzCTh64oALoOMSTQ75FLXdfPPN1bPPPqt++9vf5k499dTCmWeeaeZcoI9i3Lhx3siRI8uGUYPOUMgqPYLzBx10UA7RhjRNTIQSnC9Ny+9EAAjkOuQQRyr3pBjYwNlEpJekzBjqdMlqu35dFA5x4qOPPvJfe+21XO/evTVGUwT7zEaQttt3pX5meDuEaa1LIs1jj6RhnVmoUBwESBpx0KufF6SR2SdSfXiYgggQgUoIkDQqocJzRIAIVEWApFEVmtZcwCgI5ku05u617/rGG29YqVdtrXk1aQRIGkkjGlPeMccco+bMmVOc9435GLIoTcmkq7IKO336dLXHHnuo/fffX9144436s88+M3eW4VZv6tSpCovYsEr1pZdeqqgR5GIB22677ab23ntvdc8993RJ9/zzz6utttrKFxIz14466ih93333dUnHExlDAKMn4kCJHQKfTlpmYsqJIJv1k4qrhw4dqmX1qSmyzNL0jzjiCKOzTPMuwiBL1/Vqq62mx44dqy+//HItw6y+TOrykODAAw/UO++8s545c6Y++OCDO2Sil5ZFbcW8wZcLLrhAy/oSLcShJ02apGXExZ83b56RgTQS8ejNNtvM3PvNN9802WSqut5oo420zEQNxFj332b7AqyV+lmHW1iFULcxPErSCItYyun23HNPfd555xXvcsghh2iZrYkKrUtJA9O8ZS4GyNkQjEwdx94YHZ9//rnu0aOHL+tHDHHPnz/fOOmTTz75BQsVJWuN4dlbbrnFExkeSOraa6/1ZMJYMZ2sZ9G77757B5w8IA1kl0VyIKRiuhKRVnwlaaRrBvAFJ3eJl9lySOX2jj/+eDQZTfNEKqdRbY011ihT8fTTT/dlYZqZCiMuoh599FEts0MLGG6UpkZu4sSJ3qJFiwqYHYp5G9LEKDZ3IEiaMFrmduSEDPKSz5Op6Ar3lSjH7Ntx1113KSEUNJMKs2fPLru3TCrTd9xxhy+EltjcnrIb8If1CLBPwxITffDBB55U5gIqeb3jG9/4RgHrSzBdXKIT71//+ldeVraafTPQB/Hyyy8XMCX83nvvVZtsskmXDXwkAjEk8pvf/Ebts88+BSEYb5dddlFLliwxm/kcffTR6sorr1TSBCr2o8jwvFELzRPIr6cjr7cvAiQNS2wr/QmmIso6kLKooJp6EgUo6XNQH374YeGJJ57wsWkO1qecccYZ+UsuucTHzl2IQO68884unZwSYRqxsmZFo5lz9913F/7v//4P+3H4J598stpggw2UNHVU0Okp5KOxOQ8OIbW87BiGZg+PjCLA5oklhsfeGDjefvttdIbWJA4QBpazS/+HOvHEE7HC1ZC/bKZjKrN0nuaxlZ9s6ZcTWf5jjz2WRySBAytig927hACK9xk4cKBatmyZkSNRj9nJS8jF/JZ1LbkBAwaotddeG8PBII5iPiOUfzKFgHGKTJXY0sKiP0E6MZWsIamr4UUXXaRkhMR8sNoVQ6OyP6iS/gYTrcgSdxMpPPTQQ1iTkpcRFfP73HPPxW81ePBgJR2nGJpF34aJRLBYTVa46muuuUbL3hxogiBSMbrIcK8aMWKE+S5L7n30a9RVkgnaFwH0hibZ3ypIcci1QUBlJ3F94YUXdsmNkQ7Z/Ld4vm/fvmZUBFgHH2lS+DDllClTMJSKRYi+vM5AywpYM8oi/RUmrczpMMOqDz/8sBmqlcjDnD/ppJNMulJ3kCaJuVY6eiK7fGnZx6Ooi21fHPE/22ALrQ/4gkOuoeFKP+GMGTN82QfDVN44d8MQ6nPPPWfmU4AE8MG5Y4891n/mmWeKomVCmEkn5GAIB+lqHdKBiqFaT5ootRPWEpLyNZJGugCLj3zRZhWgeViAgGwQbPoK7r///ljaYOh1iy22UD179jRLsCXqQH+FJ52duS233LIoG/0oSCf9FTmkwafWgQ2LJ0yYkJdIp3bCWkJ4zXkEuDTeMhNKf4KZY4Fp4LYdMvtUyVRyQ0a26Rbow6XxARLp/MfSeJJGOthSaosQIGmkCzxIg6Mn6WJM6USg7RAgabSdSVkgIpAuAiSNdPGldCLQdgiQNNrOpCwQEUgXAZJGuvhSOhFoOwRIGm1nUhaICKSLAEkjXXwpnQi0HQIkjbYzKQtEBNJFgKSRLr6UTgTaDgGSRtuZlAUiAukiQNJIF19KJwJthwBJo+1MygIRgXQRIGmkiy+lE4G2QyAV0pDdoKzcbwEr9NrOgixQFwTof10gSfREKhsLY/NaSw9DZrLZjJWkZilmzqnlgP85h2mpwomThmw2Viqf34lAUxGg/6UPt7UhQfpF5x2IABFoBAGSRiOoMQ8RyDACJI0MG59FJwKNIEDSaAQ15iECGUaApJFh47PoRKARBEgajaDGPEQgwwiQNDJsfBadCDSCAEmjEdSYhwhkGAGSRoaNz6ITgUYQIGk0ghrzEIEMI0DSyLDxWXQi0AgCJI1GUGMeIpBhBEgaGTY+i04EGkGApNEIasxDBDKMAEkjw8Zn0YlAIwiQNBpBjXmIQIYRaDpp+L6v8Il7fP7556rahiu4xoMIEIF0EAhNGv/9738VtlHL5XJdPn/4wx9Cs8C1116rtt9++9il2WyzzdTs2bO7yHn66afVl770JXP+iCOO8H760592ScMT2UHg7LPPVl/72tcqFnj11VdXDz74YMVrPFkdgdDb/eGpjs/MmTP1tttumysVufbaa4cmnyBf6R6/aW3ZedpppxW6dQtdxEA1/m8jBAK/rVSkW265RW2++eYV95vmPrKVEPviXOTKPmjQoNyGG26oSj+rrbYaGNvfbbfd1Lhx4/T666+vdt99d/33v/9dffOb31Rrrrmm94tf/KK4eehHH32kDjnkEDVgwAD1rW99Sz311FPmGgz861//2t9kk00UPpMmTSo2QV555RV/55139uT++sc//rFasWJFsVR//OMf9Ve/+lXzRJkxY0bxPnCK22+/3aTDfS699FI1bNgwBf0gG8S1kgjVlltuqb7+9a/j/mr//fcvyuaX9kUAtl64cGH+H//4R+GAAw4oiI/mxb8KW221VeGBBx4w0XMtn3z++eeV5IMf6+985zv6L3/5i8nz2GOP6T333FPDx4SU2g/ADjkEmLrHxx9/jMqoTz31VP+qq67SpR9k/tvf/mau77HHHvqaa67xJfowv8UwGh/knTt3bsfKSq2lYurrr7/el6hFCwH50g+hf//73+vevXt706ZN07NmzfL79u3rXXjhhUa3bbbZRkulNrKFPIw8IQT96quvevJU0Mccc0zHZZddpoWg/FVXXdXkOfLII0Ew5nuvXr20GNeH3BNPPNHkf+ONN/SiRYu0NLn8s846S0+fPl1/+ctf1v369TN5+Md9BGBXeaBULAh84v777y/67siRI/Vtt92GSFpLE9rkqeWTSLPvvvtqIRjzUITvffrpp/ruu+82/rXxxhtr+HI7HeALFZU0pILrLbbYovgRVjaYgDSk8ukPP/wQIv3Ro0d3SJShpdNTyxNdw0B33XWXBmmgki9ZskQj3T//+U8D8HPPPach6+STT8Z5k2/ixInGeP/5z39MnhdffNHkEfLB+0s0SAMVXdi8mOe8887T1UgDZBbo07NnT0RCID9PSAg6m3vK04Gk0UZeHpY0unfvrpctW2b8SCLUog9U80lAhKb622+/7UvkjCjD+PG///3vImm88MILoR7ILsGNihK5wY+OTDQ5gqO0P0Ke0ko6lwroMMV/hPxBxyn6FuR+Jpuc9yWikGT5HJoLSPPBBx+oefPmKXRkXnTRRSadgIlmECo3ooccmiw45Fx+rbXWMt/vuecetd1224FECpCzww47mPOV/kg+SfJFRy46wdDEEdl5kA7S4xo6aSW6qZSd59oYAYkulfiY6ezv06ePkojBlLaaT8rFnETfvvheXqJV0+QthUeiZDV06NC2fL9O5D6NUmDwPegXwHdha/wzlc98qfJn6dKlxfuieQFCEfLwMOqB3m5hfPN57bXX1A033JAD+GKgnDA6iCYv+dXixYuN9MGDB6OJYYwDkpFopOpIjmTtolGPHj1AVj6uIb88OQyBdEnIE04jAD8t/cDWpUfw8MODo/So5JMSYfjvvPOOlmZu/vjjj/clalb33Xdfmd91llMq0/XvXWtRnRK9/PLLJhpARBB80Hyok63s8vz589Wf//xnNFE8aU4gctF48u+4446+hHnq/fffNx/pk1DS/PC23nprdKb6kydP9oQ81NSpU71grsd+++2Xe+SRR9ScOXM86CGdouVWL7tz1x+ITCR/QYyu33zzTV9kR8rfVSLP2IaATBfQga8G/z/77LNQalbySennUPLgykGG9OHlVlllFXXxxRebuhT4ZSjhjiaK3Dz54Q9/2KWoU6ZMQTRgQruAsZGodLiz9Ck/aNAgNXbs2JxU8ryMvOibb77ZkA56s/fee2+10UYbmXtgRESIIg/Wlr6GgrC6aTpIM6UAGZCJ5sS3v/1tvddee8mtC+q73/2uKtUhYHykLdUBN8DvH/zgB+r111/XBx98cE6cK4cRFISbPNoDAdhf+sCMXUtLhJEP2L/UP0r9JvhezScx8nfQQQdpeeDlEK2K/3nS8Vk46qij1JlnnmluFcgovW87fM+hY0MK1/S2FxgZzY8NNtig2KyBERE24jz6PzbddNMyAnj33Xd9aZbkpA9CbF0eEIhjKGF8f5111kGe0BGUdFahSaJ22mkn40RXXHEFoiCEm+1gX5YhAQQCXw18MhAJf12wYIGHKLl///4FzESWvjkPhNKKOhXoleZ/aeJ5LSONNAsWRbbM/1AynKt+9KMfKekMwxBvXp4uuWOPPTaKGKYlAplAgKSx0swyuUfddNNNCm3UXXfdVe2zzz6ZcAAWkghERYCkERUxpicCGUcApBG67d8ZK5nEgrkRbXFgMZ5MSmuLsmSpEJhLgX4ul8sss5Kd07+hPg2E8phJKTMyCzJe7cm4dQFrPDDygN5jrEDFITM6MTJRtCk6Ns844wxjaJn5WUZYRx99tGkayNCp+tOf/lTMgy9YM4IJN5WOyy+/HPKM3OC6zP1XMn0X6wpMU0PWuWiZ1p4TkjTNEJn7YTpfsf4FTRFJ58sU4vyjjz6qZNJZIIb/LUfg0EMPNWucZDVzDja85JJLNIbP1113XYxgYKZwWW85huqfeeYZJauy63b8y3ooJcP3StJ7suShIPcwq6dBUo34brW6gPVUEyZMKMh/y9H+Qr2GIg2w+09+8hNPhkBNpZcJLgWZQq4wFIue5O9973sKT24cshYEC8wMmYBQxIjmvIx05GW+fvE8rmE2KY477rgD8zfKrmEcvPMh4+0aE8FOOeUUTOgqXgZzo1/ivffe00JEPnST4TDjPDfeeCN010IQRr5MdVf33nuvwojLiBEjDMmBWHjYjwDshop92GGH4cGnvv/97+dBGFhXBB/FQ6j0kAeJJ4spCzIyV5cwMAIyfPhw82CRh2AOc4Ukr4kIGvFdjAhWqwvnnHNOAZ3uwQzUUp2t/S6AR5ofjwgDC3pkGEpjkZmMUfvy5Mac/Q6ZtIX5FvrJJ5/UWOAmQ1L6k08+MfP5cZvgVjNmzPBlUgyylB0CrlkdKGtEPLlQ9sG10gOL02RilxZS0ogkggPrATD1XPIbHSV6wNx1LUOrvszF0BhbD67JPgueLJ/3cS95opj1MVg7E8jif3sRwCpSrDMSkseCsw6Ztq2XL18O23ZgXRMWisH3cMgMY0/mEWnxOT9YiFarZPJw8eRBpTEpDPKw4FJ8ykeeqL6LelKrLkDmkCFDsI7FyMdvmw/gUdZECMNsMikmL80MD/MkMHlLJmPlJPTCytQCJkoJuGaJOpolmP4hhvKwBgWTZDDTE4ewvZahzoLM20dYlhfSwbqRgoClZFq5liYH7pGTlauYdQodu+iJIVKZFKZ22WUXIzP4I06BlaxY4GYm7siCuII4lA+9RFcPkcevfvUrTyaXKZQFM0qF3PKYnIa1KFgmHcjif3sRkAeTF6wZkv61AiYCygMAk60KF1xwgS+29rGsAT4lts5jHo5EwSbirFcqiVTzmLAlUYaWiYsFNHXlYWPyNuC7poleqS4EUS3KIRG2M30bXSpjPUCfffZZT9Z7FJPJKkBfppYXZDWhCfWxqAyTYTDZCodU6gJ2z5J2pEKzANckIjH3Pemkk2BkMytTZn4qTI6R5kUOzQVp56GJkcM0b0zACntI5JGXaeem/+L888+Hw6if//znJtSUmaZ5OJK0bQu/+93vMCHHLMUHAaIJhIlmmCnIw24E0HyQvrQCHgQ48IBCc1d8M3fggQcq2XIhf9xxx+FZgD4sH4sapfIXCxVU1uKJTl/gIxJNe5I3d+6556q33noLs5RNpY7qu7J6u2pdgH44RLZGHeqkhr0/EW5ECYfQHJC59x7yCIDoANDSAYW1IFqaAr5UQH3nnXdqeWoHy99NM0HWlATNhA4sQQ6WISOfNBs6pPO0A9+xfgT/8UF4if01sLy52iHRSFnzBOmks8rsiSD9JFjLUmyOSGSDDk+zlFkczyzFl/ymLMgn09H98ePHOxEmQt+sHk888YRpBsOH0DzBwwfLEbBEHe4sUYgvT3az1wr2RpEHByLMDuk78NFMwRYNtdxeCMbImy/NbfgxmrDY2wXN8UZ8V/zYQ5MJ94Rfl9YF2BBNKWmiOOF3UobozRM0SSQCMBQZ7LglPct5AQNL1LEGxX/88ccR5isxXpEtJToxa0gE/Dw6JIOmChII0xakgqMHXGETFDwJIA9Pf1molpOVhqFDNwydolMTPegvvfSSL5ukeAGjS79FTnZaysneHqYnHCMnUoYv6F70EJ1yIMWi0vxiJQLBaupgRfJ6661nOtJhV9h64MCBxofkwZBHB7sQRl6Io4Cd3KSzHp3hJl21wmFRm/iyJzu8ebiXLJzMSaXPS0SjG/Fd6YTNV6sL0AGjfxI1hWo6VdO5qefBHFGeWKNGjdKHH364yYNNRkRZjGKYqAA7GIHhsVnOdddd14GNbiTswtL1DnRW7rTTTmBbH52R6JDCrdFRKYAZtgUby9Cqljap6WRFRIPIRcJDI1/u44m8MkbuHGkgj6wF8BD1YGOf4IOoBTs4SR8KVrOaHbuwwYo0g0zx8QTARkEPP/xwJDyiYMe0ySAAW0qfA3bZ8hFpSJPSbAB15ZVX+ujIliFRH7aFfwUf2BdP9MDvoAk6zW+99dYuSmEjJmzkJD6EkRgtI3S+RMIN+a74mlejLph7ywiQB527KGLhCcEz/M5dgf4YCy8FHqGcbIiDRW8+QkHZDtCEYDAmRjfQCw0Do6kgG97gnj5GKtCZipASpAMyCcI3GBZyUIHlqaGluYA8WqIAkxY924Eu+A/SEBIrnkJzAzI7f7BDmAzJmS0DQWzQCb3pEoIaksB/EBRCXB72IyB9XRpbQcI3QAgY4YBd4TN48EhUYfwG14MjII3gtwyrdmCHueB38F+aIB4ejvBBiaz1V77yFUMuIqsR35WqULkuBPdDfbr66quDn1b/B6iht/sLSiKrTLHrlkYvcnDAaHii4wnQ+ZDQqwPRAYAr/SDP/PnzzVMfhg0+OI+2I6IVPDVKz6NNCsKJe2BvUPSdQHZwILqR5oq5X3CO/+1FYIYM22Pf2FIb4sGDqGPl0GvZtUolwXaP2PC62iHk0YFouvMRwXcNYcDvkae0LgT3RB1Avx2uBeds/g8sIpMGCoRmglTgsid+2gUFgSBsBPhJHwhB0UTq3PRJ+j6UlxwCqIggDVT8Rg+ZKqAxIbHR/EnkO+GEE0xzXOpiEuJSlwHSaGgaOYZGMYRaaUMeaRY4d8g4v4fZhdjG3jnlM6ywRKMetnrEDGBXDyyDwNIL6f9zoggInRoiDSdKRyWJABFIHAGQRnG4MXHpFEgEiEBbIkDSaEuzslBEID0ESBrpYUvJRKAtESBptKVZWSgikB4C5hUG6NxI7xaUTASIQDsh8P/GuMOXCrI26AAAAABJRU5ErkJggg==)"
      ],
      "metadata": {
        "id": "7PRwkz7d8y_9"
      }
    },
    {
      "cell_type": "markdown",
      "source": [
        "A primeira camada é uma camada de embedding como no Encoder, mas nesse caso ela recebe um one-hot vector de tamanho 8555, que é o tamanho do vocabulário em alemão, pois vamos traduzir do inglês para o alemão. Essa camada retorna o embedding de 128 dimensões correspondente ao id de token passado.\n",
        "\n",
        "Em seguida, o vetor de embedding é passado para uma camada LSTM. No Decoder, o primeiro token passado é o `<sos>` para iniciar a tradução. Nesse caso, os valores de hidden e cell iniciais serão os valores de hidden e cell finais do Encoder, assim conectamos as duas partes numa única rede Seq2Seq.\n",
        "\n",
        "Para finalizar, a última saída da camada LSTM é passada para uma camada totalmente conectada (Linear). Essa camada recebe um vetor de tamanho 64 e retorna um vetor de tamanho 8555, ou seja, o tamanho do vocabulário no idioma traduzido (alemão). Para saber qual o token que sai do Decoder, basta olhar a posição do maior valor do vetor de saída. Se o maior valor for, por exemplo, o índice 50, então o token com id 50 é o token retornado.\n",
        "\n",
        "Após gerar um token de saída, ele é usado como entrada do Decoder e o processo se repete até que ele gere um token `<eos>` ou que ele gere um quantidade máxima de tokens definida."
      ],
      "metadata": {
        "id": "MyTxFU9U-Sv9"
      }
    },
    {
      "cell_type": "code",
      "source": [
        "from torch import nn\n",
        "\n",
        "class Decoder(nn.Module):\n",
        "  def __init__(self, output_dim, embedding_dim, hidden_dim, n_layers):\n",
        "    super().__init__()\n",
        "\n",
        "    self.hidden_dim = hidden_dim\n",
        "    self.n_layers = n_layers\n",
        "    self.output_dim = output_dim\n",
        "\n",
        "    self.embedding = nn.Embedding(output_dim, embedding_dim)\n",
        "    self.lstm = nn.LSTM(embedding_dim, hidden_dim, n_layers)\n",
        "    self.linear = nn.Linear(hidden_dim, output_dim)\n",
        "\n",
        "  def forward(self, x, hidden, cell):\n",
        "    embedding_vector = self.embedding(x)\n",
        "    outputs, (hidden, cell) = self.lstm(embedding_vector, (hidden, cell))\n",
        "    prediction = self.linear(hidden)\n",
        "\n",
        "    return prediction, hidden, cell"
      ],
      "metadata": {
        "id": "gaVyoZqT1qzd"
      },
      "execution_count": 41,
      "outputs": []
    },
    {
      "cell_type": "code",
      "source": [
        "decoder = Decoder(len(vocab_de), 128, 64, 1)"
      ],
      "metadata": {
        "id": "NX2mPWJb42fR"
      },
      "execution_count": 42,
      "outputs": []
    },
    {
      "cell_type": "markdown",
      "source": [
        "Ao passar uma entrada para o Decoder, ele retorna o vetor que indica o token previsto e também o hidden e o cell do LSTM."
      ],
      "metadata": {
        "id": "zgtngJhkAgYp"
      }
    },
    {
      "cell_type": "code",
      "source": [
        "decoder(torch.LongTensor([0]), torch.zeros(1,64), torch.zeros(1,64))"
      ],
      "metadata": {
        "colab": {
          "base_uri": "https://localhost:8080/"
        },
        "id": "Zque43_a5Hsk",
        "outputId": "1c8691f1-68e1-4567-b3e3-a80dbfce59e5"
      },
      "execution_count": 43,
      "outputs": [
        {
          "output_type": "execute_result",
          "data": {
            "text/plain": [
              "(tensor([[-0.1225, -0.1167,  0.0330,  ...,  0.0748, -0.0383, -0.0926]],\n",
              "        grad_fn=<AddmmBackward0>),\n",
              " tensor([[-0.0553, -0.0289, -0.0626, -0.2369,  0.0931, -0.2649,  0.2655, -0.0157,\n",
              "          -0.1895, -0.1397, -0.0195, -0.1597, -0.1251, -0.1065,  0.1602,  0.0326,\n",
              "          -0.0566,  0.1228,  0.0470, -0.0673,  0.0788, -0.1788, -0.0017,  0.1333,\n",
              "           0.1611,  0.1788, -0.1205, -0.0440,  0.0716, -0.2015, -0.0080,  0.0088,\n",
              "           0.0600,  0.2735, -0.0434,  0.0469,  0.0662,  0.0424,  0.0464,  0.1469,\n",
              "          -0.1839, -0.0130, -0.1696, -0.1214,  0.0995, -0.0760,  0.1314, -0.0568,\n",
              "          -0.1814, -0.1904, -0.1264, -0.0413,  0.0451, -0.0133, -0.0959, -0.0169,\n",
              "           0.0438, -0.0351,  0.3722, -0.0840, -0.3564, -0.1152,  0.1002, -0.0774]],\n",
              "        grad_fn=<SqueezeBackward1>),\n",
              " tensor([[-0.1439, -0.1299, -0.1404, -0.5240,  0.3439, -0.4127,  0.4731, -0.0651,\n",
              "          -0.3292, -0.4471, -0.0218, -0.2797, -0.2041, -0.1697,  0.6835,  0.2540,\n",
              "          -0.1742,  0.3457,  0.1287, -0.1114,  0.1884, -0.5720, -0.0031,  0.2016,\n",
              "           0.4436,  0.2800, -0.1756, -0.0529,  0.1268, -0.3184, -0.0187,  0.0260,\n",
              "           0.0912,  0.4697, -0.0698,  0.0783,  0.2517,  0.1053,  0.1475,  0.4328,\n",
              "          -0.4621, -0.0482, -0.2810, -0.1999,  0.1491, -0.1306,  0.6897, -0.1172,\n",
              "          -0.2888, -0.4687, -0.1612, -0.0923,  0.0984, -0.0313, -0.1169, -0.0368,\n",
              "           0.0801, -0.1191,  0.6223, -0.2427, -0.5712, -0.1839,  0.2898, -0.5772]],\n",
              "        grad_fn=<SqueezeBackward1>))"
            ]
          },
          "metadata": {},
          "execution_count": 43
        }
      ]
    },
    {
      "cell_type": "markdown",
      "source": [
        "Juntando o Encoder e o Decoder, temos a seguinte arquitetura.\n",
        "\n",
        "O Encoder é conectado ao Decoder através da camada LSTM. Os últimos valores de hidden e cell do Encoder são passados como os valores iniciais da camada LSTM do Decoder."
      ],
      "metadata": {
        "id": "pXYZQwoNApWH"
      }
    },
    {
      "cell_type": "markdown",
      "source": [
        "![seq2seq-encoder2.drawio.png](data:image/png;base64,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)"
      ],
      "metadata": {
        "id": "aHmiuLpweg6r"
      }
    },
    {
      "cell_type": "markdown",
      "source": [
        "A seguir, vamos criar o modelo que junta o Encoder e o Decoder. Nessa implementação, o modelo abaixo vai ser usado apenas para o treinamento do Encoder e do Decoder. Para efetuar a tradução para novas entradas, usaremos o Encoder e o Decoder de forma separada."
      ],
      "metadata": {
        "id": "w0tzX4OR9st-"
      }
    },
    {
      "cell_type": "markdown",
      "source": [
        "O construtor do modelo Seq2Seq recebe o Encoder, o Decoder e o device onde o modelo vai rodar, preferenciamente na GPU. Como as camadas foram criadas no Encoder e no Decoder, aqui no Seq2Seq, não criaremos nenhuma camada nova.\n",
        "\n",
        "No método `forward`, além da entrada, também passamos a saída esperada e um parâmetro que é a probabilidade de usar uma técnica chamada teacher forcing.\n",
        "\n",
        "Como esse modelo vai ser usado apenas para o treino, não tem problema passarmos a saída esperada. Vamos usar esses dados para saber quantos tokens devemos tentar traduzir e também para o teacher forcing.\n",
        "\n",
        "Ao treinar um modelo Seq2Seq, o Decoder gera sua saída de forma iterativa, um token por vez. A geração de um novo token depende dos tokens gerados anteriormente. Assim, se o Decoder gerar um token errado, as chances do próximo token ser errado é ainda maior. Por isso, usando o teacher forcing, nós forçamos o Decoder a receber o token certo, mesmo quando o previsto for errado. Isso facilita o treinamento e ajuda o modelo a aprender mais rápido.\n",
        "\n",
        "O código abaixo possui comentários para explicar o seu funcionamento de forma detalhada.\n"
      ],
      "metadata": {
        "id": "fEi4q7Rk-OrX"
      }
    },
    {
      "cell_type": "code",
      "source": [
        "class Seq2Seq(nn.Module):\n",
        "  def __init__(self, encoder, decoder, device):\n",
        "    super().__init__()\n",
        "\n",
        "    self.encoder = encoder\n",
        "    self.decoder = decoder\n",
        "    self.device = device\n",
        "\n",
        "  # O método forward recebe a entrada (source), mas também a\n",
        "  # saída esperada (target) e um parâmetro que define a probabilidade\n",
        "  # de usarmos o teacher forcing.\n",
        "  def forward(self, source, target, teacher_forcing_ratio=0.9):\n",
        "    # A entrada e a saída são passadas para o device.\n",
        "    source = source.to(self.device)\n",
        "    target = target.to(self.device)\n",
        "\n",
        "    target_len = target.shape[0]  # Quantidade de tokens na saída.\n",
        "    target_vocab_size = self.decoder.output_dim  # Tamanho do vocabulário da saída.\n",
        "\n",
        "    # Esse tensor tem a primeira dimensão com o tamanho igual o tamanho da saída.\n",
        "    # Ou seja, o tensor vai guardar todas as saídas do decoder.\n",
        "    # Cada saída do decoder tem shape (1, target_vocab_size), por isso,\n",
        "    # definimos as outras duas dimensões do tensor outputs com esses mesmos\n",
        "    # valores.\n",
        "    outputs = torch.zeros(target_len, 1, target_vocab_size).to(self.device)\n",
        "    outputs[0][0][0] = 1  # O token inicial é o <sos> que tem índice 0.\n",
        "\n",
        "    # O encoder é executado.\n",
        "    hidden, cell = self.encoder(source)\n",
        "\n",
        "    # Para iniciar a execução do Decoder, nós começamos sempre com o token\n",
        "    # <sos> que será sempre o primeiro token do target.\n",
        "    input = target[0]\n",
        "    input = input.unsqueeze(0)\n",
        "\n",
        "    # O Decoder será executado um número de vezes de acordo com o tamanho\n",
        "    # da saída. Como o primeiro token é o <sos>, começamos o for do índice 1,\n",
        "    # não do 0.\n",
        "    for t in range(1, target_len):\n",
        "\n",
        "      # Note que na primeira iteração do for, o hidden e o cell passados para o\n",
        "      # Decoder é o hidden e o cell do Encoder. Para as próximas iterações,\n",
        "      # o hidden e cell do Decoder será o hidden e o cell da iteração anterior.\n",
        "      prediction, hidden, cell = self.decoder(input, hidden, cell)\n",
        "\n",
        "      outputs[t] = prediction  # Resultado é adicionado aos outputs.\n",
        "      top1 = prediction.argmax(1)  # É escolhido o id de token com o maior valor.\n",
        "\n",
        "      # Teste para saber se usaremos o teacher forcing.\n",
        "      teacher_force = random.random() < teacher_forcing_ratio\n",
        "\n",
        "      # Caso o teacher forcing seja usado, o token que será usado de entrada\n",
        "      # na próxima iteração do Decoder será o token correto vindo dos dados da\n",
        "      # saída esperada (target) que é passado na chamada do método forward.\n",
        "      # Se o teacher forcing não for usado, o token de entrada na próxima\n",
        "      # iteração será o token previsto nessa iteração.\n",
        "      input = target[t].unsqueeze(0) if teacher_force else top1\n",
        "\n",
        "    return outputs\n",
        "\n"
      ],
      "metadata": {
        "id": "qSzHNtmI5afi"
      },
      "execution_count": 44,
      "outputs": []
    },
    {
      "cell_type": "markdown",
      "source": [
        "Vamos instanciar o modelo Seq2Seq."
      ],
      "metadata": {
        "id": "U7k3ibVPC_pK"
      }
    },
    {
      "cell_type": "code",
      "source": [
        "device = torch.device('cuda')\n",
        "seq2seq = Seq2Seq(encoder, decoder, device).to(device)"
      ],
      "metadata": {
        "id": "SpC31yXP85iP"
      },
      "execution_count": 45,
      "outputs": []
    },
    {
      "cell_type": "markdown",
      "source": [
        "### Treinamento"
      ],
      "metadata": {
        "id": "zM45J2KR7qpJ"
      }
    },
    {
      "cell_type": "markdown",
      "source": [
        "Para o treinamento, vamos usar o otimizador Adam e a função de erro entropia cruzada."
      ],
      "metadata": {
        "id": "fQckD3XoDQMV"
      }
    },
    {
      "cell_type": "code",
      "source": [
        "from torch import optim\n",
        "\n",
        "optimizer = optim.Adam(seq2seq.parameters())\n",
        "loss_fn = nn.CrossEntropyLoss()"
      ],
      "metadata": {
        "id": "_Vy8Dg8HAHh8"
      },
      "execution_count": 46,
      "outputs": []
    },
    {
      "cell_type": "markdown",
      "source": [
        "O próximo passo é criar uma função que vai executar o treinamento.\n",
        "\n",
        "O código abaixo possui comentários para explicar o seu funcionamento de forma detalhada."
      ],
      "metadata": {
        "id": "QmEL1O0_DqIm"
      }
    },
    {
      "cell_type": "code",
      "source": [
        "from tqdm.notebook import tqdm\n",
        "\n",
        "def train():\n",
        "  seq2seq.train()  # Coloca o modelo no modo de treinamento.\n",
        "\n",
        "  epoch_loss = 0  # inicia o loss de cada época.\n",
        "\n",
        "  # A cada iteração do for temos um par de ids de tokens inglês-alemão.\n",
        "  for source, target in tqdm(dataloader_train):\n",
        "    # Reseta os gradientes.\n",
        "    optimizer.zero_grad()\n",
        "\n",
        "    # Os dados são passados para a GPU.\n",
        "    source = source.to(device)\n",
        "    target = target.to(device)\n",
        "\n",
        "    # Ajustes nas dimensões.\n",
        "    source = source.squeeze(0)\n",
        "    target = target.squeeze(0)\n",
        "\n",
        "    # Entrada e saída esperada são passadas para o modelo.\n",
        "    output = seq2seq(source, target)\n",
        "\n",
        "    # O primeiro token sempre será <sos>, então vamos removê-lo para o\n",
        "    # cálculo da função de erro.\n",
        "    output = output[1:]\n",
        "    target = target[1:]\n",
        "\n",
        "    # Ajuste nas dimensões.\n",
        "    output = output.permute(1, 0, 2)\n",
        "    output = output.squeeze(0)\n",
        "\n",
        "    # Cálculo da função de erro.\n",
        "    loss = loss_fn(output, target)\n",
        "\n",
        "    # Backpropagation e atualização dos pesos.\n",
        "    loss.backward()\n",
        "    optimizer.step()\n",
        "\n",
        "    # O erro é acumulado.\n",
        "    epoch_loss += loss.item()\n",
        "\n",
        "  # Retorna a média do erro.\n",
        "  return epoch_loss/len(dataloader_train)"
      ],
      "metadata": {
        "id": "YG1K8z_TAVwh"
      },
      "execution_count": 47,
      "outputs": []
    },
    {
      "cell_type": "markdown",
      "source": [
        "Criaremos a função `test` para testar o modelo nos dados de testes. Essa função é similar a função `train`, mas sem a atualização do modelo.\n",
        "\n",
        "O código abaixo possui comentários para explicar o seu funcionamento de forma detalhada."
      ],
      "metadata": {
        "id": "m1f8DV8yGniS"
      }
    },
    {
      "cell_type": "code",
      "source": [
        "def test():\n",
        "  seq2seq.eval()  # Coloca o modelo no modo de teste.\n",
        "  epoch_loss = 0\n",
        "\n",
        "  # Não vamos atualizar o modelo, por isso, podemos desabilitar o cálculo dos\n",
        "  # gradientes.\n",
        "  with torch.no_grad():\n",
        "\n",
        "    # A cada iteração do for temos um par de ids de tokens inglês-alemão.\n",
        "    for source, target in tqdm(dataloader_test):\n",
        "\n",
        "      # Os dados são passados para a GPU.\n",
        "      source = source.to(device)\n",
        "      target = target.to(device)\n",
        "\n",
        "      # Ajustes nas dimensões.\n",
        "      source = source.squeeze(0)\n",
        "      target = target.squeeze(0)\n",
        "\n",
        "      # Entrada e saída esperada é passada para o modelo.\n",
        "      output = seq2seq(source, target)\n",
        "\n",
        "      # O primeiro token sempre será <sos>, então vamos removê-lo para o\n",
        "      # cálculo da função de erro.\n",
        "      output = output[1:]\n",
        "      target = target[1:]\n",
        "\n",
        "      # Ajuste nas dimensões.\n",
        "      output = output.permute(1, 0, 2)\n",
        "      output = output.squeeze(0)\n",
        "\n",
        "      # Cálculo da função de erro.\n",
        "      loss = loss_fn(output, target)\n",
        "\n",
        "      # O erro é acumulado.\n",
        "      epoch_loss += loss.item()\n",
        "\n",
        "  # Retorna a média do erro.\n",
        "  return epoch_loss/len(dataloader_test)"
      ],
      "metadata": {
        "id": "VKJCYhNNMbY2"
      },
      "execution_count": 48,
      "outputs": []
    },
    {
      "cell_type": "markdown",
      "source": [
        "O treino será feito por 4 épocas. A cada época executaremos o teste em todos os dados de teste. Os resultados dos erros de cada época e de cada teste serão apresentados e acumulados nas listas `train_losses` e `test_losses`."
      ],
      "metadata": {
        "id": "vNY7EWOUHoAH"
      }
    },
    {
      "cell_type": "code",
      "source": [
        "N_EPOCHS = 4\n",
        "train_losses = []\n",
        "test_losses = []\n",
        "\n",
        "for epoch in range(N_EPOCHS):\n",
        "  print('EPOCH', epoch)\n",
        "\n",
        "  train_loss = train()\n",
        "  train_losses.append(train_loss)\n",
        "  print('train loss:', train_loss)\n",
        "\n",
        "  test_loss = test()\n",
        "  test_losses.append(test_loss)\n",
        "  print('test loss:', test_loss)\n",
        "\n"
      ],
      "metadata": {
        "id": "27xkwmNtOTj3",
        "colab": {
          "base_uri": "https://localhost:8080/",
          "height": 487,
          "referenced_widgets": [
            "c8648cfa8908416fa9c03c42ae59ad76",
            "4a6f4e108aa8425fb8df0799da95f509",
            "d4f5bf375d4c4a66800b01d3e87aa79c",
            "6c3823d1da9144818e36fa72531c7013",
            "79743e7165d947f891914e661df14aa1",
            "06d6943097324f72aa0e68dac846deff",
            "06790ff5c37146b6bc54a62eed41c1cf",
            "2006ac85563b4c59aa5f5ff03f739a7a",
            "05d725e4d2774e3b8623442045b3f5f4",
            "fb55a5d0f9a34127834492cd09e907d5",
            "0e77022012e54d8e938b167fb12fcba4",
            "2c79242c0df747d8ae98da5470351c98",
            "b63cca63d80c47e6aed5666cfd5c2e10",
            "575e8cb607d146218098cd3fac67a168",
            "ea14b0a445e04e36ada937b28bd2e44a",
            "ddb7049da6a14c089e8d34af80c61306",
            "61ff437b86174f59bee43f4fcd0f8ab7",
            "23fed626b40641e2a3f8ff6c57b7de40",
            "c457c925b1fc404ba3e855a20ead1c9e",
            "f11651537cf84572bd0116b392d22da7",
            "7dcb51fb3a244780b0c49b02aa0fc4ab",
            "47de74c8d7384f2cba99513e677de03b",
            "23af6cbff9184a96859c1a45ba5b2859",
            "8f13c675c30b41f8a83aee827aa3c56b",
            "2c93ed8dafc6497ea791ad08e2a2ab07",
            "6cd8b79f9b5d430c81019b052f627a1e",
            "92cda9e72a8f461aa2e45dcf1f9cea78",
            "7f9ff4f60a58440fb186cd02974c753a",
            "fa69f4343f364e7cb585d9caec1089a7",
            "cd06d8957bc04a0bb7bc2ac8a6dd0033",
            "56a8b40bcd424c34b14f687e15b2b2bc",
            "d4214df0d691423ba000b8d5a1bfe0ad",
            "75855e2b5de4494c9c57ef59a17f8dff",
            "fdb20bab2e39488c83ebe5621e2863f5",
            "e8a3b95c85064b0c9ec91d017642b4be",
            "9086d53528be4f7ca24cf5cacff7cdd3",
            "d59cd0f8635a4f6ebf36d56442a1b4f3",
            "c78524762a0642adad9879b4ccc6b984",
            "f22e2dc574a6458b9a398b9de718cd6f",
            "1c4ea2a15a7541c780a9c74ea7e6d6cc",
            "2de4151146654f61b473b0f9a0dabb42",
            "a127e1c5128d4550a33c90a53c6953ec",
            "2da4103858714d939d830e11ddd3be9c",
            "98c801440fe64cfab6140b843296512b",
            "a8ccc1432b394563a5cb5178ef918061",
            "2dcc33f6aa424147831575c21d1bed75",
            "ae2c0f1713444d2da8e9bbb57ead8f6e",
            "3b085e6b05a34066a5a6fda3f6653dc8",
            "fce8ddeacd064e03970a2dfd68873e8e",
            "d45429a00b2440379a97495d56a71d2d",
            "7a9fbcc87eb14a619d739116e25e5233",
            "7e7d8280835d40bf879ea91244961caf",
            "0cec9f1331094591be1fd3b4db4c0700",
            "06273565346d48a89ec285595044321d",
            "c85f02833c0049a4a97506edddde0f43",
            "60e2ed81439940838e7de6656dff8dcc",
            "05e14dd6c8ff4a808045cdf4fc243d92",
            "93d38b536d76431e94d11c38831acfe9",
            "368fe5168c594a23881b7ad20ae3e91f",
            "bcd809d92e724ddf8f413b29815f1877",
            "f73bb39954104facb8b931a487f697be",
            "feae0946f50741658db34a65f80abaf5",
            "d69914a98af14ae9a6d5240ffcddedbe",
            "d333310389204534b91221b9f859121c",
            "3e6e8eaf33344f5fa10623f427736432",
            "bcbeed6a20f3475ca879d2fc869ed856",
            "d2189d9ef298437ca5662ff9a98854ef",
            "30a4089c91d2462baf30023a7f0f79b0",
            "f889bbd34123450486b3472889a97979",
            "cc1859a113894f5d8c8dce015bc94d32",
            "4f5af3ccf5cc4b0d879788de093be8f1",
            "ab721b1be9df4e5291db7d0695967711",
            "6ebd79b70add43c1aff37c54549b71a8",
            "56580ec73bed4430913b831bc153bc21",
            "434e53094a3e47adb1645b8e42fd90d6",
            "d4e37573684d4b61984bacf1362c4109",
            "165b42902de1481cbfcdf0f00c3a83c9",
            "0363fc0ab0ee44f29d02d4cd06454a9a",
            "718185d76fe949c59f1d5f473de08881",
            "93d6af2d7e87457dbe218432ce74f3ea",
            "d68011ca57c046908c6f2d3f60ab1144",
            "61d9aa56d45045cfa169811becc6748b",
            "d3a6f503713c419e93af9b81d4cd70ad",
            "f7834dc6133d457c80c42d3a6e76bc57",
            "4efde6ce15484b94a4efef82396e365b",
            "6c35bfcb623e4bf6882528005657ef5e",
            "a870013487644a2ba6317aca1a5ad619",
            "6c06f7f5fe2549dbb86475bee0d6659c"
          ]
        },
        "outputId": "854dc168-71ac-40e4-9b08-577850c3f4a4"
      },
      "execution_count": 49,
      "outputs": [
        {
          "output_type": "stream",
          "name": "stdout",
          "text": [
            "EPOCH 0\n"
          ]
        },
        {
          "output_type": "display_data",
          "data": {
            "text/plain": [
              "  0%|          | 0/50000 [00:00<?, ?it/s]"
            ],
            "application/vnd.jupyter.widget-view+json": {
              "version_major": 2,
              "version_minor": 0,
              "model_id": "c8648cfa8908416fa9c03c42ae59ad76"
            }
          },
          "metadata": {}
        },
        {
          "output_type": "stream",
          "name": "stdout",
          "text": [
            "train loss: 3.969145368734002\n"
          ]
        },
        {
          "output_type": "display_data",
          "data": {
            "text/plain": [
              "  0%|          | 0/10000 [00:00<?, ?it/s]"
            ],
            "application/vnd.jupyter.widget-view+json": {
              "version_major": 2,
              "version_minor": 0,
              "model_id": "2c79242c0df747d8ae98da5470351c98"
            }
          },
          "metadata": {}
        },
        {
          "output_type": "stream",
          "name": "stdout",
          "text": [
            "test loss: 3.465841137069464\n",
            "EPOCH 1\n"
          ]
        },
        {
          "output_type": "display_data",
          "data": {
            "text/plain": [
              "  0%|          | 0/50000 [00:00<?, ?it/s]"
            ],
            "application/vnd.jupyter.widget-view+json": {
              "version_major": 2,
              "version_minor": 0,
              "model_id": "23af6cbff9184a96859c1a45ba5b2859"
            }
          },
          "metadata": {}
        },
        {
          "output_type": "stream",
          "name": "stdout",
          "text": [
            "train loss: 3.4586638208177685\n"
          ]
        },
        {
          "output_type": "display_data",
          "data": {
            "text/plain": [
              "  0%|          | 0/10000 [00:00<?, ?it/s]"
            ],
            "application/vnd.jupyter.widget-view+json": {
              "version_major": 2,
              "version_minor": 0,
              "model_id": "fdb20bab2e39488c83ebe5621e2863f5"
            }
          },
          "metadata": {}
        },
        {
          "output_type": "stream",
          "name": "stdout",
          "text": [
            "test loss: 3.2558886172249912\n",
            "EPOCH 2\n"
          ]
        },
        {
          "output_type": "display_data",
          "data": {
            "text/plain": [
              "  0%|          | 0/50000 [00:00<?, ?it/s]"
            ],
            "application/vnd.jupyter.widget-view+json": {
              "version_major": 2,
              "version_minor": 0,
              "model_id": "a8ccc1432b394563a5cb5178ef918061"
            }
          },
          "metadata": {}
        },
        {
          "output_type": "stream",
          "name": "stdout",
          "text": [
            "train loss: 3.2378542634767293\n"
          ]
        },
        {
          "output_type": "display_data",
          "data": {
            "text/plain": [
              "  0%|          | 0/10000 [00:00<?, ?it/s]"
            ],
            "application/vnd.jupyter.widget-view+json": {
              "version_major": 2,
              "version_minor": 0,
              "model_id": "60e2ed81439940838e7de6656dff8dcc"
            }
          },
          "metadata": {}
        },
        {
          "output_type": "stream",
          "name": "stdout",
          "text": [
            "test loss: 3.153835946020484\n",
            "EPOCH 3\n"
          ]
        },
        {
          "output_type": "display_data",
          "data": {
            "text/plain": [
              "  0%|          | 0/50000 [00:00<?, ?it/s]"
            ],
            "application/vnd.jupyter.widget-view+json": {
              "version_major": 2,
              "version_minor": 0,
              "model_id": "d2189d9ef298437ca5662ff9a98854ef"
            }
          },
          "metadata": {}
        },
        {
          "output_type": "stream",
          "name": "stdout",
          "text": [
            "train loss: 3.108586004739106\n"
          ]
        },
        {
          "output_type": "display_data",
          "data": {
            "text/plain": [
              "  0%|          | 0/10000 [00:00<?, ?it/s]"
            ],
            "application/vnd.jupyter.widget-view+json": {
              "version_major": 2,
              "version_minor": 0,
              "model_id": "0363fc0ab0ee44f29d02d4cd06454a9a"
            }
          },
          "metadata": {}
        },
        {
          "output_type": "stream",
          "name": "stdout",
          "text": [
            "test loss: 3.093699891484529\n"
          ]
        }
      ]
    },
    {
      "cell_type": "markdown",
      "source": [
        "Vamos traçar as curvas dos erros do treinamento e do teste."
      ],
      "metadata": {
        "id": "Z_VwwxWVSUDy"
      }
    },
    {
      "cell_type": "code",
      "source": [
        "import matplotlib.pyplot as plt\n",
        "\n",
        "plt.plot(train_losses, label='Train Loss')\n",
        "plt.plot(test_losses, label='Test Loss')\n",
        "plt.legend()\n",
        "plt.show()"
      ],
      "metadata": {
        "id": "BwSiwIoESXmP",
        "colab": {
          "base_uri": "https://localhost:8080/",
          "height": 430
        },
        "outputId": "a749f978-5378-4910-f971-eced5bc68db3"
      },
      "execution_count": 55,
      "outputs": [
        {
          "output_type": "display_data",
          "data": {
            "text/plain": [
              "<Figure size 640x480 with 1 Axes>"
            ],
            "image/png": "[encoded data removed]"
          },
          "metadata": {}
        }
      ]
    },
    {
      "cell_type": "markdown",
      "source": [
        "### Traduzindo"
      ],
      "metadata": {
        "id": "QCjEimiUzV-q"
      }
    },
    {
      "cell_type": "markdown",
      "source": [
        "Para finalizar, vamos testar o modelo e ver o resultado da tradução."
      ],
      "metadata": {
        "id": "zLoQKnzuNaSm"
      }
    },
    {
      "cell_type": "markdown",
      "source": [
        "Para facilitar a visualização dos resultados, criaremos duas funções que vão receber uma lista de ids de tokens e retornar um string com os tokens. Assim, resultando no texto que a lista de ids de tokens representa. Precisamos de duas funções, pois uma usa o vocabulário em inglês e outra o em alemão."
      ],
      "metadata": {
        "id": "UylTQhKTNlm4"
      }
    },
    {
      "cell_type": "code",
      "source": [
        "def to_en_text(ids):\n",
        "  return ' '.join([vocab_en.get_itos()[id] for id in ids])\n",
        "\n",
        "def to_de_text(ids):\n",
        "  return ' '.join([vocab_de.get_itos()[id] for id in ids])"
      ],
      "metadata": {
        "id": "NpVycdhO0Ibp"
      },
      "execution_count": 51,
      "outputs": []
    },
    {
      "cell_type": "markdown",
      "source": [
        "Para a primeira listas de ids de tokens no dataset de teste:"
      ],
      "metadata": {
        "id": "lzY2qga5OuJq"
      }
    },
    {
      "cell_type": "code",
      "source": [
        "test_dataset[0]"
      ],
      "metadata": {
        "id": "ss7XqLAAz_Tg",
        "colab": {
          "base_uri": "https://localhost:8080/"
        },
        "outputId": "2932fdcb-1970-4f75-9cc2-037ef54217f4"
      },
      "execution_count": 52,
      "outputs": [
        {
          "output_type": "execute_result",
          "data": {
            "text/plain": [
              "(tensor([   3,   34,    9, 4495,    2]), tensor([ 0,  4, 41,  2,  1]))"
            ]
          },
          "metadata": {},
          "execution_count": 52
        }
      ]
    },
    {
      "cell_type": "markdown",
      "source": [
        "Temos os seguintes textos:"
      ],
      "metadata": {
        "id": "_j4Z3Mh5QTRA"
      }
    },
    {
      "cell_type": "code",
      "source": [
        "to_en_text(test_dataset[0][0]), to_de_text(test_dataset[0][1])"
      ],
      "metadata": {
        "id": "XHX59Nmn0PN6",
        "colab": {
          "base_uri": "https://localhost:8080/"
        },
        "outputId": "d044a9ba-0262-446c-92da-10a763cb1358"
      },
      "execution_count": 53,
      "outputs": [
        {
          "output_type": "execute_result",
          "data": {
            "text/plain": [
              "(\"i 'm a translator .\", '<sos> ich bin . <eos>')"
            ]
          },
          "metadata": {},
          "execution_count": 53
        }
      ]
    },
    {
      "cell_type": "markdown",
      "source": [
        "No código abaixo, vamos testar a tradução para 10 exemplos do conjunto de teste. Os índices dos exemplos estão na variável `indexes`. Para efetuar a tradução, executaremos o Encoder e em seguida executaremos o Decoder para gerar tokens até ser gerado um `<eos>` ou um total de 50 tokens.\n",
        "\n",
        "O código abaixo possui comentários para explicar o seu funcionamento de forma detalhada."
      ],
      "metadata": {
        "id": "n6kg6s2UQb_D"
      }
    },
    {
      "cell_type": "code",
      "source": [
        "# Índices com os exemplos do dataset de teste que serão traduzidos.\n",
        "indexes = [10, 20, 30, 40, 50, 60, 70, 80, 90, 100]\n",
        "\n",
        "for index in indexes:\n",
        "\n",
        "  # Não vamos atualizar o modelo, por isso, podemos desabilitar o cálculo dos\n",
        "  # gradientes.\n",
        "  with torch.no_grad():\n",
        "    # O exemplo em inglês, que é a entrada, está no índice 0.\n",
        "    source = test_dataset[index][0]\n",
        "\n",
        "    # A saída começa com o token <sos> que é representado pelo índice 0.\n",
        "    target = torch.tensor([0])\n",
        "\n",
        "    print('translating:', to_en_text(source))\n",
        "    print('expected:', to_de_text(test_dataset[index][1]))\n",
        "\n",
        "    # Os dados são passados para a GPU.\n",
        "    source = source.to(device)\n",
        "    target = target.to(device)\n",
        "\n",
        "    # O Encoder é executado. O hidden e o cell aqui retornados são usados na\n",
        "    # primeira execução do Decoder.\n",
        "    hidden, cell = encoder(source)\n",
        "\n",
        "    # O Decoder é executado 50 vezes ou até ser gerado um token <eos>.\n",
        "    result = []\n",
        "    for i in range(50):\n",
        "      output, hidden, cell = decoder(target, hidden, cell)\n",
        "\n",
        "      # O índice do token de saída é o índice com maior valor na saída do Decoder.\n",
        "      target = output.argmax(1)\n",
        "      result.append(target.item())  # O índice é adicionado a lista de resultado.\n",
        "\n",
        "      # Se o token for <eos>, que possui índice 1, a tradução é terminada.\n",
        "      if target.item() == 1:\n",
        "        break\n",
        "\n",
        "    print('result:', to_de_text(result))\n",
        "  print()"
      ],
      "metadata": {
        "id": "02oDoYa7zGCi",
        "colab": {
          "base_uri": "https://localhost:8080/"
        },
        "outputId": "bef5abcf-729e-4938-e5fe-df9a786b12cb"
      },
      "execution_count": 54,
      "outputs": [
        {
          "output_type": "stream",
          "name": "stdout",
          "text": [
            "translating: tom is exactly like his father .\n",
            "expected: <sos> tom ist ganz genau so wie sein vater . <eos>\n",
            "result: tom sieht aus wie sein vater . <eos>\n",
            "\n",
            "translating: i ca n't do that again .\n",
            "expected: <sos> ich kann das nicht noch einmal machen . <eos>\n",
            "result: ich kann das nicht wieder tun . <eos>\n",
            "\n",
            "translating: the cart was in the shed .\n",
            "expected: <sos> der stand i m . <eos>\n",
            "result: die sind in der . <eos>\n",
            "\n",
            "translating: my grandmother on my father 's side has turned one hundred .\n",
            "expected: <sos> meine großmutter väterlicherseits ist hundert geworden . <eos>\n",
            "result: meine mutter hat einen neuen vater . <eos>\n",
            "\n",
            "translating: which movie did you watch today ?\n",
            "expected: <sos> welchen film haben sie heute gesehen ? <eos>\n",
            "result: was hast du heute abend ? <eos>\n",
            "\n",
            "translating: what 's the asking price ?\n",
            "expected: <sos> was ist die ? <eos>\n",
            "result: was ist das von der frage ? <eos>\n",
            "\n",
            "translating: thanks for pointing that out to me .\n",
            "expected: <sos> danke , dass ihr mich darauf habt ! <eos>\n",
            "result: danke mir das , dass du mich nicht . <eos>\n",
            "\n",
            "translating: that child may have been kidnapped on his way home .\n",
            "expected: <sos> das kind wurde möglicherweise auf dem nachhauseweg entführt . <eos>\n",
            "result: seine mutter war , dass er so zu hause habe . <eos>\n",
            "\n",
            "translating: your french is good enough .\n",
            "expected: <sos> dein französisch ist ziemlich gut . <eos>\n",
            "result: du ist gut französisch . <eos>\n",
            "\n",
            "translating: you should do that soon .\n",
            "expected: <sos> sie sollten das bald tun . <eos>\n",
            "result: du solltest das das tun . <eos>\n",
            "\n"
          ]
        }
      ]
    },
    {
      "cell_type": "markdown",
      "source": [
        "Existem acertos, alguns erros menores e outros muito grandes. Muitas melhorias podem ser feitas ainda nesse modelo. Nós treinamos por poucas épocas e também com poucos dados. Além disso, existem melhorias na arquitetura da rede, como a inclusão do mecanismo de atenção que não foi usado na nossa implementação."
      ],
      "metadata": {
        "id": "FQ7XvL0wqqd_"
      }
    }
  ]
}